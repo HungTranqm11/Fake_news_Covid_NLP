{
  "nbformat": 4,
  "nbformat_minor": 0,
  "metadata": {
    "colab": {
      "name": "Fake_Real_Covid_EDA.ipynb",
      "provenance": [],
      "collapsed_sections": [
        "hf2sL62hr_8G",
        "jIEe-ndvsGmg",
        "srAKyWD5zowr",
        "P0qddExIzyw7",
        "f-ofCNAqz83W",
        "o-w7NYqm3faW",
        "Dlla4yRz8Lyc",
        "8DQhOX4c8tX0",
        "od5ugWAX8yl9"
      ],
      "authorship_tag": "ABX9TyNeOHbIjgQLtMvZMrt90Knq"
    },
    "kernelspec": {
      "name": "python3",
      "display_name": "Python 3"
    },
    "language_info": {
      "name": "python"
    }
  },
  "cells": [
    {
      "cell_type": "markdown",
      "metadata": {
        "id": "hf2sL62hr_8G"
      },
      "source": [
        "## Import Library\n",
        "\n"
      ]
    },
    {
      "cell_type": "code",
      "metadata": {
        "id": "pkmC1ZDSqXiL",
        "colab": {
          "base_uri": "https://localhost:8080/"
        },
        "outputId": "3d431c30-0454-4c69-96e7-2b1806830556"
      },
      "source": [
        "pip install bert-for-tf2"
      ],
      "execution_count": null,
      "outputs": [
        {
          "output_type": "stream",
          "name": "stdout",
          "text": [
            "Collecting bert-for-tf2\n",
            "  Downloading bert-for-tf2-0.14.9.tar.gz (41 kB)\n",
            "\u001b[?25l\r\u001b[K     |████████                        | 10 kB 21.9 MB/s eta 0:00:01\r\u001b[K     |████████████████                | 20 kB 7.2 MB/s eta 0:00:01\r\u001b[K     |███████████████████████▉        | 30 kB 5.0 MB/s eta 0:00:01\r\u001b[K     |███████████████████████████████▉| 40 kB 4.9 MB/s eta 0:00:01\r\u001b[K     |████████████████████████████████| 41 kB 118 kB/s \n",
            "\u001b[?25hCollecting py-params>=0.9.6\n",
            "  Downloading py-params-0.10.2.tar.gz (7.4 kB)\n",
            "Collecting params-flow>=0.8.0\n",
            "  Downloading params-flow-0.8.2.tar.gz (22 kB)\n",
            "Requirement already satisfied: numpy in /usr/local/lib/python3.7/dist-packages (from params-flow>=0.8.0->bert-for-tf2) (1.19.5)\n",
            "Requirement already satisfied: tqdm in /usr/local/lib/python3.7/dist-packages (from params-flow>=0.8.0->bert-for-tf2) (4.62.3)\n",
            "Building wheels for collected packages: bert-for-tf2, params-flow, py-params\n",
            "  Building wheel for bert-for-tf2 (setup.py) ... \u001b[?25l\u001b[?25hdone\n",
            "  Created wheel for bert-for-tf2: filename=bert_for_tf2-0.14.9-py3-none-any.whl size=30534 sha256=596993fab7c7d26df1161dce7b960edd8a6851fad6e09ed2d2ff07184cccdc08\n",
            "  Stored in directory: /root/.cache/pip/wheels/47/b6/e5/8c76ec779f54bc5c2f1b57d2200bb9c77616da83873e8acb53\n",
            "  Building wheel for params-flow (setup.py) ... \u001b[?25l\u001b[?25hdone\n",
            "  Created wheel for params-flow: filename=params_flow-0.8.2-py3-none-any.whl size=19473 sha256=63dfd11550061f5b587339ef84ba2044deacdc006b7111fe040d67f4dc0d8036\n",
            "  Stored in directory: /root/.cache/pip/wheels/0e/fc/d2/a44fff33af0f233d7def6e7de413006d57c10e10ad736fe8f5\n",
            "  Building wheel for py-params (setup.py) ... \u001b[?25l\u001b[?25hdone\n",
            "  Created wheel for py-params: filename=py_params-0.10.2-py3-none-any.whl size=7912 sha256=11a59471ffae1a9e7ae80bcbd640a0a4cfb41807e40d507655d0a6ca033ae7fd\n",
            "  Stored in directory: /root/.cache/pip/wheels/e1/11/67/33cc51bbee127cb8fb2ba549cd29109b2f22da43ddf9969716\n",
            "Successfully built bert-for-tf2 params-flow py-params\n",
            "Installing collected packages: py-params, params-flow, bert-for-tf2\n",
            "Successfully installed bert-for-tf2-0.14.9 params-flow-0.8.2 py-params-0.10.2\n"
          ]
        }
      ]
    },
    {
      "cell_type": "code",
      "metadata": {
        "colab": {
          "base_uri": "https://localhost:8080/"
        },
        "id": "iL2zm5633DKU",
        "outputId": "bbe62781-1973-4475-cf19-f21c5309fcee"
      },
      "source": [
        "pip install textblob"
      ],
      "execution_count": null,
      "outputs": [
        {
          "output_type": "stream",
          "name": "stdout",
          "text": [
            "Requirement already satisfied: textblob in /usr/local/lib/python3.7/dist-packages (0.15.3)\n",
            "Requirement already satisfied: nltk>=3.1 in /usr/local/lib/python3.7/dist-packages (from textblob) (3.2.5)\n",
            "Requirement already satisfied: six in /usr/local/lib/python3.7/dist-packages (from nltk>=3.1->textblob) (1.15.0)\n"
          ]
        }
      ]
    },
    {
      "cell_type": "code",
      "metadata": {
        "colab": {
          "base_uri": "https://localhost:8080/"
        },
        "id": "LBVs-hjOgjyM",
        "outputId": "6d7aa64b-32c9-4252-8f31-777052b84313"
      },
      "source": [
        "pip install langdetect"
      ],
      "execution_count": null,
      "outputs": [
        {
          "output_type": "stream",
          "name": "stdout",
          "text": [
            "Collecting langdetect\n",
            "  Downloading langdetect-1.0.9.tar.gz (981 kB)\n",
            "\u001b[K     |████████████████████████████████| 981 kB 2.7 MB/s \n",
            "\u001b[?25hRequirement already satisfied: six in /usr/local/lib/python3.7/dist-packages (from langdetect) (1.15.0)\n",
            "Building wheels for collected packages: langdetect\n",
            "  Building wheel for langdetect (setup.py) ... \u001b[?25l\u001b[?25hdone\n",
            "  Created wheel for langdetect: filename=langdetect-1.0.9-py3-none-any.whl size=993242 sha256=84b1e6e46089ff250fa3757bc03ee3348ce608fed9e9daa9766e3e7e01550849\n",
            "  Stored in directory: /root/.cache/pip/wheels/c5/96/8a/f90c59ed25d75e50a8c10a1b1c2d4c402e4dacfa87f3aff36a\n",
            "Successfully built langdetect\n",
            "Installing collected packages: langdetect\n",
            "Successfully installed langdetect-1.0.9\n"
          ]
        }
      ]
    },
    {
      "cell_type": "code",
      "metadata": {
        "id": "8MVweV1zfkEU",
        "colab": {
          "base_uri": "https://localhost:8080/"
        },
        "outputId": "7aef1e3c-356e-477d-c7a2-63a2668d9cd2"
      },
      "source": [
        "import pandas as pd\n",
        "import numpy as np\n",
        "import json\n",
        "import nltk\n",
        "from nltk.corpus import stopwords\n",
        "from nltk.stem import WordNetLemmatizer\n",
        "from nltk.corpus import wordnet\n",
        "from nltk.stem import PorterStemmer\n",
        "from nltk.stem import LancasterStemmer\n",
        "from nltk.tokenize import sent_tokenize, word_tokenize\n",
        "import spacy\n",
        "from langdetect import detect\n",
        "from nltk.util import ngrams\n",
        "from wordcloud import WordCloud\n",
        "from nltk.tokenize import word_tokenize\n",
        "nltk.download('wordnet')\n",
        "nltk.download('stopwords')\n",
        "stop = stopwords.words('english')\n",
        "nltk.download('punkt')\n",
        "nltk.download('averaged_perceptron_tagger')\n",
        "nltk.download('maxent_ne_chunker')\n",
        "nltk.download('words')\n",
        "\n",
        "import os\n",
        "import matplotlib\n",
        "import matplotlib.pyplot as plt\n",
        "import matplotlib.patches as mpatches\n",
        "import seaborn as sns\n",
        "\n",
        "\n",
        "from sklearn.feature_extraction.text import CountVectorizer\n",
        "from sklearn.feature_extraction.text import TfidfVectorizer\n",
        "from sklearn.model_selection import train_test_split\n",
        "from sklearn.decomposition import PCA, TruncatedSVD\n",
        "from sklearn.metrics import classification_report,confusion_matrix\n",
        "\n",
        "from collections import defaultdict\n",
        "from collections import Counter\n",
        "import nltk\n",
        "nltk.download('stopwords')\n",
        "plt.style.use('ggplot')\n",
        "stop=set(stopwords.words('english'))\n",
        "\n",
        "import re\n",
        "import gensim\n",
        "import string\n",
        "\n",
        "from tqdm import tqdm\n",
        "from keras.preprocessing.text import Tokenizer\n",
        "from keras.preprocessing.sequence import pad_sequences\n",
        "from keras.models import Sequential\n",
        "from keras.layers import Embedding, LSTM,Dense, SpatialDropout1D, Dropout\n",
        "from keras.initializers import Constant\n",
        "from sklearn.model_selection import train_test_split\n",
        "\n",
        "import pathlib \n",
        "import glob \n",
        "\n",
        "import tensorflow as tf\n",
        "from tensorflow.keras.layers import Dense, Input\n",
        "from tensorflow.keras.optimizers import Adam\n",
        "from tensorflow.keras.models import Model\n",
        "from tensorflow.keras.callbacks import ModelCheckpoint\n",
        "import tensorflow_hub as hub\n",
        "\n",
        "from bert import bert_tokenization\n",
        "\n",
        "from sklearn.linear_model import LogisticRegression\n",
        "from sklearn.model_selection import cross_val_score, StratifiedKFold\n",
        "from sklearn.model_selection import GridSearchCV\n",
        "from sklearn.model_selection import KFold\n",
        "from sklearn.pipeline import Pipeline\n",
        "from sklearn.metrics import confusion_matrix, accuracy_score, classification_report\n",
        "from sklearn.metrics import log_loss\n",
        "from sklearn.neighbors import KNeighborsClassifier\n",
        "from sklearn import neighbors\n",
        "from sklearn.tree import DecisionTreeClassifier\n",
        "from sklearn.ensemble import RandomForestClassifier\n",
        "import xgboost as xgb"
      ],
      "execution_count": null,
      "outputs": [
        {
          "output_type": "stream",
          "name": "stdout",
          "text": [
            "[nltk_data] Downloading package wordnet to /root/nltk_data...\n",
            "[nltk_data]   Unzipping corpora/wordnet.zip.\n",
            "[nltk_data] Downloading package stopwords to /root/nltk_data...\n",
            "[nltk_data]   Unzipping corpora/stopwords.zip.\n",
            "[nltk_data] Downloading package punkt to /root/nltk_data...\n",
            "[nltk_data]   Unzipping tokenizers/punkt.zip.\n",
            "[nltk_data] Downloading package averaged_perceptron_tagger to\n",
            "[nltk_data]     /root/nltk_data...\n",
            "[nltk_data]   Unzipping taggers/averaged_perceptron_tagger.zip.\n",
            "[nltk_data] Downloading package maxent_ne_chunker to\n",
            "[nltk_data]     /root/nltk_data...\n",
            "[nltk_data]   Unzipping chunkers/maxent_ne_chunker.zip.\n",
            "[nltk_data] Downloading package words to /root/nltk_data...\n",
            "[nltk_data]   Unzipping corpora/words.zip.\n",
            "[nltk_data] Downloading package stopwords to /root/nltk_data...\n",
            "[nltk_data]   Package stopwords is already up-to-date!\n"
          ]
        }
      ]
    },
    {
      "cell_type": "code",
      "metadata": {
        "id": "VlufxsELw_cM"
      },
      "source": [
        "# Showing Confusion Matrix\n",
        "def plot_cm(y_true, y_pred, title, figsize=(5,5)):\n",
        "    cm = confusion_matrix(y_true, y_pred, labels=np.unique(y_true))\n",
        "    cm_sum = np.sum(cm, axis=1, keepdims=True)\n",
        "    cm_perc = cm / cm_sum.astype(float) * 100\n",
        "    annot = np.empty_like(cm).astype(str)\n",
        "    nrows, ncols = cm.shape\n",
        "    for i in range(nrows):\n",
        "        for j in range(ncols):\n",
        "            c = cm[i, j]\n",
        "            p = cm_perc[i, j]\n",
        "            if i == j:\n",
        "                s = cm_sum[i]\n",
        "                annot[i, j] = '%.1f%%\\n%d/%d' % (p, c, s)\n",
        "            elif c == 0:\n",
        "                annot[i, j] = ''\n",
        "            else:\n",
        "                annot[i, j] = '%.1f%%\\n%d' % (p, c)\n",
        "    cm = pd.DataFrame(cm, columns=np.unique(['Negative', 'Positive']), \n",
        "                     index = np.unique(['Negative', 'Positive']))\n",
        "    cm.index.name = 'Actual'\n",
        "    cm.columns.name = 'Predicted'\n",
        "    fig, ax = plt.subplots(figsize=figsize)\n",
        "    plt.title(title)\n",
        "    sns.heatmap(cm, cmap= \"YlGnBu\", annot=annot, fmt='', ax=ax)"
      ],
      "execution_count": null,
      "outputs": []
    },
    {
      "cell_type": "markdown",
      "metadata": {
        "id": "jIEe-ndvsGmg"
      },
      "source": [
        "## Connect Drive and Create data from Json file"
      ]
    },
    {
      "cell_type": "code",
      "metadata": {
        "colab": {
          "base_uri": "https://localhost:8080/"
        },
        "id": "hEe5u-W4CGIO",
        "outputId": "65f074a1-8755-443a-ba0b-3a2fd93cb3b3"
      },
      "source": [
        "from google.colab import drive\n",
        "drive.mount('/content/gdrive')"
      ],
      "execution_count": null,
      "outputs": [
        {
          "output_type": "stream",
          "name": "stdout",
          "text": [
            "Mounted at /content/gdrive\n"
          ]
        }
      ]
    },
    {
      "cell_type": "code",
      "metadata": {
        "id": "Xa5-jXupM_3e"
      },
      "source": [
        "data = [json.loads(line) for line in open('/content/gdrive/MyDrive/Colab Notebooks/Data Scientist/Final Project/news_collection.json', 'r')]"
      ],
      "execution_count": null,
      "outputs": []
    },
    {
      "cell_type": "code",
      "metadata": {
        "colab": {
          "base_uri": "https://localhost:8080/"
        },
        "id": "QYebbcmnrK3o",
        "outputId": "e204c452-e58d-45bd-8faf-510351c6106c"
      },
      "source": [
        "data[0]"
      ],
      "execution_count": null,
      "outputs": [
        {
          "output_type": "execute_result",
          "data": {
            "text/plain": [
              "{'_id': {'$oid': '5f8911702a4301b0368d10f9'},\n",
              " 'agency': 'webMD',\n",
              " 'claim': 'Coronavirus Is a Breeding Ground for Conspiracy Theories',\n",
              " 'fact_url': 'https://www.snopes.com/news/2020/02/28/coronavirus-is-a-breeding-ground-for-conspiracy-theories/',\n",
              " 'label': 'real',\n",
              " 'lang': 'en',\n",
              " 'news_id': 'webMD-2102578004',\n",
              " 'ref_source': {'_id': {'$oid': '5f338e26dfd2b7a505e3d5c9'},\n",
              "  'authors': ['The Conversation'],\n",
              "  'canonical_link': 'https://www.snopes.com/news/2020/02/28/coronavirus-is-a-breeding-ground-for-conspiracy-theories/',\n",
              "  'html': '<!doctype html>\\n<html lang=\"en-US\">\\n\\n\\t\\n<head>\\n\\t<meta charset=\"utf-8\">\\n\\t<meta http-equiv=\"x-ua-compatible\" content=\"ie=edge\">\\n\\t<meta name=\"viewport\" content=\"width=device-width, initial-scale=1, shrink-to-fit=no\">\\n\\n\\t\\n\\t\\t<link rel=\"dns-prefetch\" href=\"//securepubads.g.doubleclick.net\">\\n\\t<link rel=\"dns-prefetch\" href=\"//static.doubleclick.net\">\\n\\t<link rel=\"dns-prefetch\" href=\"//ib.adnxs.com\">\\n\\t<link rel=\"dns-prefetch\" href=\"//bidder.criteo.com\">\\n\\t<link rel=\"dns-prefetch\" href=\"//static.criteo.net\">\\n\\t<link rel=\"dns-prefetch\" href=\"//as-sec.casalemedia.com\">\\n\\t<link rel=\"dns-prefetch\" href=\"//js-sec.indexww.com\">\\n\\t<link rel=\"dns-prefetch\" href=\"//snopes-d.openx.net\">\\n\\t<link rel=\"dns-prefetch\" href=\"//hbopenbid.pubmatic.com\">\\n\\t<link rel=\"dns-prefetch\" href=\"//fastlane.rubiconproject.com\">\\n\\t<link rel=\"dns-prefetch\" href=\"//ap.lijit.com\">\\n\\t<link rel=\"dns-prefetch\" href=\"//tlx.3lift.com\">\\n\\t<link rel=\"dns-prefetch\" href=\"//storage.cloud.kargo.com\">\\n\\t\\n\\t<script>\\n\\t\\tvar snopes = {\\n\\t\\t\\tdata: {\"siteEnv\":\"production\",\"algoliaIndexPrefix\":\"wp_live_\",\"pageType\":\"single\",\"pageMeta\":{\"id\":\"238360\",\"title\":\"\",\"permalink\":\"https:\\\\/\\\\/www.snopes.com\\\\/news\\\\/2020\\\\/02\\\\/28\\\\/coronavirus-is-a-breeding-ground-for-conspiracy-theories\\\\/\",\"authors\":[{\"id\":\"210048\",\"display_name\":\"The Conversation\",\"url\":\"\",\"bio\":\"\"}],\"categories\":[{\"id\":\"60344\",\"name\":\"Conspiracy Theories\",\"slug\":\"conspiracy\",\"taxonomy\":\"news_category\",\"url\":\"https:\\\\/\\\\/www.snopes.com\\\\/news\\\\/category\\\\/conspiracy\\\\/\"}],\"dates\":{\"originally_published\":\"28 February 2020\",\"last_updated\":\"\"},\"tags\":\"\",\"gaData\":{\"authors\":\"The Conversation\",\"categories\":\"Conspiracy Theories\",\"tags\":\"\"}}}\\t\\t};\\n\\t</script>\\n\\n\\t\\n\\t\\n\\t\\t<script>\\n\\t\\tvar _iub = _iub || [];\\n\\n\\t\\t_iub.csConfiguration = {\\n\\t\\t\\ttcfVersion: 1,\\n\\t\\t\\tgdprAppliesGlobally: false,\\n\\t\\t\\tenableCcpa: true,\\n\\t\\t\\tcountryDetection: true,\\n\\t\\t\\treloadOnConsent: true,\\n\\t\\t\\tconsentOnContinuedBrowsing: false,\\n\\t\\t\\tperPurposeConsent: true,\\n\\t\\t\\tenableCMP: true,\\n\\t\\t\\tisTCFConsentGlobal: false,\\n\\t\\t\\tccpaAcknowledgeOnDisplay: true,\\n\\t\\t\\tlang: \\'en\\',\\n\\t\\t\\tsiteId: 1926816,\\n\\t\\t\\tlogLevel: \\'info\\',\\n\\t\\t\\tcookiePolicyId: 49533561,\\n\\t\\t\\tccpaNoticeDisplay: false,\\n\\t\\t\\tgoogleAdsPreferenceManagement: true,\\n\\t\\t\\tbanner: {\\n\\t\\t\\t\\tbrandTextColor: \\'#333\\',\\n\\t\\t\\t\\tacceptButtonDisplay: true,\\n\\t\\t\\t\\tcustomizeButtonDisplay: true,\\n\\t\\t\\t\\tacceptButtonColor: \\'#000000\\',\\n\\t\\t\\t\\tacceptButtonCaptionColor: \\'#FFFFFF\\',\\n\\t\\t\\t\\tcustomizeButtonColor: \\'#F2F2F2\\',\\n\\t\\t\\t\\tcustomizeButtonCaptionColor: \\'#000000\\',\\n\\t\\t\\t\\trejectButtonDisplay: true,\\n\\t\\t\\t\\trejectButtonColor: \\'#ffffff\\',\\n\\t\\t\\t\\trejectButtonCaptionColor: \\'#000000\\',\\n\\t\\t\\t\\tposition: \\'float-top-center\\',\\n\\t\\t\\t\\ttextColor: \\'#333333\\',\\n\\t\\t\\t\\tbackgroundColor: \\'#FFFFFF\\',\\n\\t\\t\\t\\tfontSize: 15,\\n\\t\\t\\t\\tfontSizeBody: 15\\n\\t\\t\\t}\\n\\t\\t};\\n\\n\\t\\t\\n\\t</script>\\n\\n\\t<title>Coronavirus Is a Breeding Ground for Conspiracy Theories</title>\\n\\n<!-- This site is optimized with the Yoast SEO Premium plugin v13.5 - https://yoast.com/wordpress/plugins/seo/ -->\\n<meta name=\"description\" content=\"Conspiracy theories that claim powerful actors are plotting something sinister to do with the virus have the potential to be just as dangerous for societies as the outbreak itself.\"/>\\n<meta name=\"robots\" content=\"max-snippet:-1, max-image-preview:large, max-video-preview:-1\"/>\\n<link rel=\"canonical\" href=\"https://www.snopes.com/news/2020/02/28/coronavirus-is-a-breeding-ground-for-conspiracy-theories/\" />\\n<meta property=\"og:locale\" content=\"en_US\" />\\n<meta property=\"og:type\" content=\"article\" />\\n<meta property=\"og:title\" content=\"Coronavirus Is a Breeding Ground for Conspiracy Theories\" />\\n<meta property=\"og:description\" content=\"Conspiracy theories that claim powerful actors are plotting something sinister to do with the virus have the potential to be just as dangerous for societies as the outbreak itself.\" />\\n<meta property=\"og:url\" content=\"https://www.snopes.com/news/2020/02/28/coronavirus-is-a-breeding-ground-for-conspiracy-theories/\" />\\n<meta property=\"og:site_name\" content=\"Snopes.com\" />\\n<meta property=\"article:publisher\" content=\"https://www.facebook.com/snopes\" />\\n<meta property=\"fb:app_id\" content=\"1637816429839563\" />\\n<meta property=\"og:image\" content=\"https://www.snopes.com/tachyon/2020/02/ss_virus.jpg\" />\\n<meta property=\"og:image:secure_url\" content=\"https://www.snopes.com/tachyon/2020/02/ss_virus.jpg\" />\\n<meta property=\"og:image:width\" content=\"1200\" />\\n<meta property=\"og:image:height\" content=\"800\" />\\n<meta name=\"twitter:card\" content=\"summary_large_image\" />\\n<meta name=\"twitter:description\" content=\"Conspiracy theories that claim powerful actors are plotting something sinister to do with the virus have the potential to be just as dangerous for societies as the outbreak itself.\" />\\n<meta name=\"twitter:title\" content=\"Coronavirus Is a Breeding Ground for Conspiracy Theories\" />\\n<meta name=\"twitter:site\" content=\"@snopes\" />\\n<meta name=\"twitter:image\" content=\"https://www.snopes.com/tachyon/2020/02/ss_virus.jpg\" />\\n<meta name=\"twitter:creator\" content=\"@snopes\" />\\n<script type=\\'application/ld+json\\' class=\\'yoast-schema-graph yoast-schema-graph--main\\'>{\"@context\":\"https://schema.org\",\"@graph\":[{\"@type\":\"Organization\",\"@id\":\"https://www.snopes.com/#organization\",\"name\":\"Snopes.com\",\"url\":\"https://www.snopes.com/\",\"sameAs\":[\"https://www.facebook.com/snopes\",\"https://www.instagram.com/snopesdotcom/\",\"https://www.linkedin.com/company/snopes.com\",\"https://www.youtube.com/channel/UCHQAmn49BObyOsPHCnKRC4w\",\"https://www.pinterest.com/snopesdotcom/\",\"https://twitter.com/snopes\"],\"logo\":{\"@type\":\"ImageObject\",\"@id\":\"https://www.snopes.com/#logo\",\"inLanguage\":\"en-US\",\"url\":\"https://www.snopes.com/tachyon/2019/11/logo-main.png\",\"width\":346,\"height\":184,\"caption\":\"Snopes.com\"},\"image\":{\"@id\":\"https://www.snopes.com/#logo\"}},{\"@type\":\"WebSite\",\"@id\":\"https://www.snopes.com/#website\",\"url\":\"https://www.snopes.com/\",\"name\":\"Snopes.com\",\"inLanguage\":\"en-US\",\"description\":\"The definitive fact-checking site and reference source for urban legends, folklore, myths, rumors, and misinformation.\",\"publisher\":{\"@id\":\"https://www.snopes.com/#organization\"},\"potentialAction\":[{\"@type\":\"SearchAction\",\"target\":\"https://www.snopes.com/?s={search_term_string}\",\"query-input\":\"required name=search_term_string\"}]},{\"@type\":\"ImageObject\",\"@id\":\"https://www.snopes.com/news/2020/02/28/coronavirus-is-a-breeding-ground-for-conspiracy-theories/#primaryimage\",\"inLanguage\":\"en-US\",\"url\":\"https://www.snopes.com/tachyon/2020/02/ss_virus.jpg\",\"width\":1200,\"height\":800},{\"@type\":\"WebPage\",\"@id\":\"https://www.snopes.com/news/2020/02/28/coronavirus-is-a-breeding-ground-for-conspiracy-theories/#webpage\",\"url\":\"https://www.snopes.com/news/2020/02/28/coronavirus-is-a-breeding-ground-for-conspiracy-theories/\",\"name\":\"Coronavirus Is a Breeding Ground for Conspiracy Theories\",\"isPartOf\":{\"@id\":\"https://www.snopes.com/#website\"},\"inLanguage\":\"en-US\",\"primaryImageOfPage\":{\"@id\":\"https://www.snopes.com/news/2020/02/28/coronavirus-is-a-breeding-ground-for-conspiracy-theories/#primaryimage\"},\"datePublished\":\"2020-02-29T02:54:37+00:00\",\"dateModified\":\"2020-02-29T02:54:37+00:00\",\"description\":\"Conspiracy theories that claim powerful actors are plotting something sinister to do with the virus have the potential to be just as dangerous for societies as the outbreak itself.\",\"breadcrumb\":{\"@id\":\"https://www.snopes.com/news/2020/02/28/coronavirus-is-a-breeding-ground-for-conspiracy-theories/#breadcrumb\"},\"potentialAction\":[{\"@type\":\"ReadAction\",\"target\":[\"https://www.snopes.com/news/2020/02/28/coronavirus-is-a-breeding-ground-for-conspiracy-theories/\"]}]},{\"@type\":\"BreadcrumbList\",\"@id\":\"https://www.snopes.com/news/2020/02/28/coronavirus-is-a-breeding-ground-for-conspiracy-theories/#breadcrumb\",\"itemListElement\":[{\"@type\":\"ListItem\",\"position\":1,\"item\":{\"@type\":\"WebPage\",\"@id\":\"https://www.snopes.com/\",\"url\":\"https://www.snopes.com/\",\"name\":\"Home\"}},{\"@type\":\"ListItem\",\"position\":2,\"item\":{\"@type\":\"WebPage\",\"@id\":\"https://www.snopes.com/news/\",\"url\":\"https://www.snopes.com/news/\",\"name\":\"News\"}},{\"@type\":\"ListItem\",\"position\":3,\"item\":{\"@type\":\"WebPage\",\"@id\":\"https://www.snopes.com/news/category/conspiracy/\",\"url\":\"https://www.snopes.com/news/category/conspiracy/\",\"name\":\"Conspiracy Theories\"}},{\"@type\":\"ListItem\",\"position\":4,\"item\":{\"@type\":\"WebPage\",\"@id\":\"https://www.snopes.com/news/2020/02/28/coronavirus-is-a-breeding-ground-for-conspiracy-theories/\",\"url\":\"https://www.snopes.com/news/2020/02/28/coronavirus-is-a-breeding-ground-for-conspiracy-theories/\",\"name\":\"Coronavirus Is a Breeding Ground for Conspiracy Theories\"}}]},{\"@type\":\"NewsArticle\",\"@id\":\"https://www.snopes.com/news/2020/02/28/coronavirus-is-a-breeding-ground-for-conspiracy-theories/#article\",\"isPartOf\":{\"@id\":\"https://www.snopes.com/news/2020/02/28/coronavirus-is-a-breeding-ground-for-conspiracy-theories/#webpage\"},\"author\":{\"@id\":\"https://www.snopes.com/#/schema/person/952cc57c8915df5a6445c892662f5ff4\"},\"headline\":\"Coronavirus Is a Breeding Ground for Conspiracy Theories\",\"datePublished\":\"2020-02-29T02:54:37+00:00\",\"dateModified\":\"2020-02-29T02:54:37+00:00\",\"commentCount\":0,\"mainEntityOfPage\":{\"@id\":\"https://www.snopes.com/news/2020/02/28/coronavirus-is-a-breeding-ground-for-conspiracy-theories/#webpage\"},\"publisher\":{\"@id\":\"https://www.snopes.com/#organization\"},\"image\":{\"@id\":\"https://www.snopes.com/news/2020/02/28/coronavirus-is-a-breeding-ground-for-conspiracy-theories/#primaryimage\"},\"inLanguage\":\"en-US\",\"copyrightYear\":\"2020\",\"copyrightHolder\":{\"@id\":\"https://www.snopes.com/#organization\"}},{\"@type\":[\"Person\"],\"@id\":\"https://www.snopes.com/#/schema/person/952cc57c8915df5a6445c892662f5ff4\",\"name\":\"David Mikkelson\",\"image\":{\"@type\":\"ImageObject\",\"@id\":\"https://www.snopes.com/#authorlogo\",\"inLanguage\":\"en-US\",\"url\":\"https://www.snopes.com/content/themes/snopes/dist/images/avatar-generic-light.svg\",\"caption\":\"David Mikkelson\"},\"description\":\"David Mikkelson founded the site now known as snopes.com back in 1994 as a creative outgrowth of his wide-ranging interests in a variety of subjects (particularly folklore) and his professional expertise in the computer industry. Handling everything from researching and writing articles about urban legends to managing the site\\\\u2019s technical infrastructure, David saw snopes.com (which antedated the development of automated search engines) quickly become the go-to place for Internet users to query about anything questionable they encountered online, establishing it as the oldest and best known online fact-checking outlet operating today.\\\\r\\\\n\\\\r\\\\nDavid\\\\u2019s educational background includes a B.S. in Computer Science from the University of Texas (San Antonio) and about a zillion course hours of post-graduate classes at California State University Northridge taken with no particular degree program in mind. His previous employment encompassed stints with the News-Chronicle (newspaper), Teledyne Electronics, USPS, JPL, Digital Equipment Corporation, Rocketdyne, and Health Net (HMO).\\\\r\\\\n\\\\r\\\\nIn his ever-dwindling moments of free time away from snopes.com, David can be spotted at board gaming events and conventions.\",\"sameAs\":[\"https://twitter.com/snopes\"]}]}</script>\\n<!-- / Yoast SEO Premium plugin. -->\\n\\n<link rel=\\'dns-prefetch\\' href=\\'//cdn.iubenda.com\\' />\\n<link rel=\\'dns-prefetch\\' href=\\'//c.amazon-adsystem.com\\' />\\n<link rel=\\'dns-prefetch\\' href=\\'//snopes.zeustechnology.com\\' />\\n<link rel=\\'dns-prefetch\\' href=\\'//www.snopes.com\\' />\\n<link rel=\\'dns-prefetch\\' href=\\'//iframe.ly\\' />\\n<link rel=\\'dns-prefetch\\' href=\\'//d3n6i6eorggdxk.cloudfront.net\\' />\\n<link rel=\\'dns-prefetch\\' href=\\'//sdks.shopifycdn.com\\' />\\n<link rel=\\'dns-prefetch\\' href=\\'//fonts.googleapis.com\\' />\\n<link rel=\"alternate\" type=\"application/rss+xml\" title=\"Snopes.com &raquo; Feed\" href=\"https://www.snopes.com/feed/\" />\\n<link rel=\\'stylesheet\\' id=\\'snopes-smg-frontend-css\\'  href=\\'https://www.snopes.com/content/mu-plugins/smg/dist/74d49b224c74497b56cb-frontend.css?ver=f767b330c782ee4a51a284d4020b2177\\' type=\\'text/css\\' integrity=\\'sha384-ubGOt+kmDIqVuEzIVsXMNvMuEyn4pBFwrt+ka3OqGNCezCpBHKDsjL+QAnmMbr/l\\' media=\\'all\\' />\\n<link rel=\\'stylesheet\\' id=\\'vendor/fonts/ibm-plex-sans-css\\'  href=\\'https://fonts.googleapis.com/css?family=IBM+Plex+Sans%3A300%2C400%2C500%2C600%2C700&#038;display=swap&#038;ver=5.3.4\\' type=\\'text/css\\' media=\\'all\\' />\\n<link rel=\\'stylesheet\\' id=\\'vendor/fonts/ibm-plex-serif-css\\'  href=\\'https://fonts.googleapis.com/css?family=IBM+Plex+Serif%3A400%2C500%2C500i%2C600%2C700&#038;display=swap&#038;ver=5.3.4\\' type=\\'text/css\\' media=\\'all\\' />\\n<link rel=\\'stylesheet\\' id=\\'snopes/css/main-css\\'  href=\\'https://www.snopes.com/content/themes/snopes/dist/styles/6ad30134c03d05bd255d-main.css?ver=5.3.4\\' type=\\'text/css\\' integrity=\\'sha384-Tao8YwEFv5qVgBglp56K5jXTweVSjU378dG/aoraXKHceMJhVfYUWZolgc6nbAip\\' media=\\'all\\' />\\n<script type=\\'text/javascript\\' src=\\'https://cdn.iubenda.com/cs/tcf/stub.js?ver=5.3.4\\'></script>\\n<script type=\\'text/javascript\\' src=\\'https://cdn.iubenda.com/cs/tcf/safe-tcf.js?ver=5.3.4\\'></script>\\n<script type=\\'text/javascript\\' src=\\'https://cdn.iubenda.com/cs/ccpa/stub.js?ver=5.3.4\\'></script>\\n<script type=\\'text/javascript\\' async src=\\'https://cdn.iubenda.com/cs/iubenda_cs.js?ver=5.3.4\\'></script>\\n<script type=\\'text/javascript\\' src=\\'https://c.amazon-adsystem.com/aax2/apstag.js?ver=5.3.4\\'></script>\\n<script type=\\'text/javascript\\' src=\\'https://snopes.zeustechnology.com/main.js?ver=5.3.4\\'></script>\\n<script type=\\'text/javascript\\'>\\n/* <![CDATA[ */\\nvar smg = {\"nonce\":\"a921507210\",\"ajax_url\":\"https:\\\\/\\\\/www.snopes.com\\\\/wp-admin\\\\/admin-ajax.php\",\"api\":{\"root_endpoint\":\"https:\\\\/\\\\/www.snopes.com\\\\/wp-json\\\\/smg\\\\/v1\\\\/\",\"nonce\":\"22bad0d454\"},\"page_data\":{\"url\":\"https:\\\\/\\\\/www.snopes.com\\\\/news\\\\/2020\\\\/02\\\\/28\\\\/coronavirus-is-a-breeding-ground-for-conspiracy-theories\\\\/\",\"template\":\"single\",\"content-type\":\"News\",\"post_id\":238360,\"author\":\"1\",\"author_name\":\"David Mikkelson\",\"category\":\"Conspiracy Theories\",\"title\":\"Conspiracy theories that claim powerful actors are plotting something sinister to do with the virus have the potential to be just as dangerous for societies as the outbreak itself.\",\"date_published\":\"28 February 2020\",\"date_updated\":\"\"},\"ads\":{\"url\":\"https:\\\\/\\\\/www.snopes.com\\\\/news\\\\/2020\\\\/02\\\\/28\\\\/coronavirus-is-a-breeding-ground-for-conspiracy-theories\\\\/\",\"template\":\"single\",\"content-type\":\"News\",\"post_id\":238360,\"author\":\"1\",\"author_name\":\"David Mikkelson\",\"category\":\"Conspiracy Theories\",\"title\":\"Conspiracy theories that claim powerful actors are plotting something sinister to do with the virus have the potential to be just as dangerous for societies as the outbreak itself.\",\"date_published\":\"28 February 2020\",\"date_updated\":\"\",\"defaultMainConnector\":\"zeus\",\"placements\":[\"header-1\",\"side-1\",\"side-2\",\"side-3\",\"post-body-1\",\"post-body-2\",\"post-featured-1\",\"post-footer-1\",\"footer-1\",\"sticky-1\"],\"enable\":true},\"is_eu\":\"false\",\"collections\":{\"api\":{\"rootEndpoint\":\"https:\\\\/\\\\/www.snopes.com\\\\/wp-json\\\\/smg\\\\/v1\\\\/\"}},\"auth\":{\"api\":{\"baseUrl\":\"https:\\\\/\\\\/login.snopes.com\",\"clientId\":\"0oacm7328gtJpYUcc356\",\"appId\":\"0oacm7328gtJpYUcc356\",\"redirectUri\":\"https:\\\\/\\\\/www.snopes.com\\\\/wp-json\\\\/okta\\\\/auth\",\"authState\":\"wordpress\",\"nonce\":\"5957dfee30\"},\"widgetConfig\":{\"logo\":\"https:\\\\/\\\\/www.snopes.com\\\\/content\\\\/mu-plugins\\\\/smg\\\\/assets\\\\/images\\\\/login-logo.png\",\"features\":{\"registration\":true}},\"user\":{\"loggedIn\":false,\"logoutUri\":\"https:\\\\/\\\\/www.snopes.com\\\\/wp-json\\\\/okta\\\\/logout?redirect_uri=https%3A%2F%2Fwww.snopes.com%3Faction%3Dlogged-out\",\"loggedOutTimeout\":86400,\"loggedInTimeout\":43200},\"l10n\":{\"signin\":\"Sign in\",\"signout\":\"Sign out\",\"signingIn\":\"Signing in\",\"signingOut\":\"Signing out\"},\"features\":{\"global\":false,\"publicFacing\":false,\"contributionSignup\":false}}};\\n/* ]]> */\\n</script>\\n<script type=\\'text/javascript\\' integrity=\\'sha384-O7aDQxoAxgIwEZK/D7TM5nrOrs+z/iYd/w7wtbSnYpugPdt4nCzWK2+i3C1EiyvS\\' src=\\'https://www.snopes.com/content/mu-plugins/smg/dist/smg.js?ver=22ae1ba6935023ed32ce4268db6a78a5\\'></script>\\n<script type=\\'text/javascript\\' src=\\'https://www.snopes.com/wp-includes/js/jquery/jquery.js?ver=1.12.4-wp\\'></script>\\n<script type=\\'text/javascript\\' src=\\'https://www.snopes.com/wp-includes/js/jquery/jquery-migrate.min.js?ver=1.4.1\\'></script>\\n<script type=\\'text/javascript\\' src=\\'https://d3n6i6eorggdxk.cloudfront.net/script.js?ver=5.3.4\\'></script>\\n<script type=\\'text/javascript\\' src=\\'https://sdks.shopifycdn.com/buy-button/latest/buy-button-storefront.min.js?ver=5.3.4\\'></script>\\n<script type=\\'text/javascript\\' integrity=\\'sha384-WiMgVlxI4uE7RLB7VJLeMXjeF7X2F01dlJyMu8WgidXA3v984R16zrnDAo8QrcPA\\' src=\\'https://www.snopes.com/content/themes/snopes/dist/scripts/1326aa1c6f298075a8c0-utils.js?ver=5.3.4\\'></script>\\n<script type=\\'text/javascript\\'>\\n/* <![CDATA[ */\\nvar snopesPageData = {\"url\":\"https:\\\\/\\\\/www.snopes.com\\\\/news\\\\/2020\\\\/02\\\\/28\\\\/coronavirus-is-a-breeding-ground-for-conspiracy-theories\\\\/\",\"template\":\"single\",\"content-type\":\"News\",\"post_id\":\"238360\",\"author\":\"1\",\"author_name\":\"David Mikkelson\",\"category\":\"Conspiracy Theories\",\"title\":\"Conspiracy theories that claim powerful actors are plotting something sinister to do with the virus have the potential to be just as dangerous for societies as the outbreak itself.\",\"date_published\":\"28 February 2020\",\"date_updated\":\"\"};\\n/* ]]> */\\n</script>\\n<script type=\\'text/javascript\\' integrity=\\'sha384-m1nZXj3ovwGSaqUghESsuZTq2C/tcWckz9tfYadmcEYYSevys55KN5Yz/ghkEg4o\\' src=\\'https://www.snopes.com/content/themes/snopes/dist/scripts/1326aa1c6f298075a8c0-tracking.js?ver=5.3.4\\'></script>\\n<script type=\\'text/javascript\\' integrity=\\'sha384-dW0P7xw8lWqwWDjygx/eNboAdQcdbPi+G7tBhG2NRNMrFoIsPApLQjSpndi3qHjw\\' src=\\'https://www.snopes.com/content/themes/snopes/dist/scripts/1326aa1c6f298075a8c0-font-awesome.js?ver=5.3.4\\'></script>\\n<link rel=\\'https://api.w.org/\\' href=\\'https://www.snopes.com/wp-json/\\' />\\n<link rel=\"EditURI\" type=\"application/rsd+xml\" title=\"RSD\" href=\"https://www.snopes.com/xmlrpc.php?rsd\" />\\n<link rel=\"wlwmanifest\" type=\"application/wlwmanifest+xml\" href=\"https://www.snopes.com/wp-includes/wlwmanifest.xml\" /> \\n<link rel=\\'shortlink\\' href=\\'https://www.snopes.com/?p=238360\\' />\\n<link rel=\"alternate\" type=\"application/json+oembed\" href=\"https://www.snopes.com/wp-json/oembed/1.0/embed?url=https%3A%2F%2Fwww.snopes.com%2Fnews%2F2020%2F02%2F28%2Fcoronavirus-is-a-breeding-ground-for-conspiracy-theories%2F\" />\\n<link rel=\"alternate\" type=\"text/xml+oembed\" href=\"https://www.snopes.com/wp-json/oembed/1.0/embed?url=https%3A%2F%2Fwww.snopes.com%2Fnews%2F2020%2F02%2F28%2Fcoronavirus-is-a-breeding-ground-for-conspiracy-theories%2F&#038;format=xml\" />\\n<!-- Stream WordPress user activity plugin v3.3.0 -->\\n<script>(function(w,d,s,l,i){w[l]=w[l]||[];w[l].push({\"gtm.start\":new Date().getTime(),event:\"gtm.js\"});var f=d.getElementsByTagName(s)[0],j=d.createElement(s),dl=l!=\"dataLayer\"?\"&l=\"+l:\"\";j.async=true;j.src=\"https://www.googletagmanager.com/gtm.js?id=\"+i+dl;f.parentNode.insertBefore(j,f)})(window,document,\"script\",\"dataLayer\",\"GTM-PDFK2Z7\");</script><script>!function(e,n,o,t,c,i){e._Rumble=t,e[t]||(e[t]=function(){(e[t]._=e[t]._||[]).push(arguments),1==e[t]._.length&&(c=n.createElement(o),i=n.getElementsByTagName(o)[0],c.async=1,c.src=\"https://rumble.com/embedJS/ucxbq\"+(arguments[1].video?\".\"+arguments[1].video:\"\")+\"/?url=\"+encodeURIComponent(location.href)+\"&args=\"+encodeURIComponent(JSON.stringify([].slice.apply(arguments))),i.parentNode.insertBefore(c,i))})}(window,document,\"script\",\"Rumble\");</script><script type=\"text/javascript\">var algolia = {\"debug\":false,\"application_id\":\"YFRDX308ZD\",\"search_api_key\":\"7da15c5275374261c3a4bdab2ce5d321\",\"powered_by_enabled\":false,\"query\":\"\",\"autocomplete\":{\"sources\":[],\"input_selector\":\"input[name=\\'s\\']:not(\\'.no-autocomplete\\')\"},\"indices\":{\"searchable_posts\":{\"name\":\"wp_live_searchable_posts\",\"id\":\"searchable_posts\",\"enabled\":true,\"replicas\":[{\"name\":\"wp_live_searchable_posts_post_modified_asc\"},{\"name\":\"wp_live_searchable_posts_post_date_asc\"}]}}};</script><link rel=\"icon\" href=\"https://www.snopes.com/tachyon/2018/06/16-SNO-001_Twitter_Profile_400x400_C.jpg?fit=32,32\" sizes=\"32x32\" />\\n<link rel=\"icon\" href=\"https://www.snopes.com/tachyon/2018/06/16-SNO-001_Twitter_Profile_400x400_C.jpg?fit=192,192\" sizes=\"192x192\" />\\n<link rel=\"apple-touch-icon-precomposed\" href=\"https://www.snopes.com/tachyon/2018/06/16-SNO-001_Twitter_Profile_400x400_C.jpg?fit=180,180\" />\\n<meta name=\"msapplication-TileImage\" content=\"https://www.snopes.com/tachyon/2018/06/16-SNO-001_Twitter_Profile_400x400_C.jpg?fit=270,270\" />\\n\\n\\t\\t\\n\\t\\t<script data-ad-client=\"ca-pub-6608306193529351\" async src=\"https://pagead2.googlesyndication.com/pagead/js/adsbygoogle.js\" class=\"_iub_cs_activate\" data-iub-purposes=\"5\" type=\"text/plain\"></script>\\n\\n\\t\\t<script async src=\"https://storage.cloud.kargo.com/ad/network/klick/klick-snopes.js\" class=\"_iub_cs_activate\" data-iub-purposes=\"5\" type=\"text/plain\"></script>\\n\\t\\n\\t\\t<script>\\n\\t\\t!function (r, u, m, b, l, e) {\\n\\t\\t\\tr._Rumble = b, r[b] || (r[b] = function () {\\n\\t\\t\\t\\t(r[b]._ = r[b]._ || []).push(arguments)\\n\\t\\t\\t\\tif (r[b]._.length == 1) {\\n\\t\\t\\t\\t\\tl = u.createElement(m),\\n\\t\\t\\t\\t\\t\\te = u.getElementsByTagName(m)[0],\\n\\t\\t\\t\\t\\t\\tl.async = 1, l.src = \\'https://rumble.com/embedJS/ucxbq\\' + (arguments[1].video ? \\'.\\' + arguments[1].video : \\'\\') + \\'/?url=\\' + encodeURIComponent(location.href) + \\'&args=\\' + encodeURIComponent(JSON.stringify([].slice.apply(arguments))),\\n\\t\\t\\t\\t\\t\\te.parentNode.insertBefore(l, e)\\n\\t\\t\\t\\t}\\n\\t\\t\\t})\\n\\t\\t}(window, document, \\'script\\', \\'Rumble\\');\\n\\t</script>\\n</head>\\n\\n\\t<body class=\"news-template-default single single-news postid-238360 post-type-news coronavirus-is-a-breeding-ground-for-conspiracy-theories\">\\n\\n\\t\\t<div id=\"blackout\"></div>\\n\\n\\t\\t\\n<div class=\"theme-header-wrapper\">\\n\\t<header class=\"theme-header\">\\n\\t\\t<nav class=\"navbar navbar-light\">\\n\\t\\t\\t<div class=\"container\">\\n\\t\\t\\t\\t\\t\\t\\t\\t<a class=\"mobile-header-link\" title=\"Snopes.com\" href=\"https://www.snopes.com\"></a>\\n\\t\\t\\t\\t<a class=\"theme-brand navbar-brand\" title=\"Snopes.com\" href=\"https://www.snopes.com\">\\n\\t\\t\\t\\t\\t<img class=\"navbar-brand-desktop\" alt=\"Snopes.com\" src=\"https://www.snopes.com/content/themes/snopes/dist/images/logo-main-header.png\" />\\n\\t\\t\\t\\t\\t<img class=\"navbar-brand-mobile\" alt=\"Snopes Logo\" title=\"Snopes.com\" src=\"https://www.snopes.com/content/themes/snopes/dist/images/logo-s-crop-on.svg\">\\n\\t\\t\\t\\t</a>\\n\\t\\t\\t\\t<div class=\"theme-search-wrapper\">\\n\\t\\t\\t\\t\\t<div class=\"form-search-wrapper\">\\n\\t<form class=\"form-search form-inline\" action=\"/\" id=\"body-search\">\\n\\n\\t\\t<input aria-label=\"Search\" class=\"search-input form-control\" placeholder=\"Search Snopes.com\" type=\"search\" name=\"s\" id=\"header-search\" value=\"\"/>\\n\\n\\t\\t<button type=\"submit\" class=\"btn-submit\">\\n\\t\\t\\t<i class=\"fas fa-search\"></i>\\n\\t\\t</button>\\n\\n\\t</form>\\n</div>\\n\\n<nav id=\"menu-primary-navigation\" class=\"nav\">\\n\\t\\n\\t\\t\\n\\t\\t<div class=\"menu-item nav-item support-us\">\\n\\n\\t\\t\\t\\n\\t\\t\\t\\n\\t\\t\\t\\t<a title=\"Become a Member\" href=\"https://www.snopes.com/projects/founding-members/?utm_source=snopes-mobile-menu-support-button&#038;utm_medium=native&#038;utm_campaign=fm2020&#038;utm_content=become-a-member-today\" class=\"nav-link\" itemprop=\"url\">Become a Member</a>\\n\\n\\t\\t\\t\\n\\t\\t</div>\\n\\n\\t\\n\\t\\t\\n\\t\\t<div class=\"menu-item nav-item submit-topic\">\\n\\n\\t\\t\\t\\n\\t\\t\\t\\n\\t\\t\\t\\t<a title=\"Submit a Topic\" href=\"https://www.snopes.com/contact/\" class=\"nav-link\" itemprop=\"url\">Submit a Topic</a>\\n\\n\\t\\t\\t\\n\\t\\t</div>\\n\\n\\t\\n\\t\\t\\n\\t\\t<div class=\"menu-item nav-item shop\">\\n\\n\\t\\t\\t\\n\\t\\t\\t\\n\\t\\t\\t\\t<a title=\"Shop Snopes\" href=\"https://www.snopes.com/shop/\" class=\"nav-link\" itemprop=\"url\">Shop Snopes</a>\\n\\n\\t\\t\\t\\n\\t\\t</div>\\n\\n\\t\\n\\t\\t\\n\\t\\t<div class=\"menu-item nav-item latest\">\\n\\n\\t\\t\\t\\n\\t\\t\\t\\n\\t\\t\\t\\t<a title=\"What&#039;s New\" href=\"https://www.snopes.com/whats-new/\" class=\"nav-link\" itemprop=\"url\">What&#039;s New</a>\\n\\n\\t\\t\\t\\n\\t\\t</div>\\n\\n\\t\\n\\t\\t\\n\\t\\t<div class=\"menu-item nav-item trending\">\\n\\n\\t\\t\\t\\n\\t\\t\\t\\n\\t\\t\\t\\t<a title=\"Hot 50\" href=\"https://www.snopes.com/50-hottest-urban-legends/\" class=\"nav-link\" itemprop=\"url\">Hot 50</a>\\n\\n\\t\\t\\t\\n\\t\\t</div>\\n\\n\\t\\n\\t\\t\\n\\t\\t<div class=\"menu-item nav-item fact-check\">\\n\\n\\t\\t\\t\\n\\t\\t\\t\\n\\t\\t\\t\\t<a title=\"Fact Checks\" href=\"https://www.snopes.com/fact-check/\" class=\"nav-link\" itemprop=\"url\">Fact Checks</a>\\n\\n\\t\\t\\t\\n\\t\\t</div>\\n\\n\\t\\n\\t\\t\\n\\t\\t<div class=\"menu-item nav-item news\">\\n\\n\\t\\t\\t\\n\\t\\t\\t\\n\\t\\t\\t\\t<a title=\"News\" href=\"https://www.snopes.com/news/\" class=\"nav-link\" itemprop=\"url\">News</a>\\n\\n\\t\\t\\t\\n\\t\\t</div>\\n\\n\\t\\n\\t\\t\\n\\t\\t<div class=\"menu-item nav-item video\">\\n\\n\\t\\t\\t\\n\\t\\t\\t\\n\\t\\t\\t\\t<a title=\"Videos\" href=\"https://www.snopes.com/video/\" class=\"nav-link\" itemprop=\"url\">Videos</a>\\n\\n\\t\\t\\t\\n\\t\\t</div>\\n\\n\\t\\n\\t\\t\\n\\t\\t<div class=\"menu-item nav-item index\">\\n\\n\\t\\t\\t\\n\\t\\t\\t\\n\\t\\t\\t\\t<a title=\"Archive\" href=\"https://www.snopes.com/archive/\" class=\"nav-link\" itemprop=\"url\">Archive</a>\\n\\n\\t\\t\\t\\n\\t\\t</div>\\n\\n\\t\\n\\t\\t\\n\\t\\t<div class=\"menu-item nav-item about-us\">\\n\\n\\t\\t\\t\\n\\t\\t\\t\\n\\t\\t\\t\\t<a title=\"About Us\" href=\"https://www.snopes.com/about-snopes/\" class=\"nav-link\" itemprop=\"url\">About Us</a>\\n\\n\\t\\t\\t\\n\\t\\t</div>\\n\\n\\t\\n\\t\\t\\n\\t\\t<div class=\"menu-item nav-item random\">\\n\\n\\t\\t\\t\\n\\t\\t\\t\\n\\t\\t\\t\\t<a title=\"Randomizer\" href=\"https://www.snopes.com/random\" class=\"nav-link\" itemprop=\"url\">Randomizer</a>\\n\\n\\t\\t\\t\\n\\t\\t</div>\\n\\n\\t</nav>\\n\\t\\t\\t\\t</div>\\n\\t\\t\\t\\t<a href=\"https://www.snopes.com/projects/founding-members/?utm_source=snopes-theme-header-button&#038;utm_medium=native&#038;utm_campaign=fm2020&#038;utm_content=support-snopes\" id=\"btn-support-header\" class=\"btn btn-primary\" role=\"button\">Become&nbsp;a&nbsp;Member</a>\\n\\t\\t\\t\\t<button class=\"navbar-toggler\" type=\"button\" data-toggle=\"modal\" data-target=\"#mobileMenu\" aria-controls=\"mobileMenu\" aria-expanded=\"false\" aria-label=\"Toggle Mobile Menu\">\\n\\t\\t\\t\\t\\t<i class=\"fas fa-bars\"></i>\\n\\t\\t\\t\\t</button>\\n\\t\\t\\t</div>\\n\\t\\t</nav>\\n\\t</header>\\n\\t<div id=\"smg-zone-header-after\" class=\"smg-zone smg-zone-header-after\"><div class=\"smg-zone-group smg-zone-group-header-after\"><div class=\"smg-zone-widget smg-zone-widget-alerts-banners-founding-members  \"><div id=\"alert-banner-founding-member\" data-smg-banner=\"alert-banner-founding-member\" class=\"Banner Banner--danger Banner--dismiss\" role=\"alert\">\\n\\t<div class=\"Banner-container\">\\n\\t\\t<a class=\"Banner-content\" href=\"https://www.snopes.com/projects/founding-members/?utm_source=snopes-alert-banner&#038;utm_medium=native&#038;utm_campaign=fm2020&#038;utm_content=become-a-founding-member\">\\n\\t\\t\\t<span class=\"Banner-icon\">\\n\\t\\t\\t\\t<span class=\"icon-news\"></span>\\n\\t\\t\\t</span>\\n\\t\\t\\t<p class=\"Banner-text\">\\n\\t\\t\\t\\tHelp Snopes. <span class=\"link\">Become a Founding Member!</span>\\n\\t\\t\\t</p>\\n\\t\\t</a>\\n\\t\\t<button class=\"Banner-close\" data-smg-banner-dismiss=\"alert-banner-founding-member\">\\n\\t\\t\\t<i class=\"icon-close\"></i>\\n\\t\\t</button>\\n\\t</div>\\n</div>\\n</div></div></div></div>\\n<div id=\"smg-zone-theme-header\" class=\"smg-zone smg-zone-theme-header\"><div class=\"smg-zone-group smg-zone-group-monetized-theme-header\"><div class=\"smg-zone-widget smg-zone-widget-ads-placement  \">\\n\\t<div class=\"PlacementWrapper\" data-ad-placement-id=\"header-1\">\\n\\t\\t\\t\\t\\t<div class=\"Placement-placeholder is-visible\">\\n\\t\\t\\t\\t<div class=\"Placement-loader\"></div>\\n\\t\\t\\t</div>\\n\\t\\t\\t<script type=\"text/javascript\">\\n\\t\\t\\t\\tsmg.ads.load( \\'header-1\\' );\\n\\t\\t\\t</script>\\n\\t\\t\\t</div>\\n\\n</div></div></div>\\n\\t\\t<div class=\"theme-content\">\\n\\n\\t\\t\\t\\n\\t\\t\\t<div class=\"base-wrapper\">\\n\\n\\t\\t\\t\\t<div class=\"base-default\">\\n\\n\\t\\t\\t\\t\\t<main class=\"base-main\" role=\"main\">\\n\\n\\t\\t\\t\\t\\t\\t\\n<script type=\"application/ld+json\">{\"@context\":\"http:\\\\/\\\\/schema.org\",\"@type\":\"WebPage\",\"name\":\"Coronavirus Is a Breeding Ground for Conspiracy Theories\",\"description\":\"Conspiracy theories that claim powerful actors are plotting something sinister to do with the virus have the potential to be just as dangerous for societies as the outbreak itself.\"}</script>\\n\\n<script type=\"application/ld+json\">{\"@context\":\"http:\\\\/\\\\/schema.org\",\"@type\":\"NewsArticle\",\"headline\":\"Coronavirus Is a Breeding Ground for Conspiracy Theories\",\"description\":\"Conspiracy theories that claim powerful actors are plotting something sinister to do with the virus have the potential to be just as dangerous for societies as the outbreak itself.\",\"image\":\"https:\\\\/\\\\/www.snopes.com\\\\/uploads\\\\/2020\\\\/02\\\\/ss_virus.jpg\",\"mainEntityOfPage\":\"https:\\\\/\\\\/www.snopes.com\\\\/news\\\\/2020\\\\/02\\\\/28\\\\/coronavirus-is-a-breeding-ground-for-conspiracy-theories\\\\/\",\"author\":{\"@type\":\"Person\",\"name\":\"David Mikkelson\",\"url\":\"https:\\\\/\\\\/www.snopes.com\\\\/author\\\\/snopes\\\\/\"},\"publisher\":{\"@type\":\"Organization\",\"name\":\"Snopes\",\"url\":\"https:\\\\/\\\\/www.snopes.com\",\"logo\":\"https:\\\\/\\\\/www.snopes.com\\\\/content\\\\/themes\\\\/snopes\\\\/dist\\\\/images\\\\/logo-main.png\",\"sameAs\":[\"https:\\\\/\\\\/twitter.com\\\\/snopes\",\"https:\\\\/\\\\/www.facebook.com\\\\/snopes\\\\/\",\"https:\\\\/\\\\/www.linkedin.com\\\\/company\\\\/snopes.com\"]},\"datePublished\":\"2020-02-28T18:41:00+00:00\",\"dateModified\":\"2020-02-28T18:41:00+00:00\"}</script>\\n\\n<article class=\"snopes-post post-238360 news type-news status-publish has-post-thumbnail hentry news_category-conspiracy\">\\n\\n\\t<div class=\"header-wrapper card\">\\n\\t<div class=\"card-header\">\\n\\t\\n\\n\\t<nav class=\"breadcrumbs\" aria-label=\"breadcrumb\">\\n\\t\\t<ol class=\"breadcrumb\">\\n\\t\\t\\t\\t\\t\\t\\t<li class=\"breadcrumb-item\">\\n\\t\\t\\t\\t\\t<a\\n\\t\\t\\t\\t\\t\\thref=\"https://www.snopes.com/\"\\n\\t\\t\\t\\t\\t\\t\\t\\t\\t\\t\\t>\\n\\t\\t\\t\\t\\t\\tHome\\t\\t\\t\\t\\t</a>\\n\\t\\t\\t\\t</li>\\n\\t\\t\\t\\t\\t\\t\\t\\t<li class=\"breadcrumb-item\">\\n\\t\\t\\t\\t\\t<a\\n\\t\\t\\t\\t\\t\\thref=\"https://www.snopes.com/news/\"\\n\\t\\t\\t\\t\\t\\t\\t\\t\\t\\t\\t>\\n\\t\\t\\t\\t\\t\\tNews\\t\\t\\t\\t\\t</a>\\n\\t\\t\\t\\t</li>\\n\\t\\t\\t\\t\\t\\t\\t\\t<li class=\"breadcrumb-item\">\\n\\t\\t\\t\\t\\t<a\\n\\t\\t\\t\\t\\t\\thref=\"https://www.snopes.com/news/category/conspiracy/\"\\n\\t\\t\\t\\t\\t\\t\\t\\t\\t\\t\\t>\\n\\t\\t\\t\\t\\t\\tConspiracy Theories\\t\\t\\t\\t\\t</a>\\n\\t\\t\\t\\t</li>\\n\\t\\t\\t\\t\\t\\t\\t\\t<li class=\"breadcrumb-item\">\\n\\t\\t\\t\\t\\t<a\\n\\t\\t\\t\\t\\t\\thref=\"https://www.snopes.com/news/2020/02/28/coronavirus-is-a-breeding-ground-for-conspiracy-theories/\"\\n\\t\\t\\t\\t\\t\\taria-current=\"page\"\\t\\t\\t\\t\\t>\\n\\t\\t\\t\\t\\t\\tCoronavirus Is a Breeding Ground for Conspiracy Theories\\t\\t\\t\\t\\t</a>\\n\\t\\t\\t\\t</li>\\n\\t\\t\\t\\t\\t\\t</ol>\\n\\t</nav>\\n\\n\\t</div>\\n\\n\\t<header class=\"post-header\">\\n\\t\\t\\n<h1 class=\"title\">Coronavirus Is a Breeding Ground for Conspiracy Theories</h1>\\n\\n\\t<h2 class=\"subtitle\">Conspiracy theories that claim powerful actors are plotting something sinister to do with the virus have the potential to be just as dangerous for societies as the outbreak itself.</h2>\\n\\n\\n<div class=\"authors-wrapper\">\\n\\n\\t<ul class=\"authors\">\\n\\n\\t\\t\\t\\t\\t<li>\\n\\t\\t\\t\\t\\t\\t\\t\\t\\t<span class=\"author\">The Conversation</span>\\n\\t\\t\\t\\t\\t\\t\\t</li>\\n\\t\\t\\n\\t</ul>\\n\\n</div>\\n\\n<div class=\"dates-wrapper\">\\n\\n\\t<ul class=\"dates\">\\n\\n\\t\\t\\t\\t\\t<li class=\"date-item\">\\n\\t\\t\\t\\t<span class=\"label\">Published</span>\\n\\t\\t\\t\\t<span class=\"date date-published\">28 February 2020</span>\\n\\t\\t\\t</li>\\n\\t\\t\\n\\t\\t\\n\\t</ul>\\n\\n</div>\\n\\t</header>\\n\\n\\t\\n\\n\\t\\n\\t\\n\\t\\t\\n\\t\\t<div class=\"featured-media-wrapper featured-image\">\\n\\n\\t\\t\\t<figure class=\"featured-media\">\\n\\n\\t\\t\\t\\t\\n\\t\\t\\t\\t\\t<div class=\"image-wrapper\">\\n\\t\\t\\t\\t\\t\\t<img\\n\\t\\t\\t\\t\\t\\t\\tsrc=\"https://www.snopes.com/content/themes/snopes/dist/images/lazyload-placeholder.png\"\\n\\t\\t\\t\\t\\t\\t\\tdata-lazy-src=\"https://www.snopes.com/tachyon/2020/02/ss_virus.jpg?resize=865,452\"\\n\\t\\t\\t\\t\\t\\t\\tdata-lazy-srcset=\"https://www.snopes.com/tachyon/2020/02/ss_virus.jpg?resize=80,80&amp;quality=65 80w,https://www.snopes.com/tachyon/2020/02/ss_virus.jpg?resize=180,180&amp;quality=65 180w,https://www.snopes.com/tachyon/2020/02/ss_virus.jpg?resize=375,211&amp;quality=65 375w,https://www.snopes.com/tachyon/2020/02/ss_virus.jpg?resize=416,234&amp;quality=65 416w,https://www.snopes.com/tachyon/2020/02/ss_virus.jpg?resize=542,305&amp;quality=65 542w,https://www.snopes.com/tachyon/2020/02/ss_virus.jpg?resize=733,412&amp;quality=65 733w,https://www.snopes.com/tachyon/2020/02/ss_virus.jpg?resize=865,452&amp;quality=65 865w,https://www.snopes.com/tachyon/2020/02/ss_virus.jpg?resize=1200,630&amp;quality=65 1200w\"\\n\\t\\t\\t\\t\\t\\t\\tdata-lazy-sizes=\"(min-width: 1136px) 810px, 100vw\"\\n\\t\\t\\t\\t\\t\\t\\talt=\"\"\\n\\t\\t\\t\\t\\t\\t>\\n\\t\\t\\t\\t\\t</div>\\t\\n\\n\\t\\t\\t\\t\\n\\t\\t\\t\\t\\n\\t\\t\\t\\t\\t\\t\\t\\t\\t\\t\\t\\t\\t<figcaption class=\"attribution\">\\n\\t\\t\\t\\t\\t\\t\\t\\t\\t\\t\\t\\t\\tImage via Angelina Bambina / Shutterstock\\t\\t\\t\\t\\t\\t\\t\\t\\t\\t\\t</figcaption>\\n\\t\\t\\t\\t\\t\\t\\t</figure>\\n\\t\\t</div>\\n\\n\\t\\t\\n\\t\\n\\n\\t\\n<nav class=\"share-links social-buttons card-footer nav\">\\n\\t<a class=\"nav-item btn-round socialShare-link\" target=\"_blank\" href=\"http://www.facebook.com/sharer.php?u=https%3A%2F%2Fwww.snopes.com%2Fnews%2F2020%2F02%2F28%2Fcoronavirus-is-a-breeding-ground-for-conspiracy-theories%2F\"><i class=\"fab fa-facebook-f\"></i></a>\\n\\t<a class=\"nav-item btn-round socialShare-link\" target=\"_blank\" href=\"https://twitter.com/intent/tweet?url=https%3A%2F%2Fwww.snopes.com%2Fnews%2F2020%2F02%2F28%2Fcoronavirus-is-a-breeding-ground-for-conspiracy-theories%2F&#038;text=Coronavirus%20Is%20a%20Breeding%20Ground%20for%20Conspiracy%20Theories&#038;via=snopes&#038;hashtags=\"><i class=\"fab fa-twitter\"></i></a>\\n\\t<a class=\"nav-item btn-round socialShare-link\" target=\"_blank\" href=\"http://pinterest.com/pin/create/button/?url=https%3A%2F%2Fwww.snopes.com%2Fnews%2F2020%2F02%2F28%2Fcoronavirus-is-a-breeding-ground-for-conspiracy-theories%2F\"><i class=\"fab fa-pinterest\"></i></a>\\n\\t<a class=\"nav-item btn-round socialShare-link\" target=\"_blank\" href=\"https://reddit.com/submit?url=https%3A%2F%2Fwww.snopes.com%2Fnews%2F2020%2F02%2F28%2Fcoronavirus-is-a-breeding-ground-for-conspiracy-theories%2F&#038;title=Coronavirus%20Is%20a%20Breeding%20Ground%20for%20Conspiracy%20Theories\"><i class=\"fab fa-reddit-alien\"></i></a>\\n\\t<a class=\"nav-item btn-round socialShare-link\" target=\"_blank\" href=\"mailto:?subject=Coronavirus%20Is%20a%20Breeding%20Ground%20for%20Conspiracy%20Theories&#038;body=https%3A%2F%2Fwww.snopes.com%2Fnews%2F2020%2F02%2F28%2Fcoronavirus-is-a-breeding-ground-for-conspiracy-theories%2F\"><i class=\"fas fa-envelope\"></i></a>\\n</nav>\\n\\n</div>\\n\\n<div id=\"smg-zone-main-after-feature\" class=\"smg-zone smg-zone-main-after-feature\"><div class=\"smg-zone-group smg-zone-group-monetized-main-after-feature\"><div class=\"smg-zone-widget smg-zone-widget-ads-placement  \">\\n\\t<div class=\"PlacementWrapper\" data-ad-placement-id=\"post-featured-1\">\\n\\t\\t\\t\\t\\t<div class=\"Placement-placeholder is-visible\">\\n\\t\\t\\t\\t<div class=\"Placement-loader\"></div>\\n\\t\\t\\t</div>\\n\\t\\t\\t<script type=\"text/javascript\">\\n\\t\\t\\t\\tsmg.ads.load( \\'post-featured-1\\' );\\n\\t\\t\\t</script>\\n\\t\\t\\t</div>\\n\\n</div></div></div>\\n\\t<div class=\"content-wrapper card\">\\n\\n\\t\\t<div class=\"content\">\\n\\t\\t\\t<html><head><meta http-equiv=\"Content-Type\" content=\"text/html; charset=utf-8\"></head><body><p><em>This article by Daniel Jolley and Pia Lamberty is republished here with permission from <a href=\"https://theconversation.com/us/who-we-are\" rel=\"noopener noreferrer\" target=\"_blank\">The Conversation</a>. This content is shared here because the topic may interest Snopes readers; it does not, however, represent the work of Snopes fact-checkers or editors.</em></p>\\n<p></p><hr>\\n<p>The novel <a href=\"https://theconversation.com/uk/topics/coronavirus-5830\">coronavirus</a> continues to spread around the world, with new cases <a href=\"https://theconversation.com/coronavirus-outbreak-a-new-mapping-tool-that-lets-you-scroll-through-timeline-131422\">being reported all the time</a>. Spreading just as fast, it seems, are conspiracy theories that claim powerful actors are plotting something sinister to do with the virus. Our research into medical conspiracy theories shows that this has the potential to be just as dangerous for societies as the outbreak itself.</p>\\n<p>One <a href=\"https://www.independent.co.uk/infact/coronavirus-outbreak-conspiracy-theories-fake-news-china-wuhan-vaccine-a9308321.html\">conspiracy theory</a> proposes that the coronavirus is actually a bio-weapon engineered by the CIA as a way to wage war on China. Others are convinced that the UK and US governments introduced the coronavirus as a way to make money from a potential vaccine. </p><div id=\"smg-zone-smg-post-body-1\" class=\"smg-zone smg-zone-smg-post-body-1\"><div class=\"smg-zone-group smg-zone-group-monetized-post-body-1\"><div class=\"smg-zone-widget smg-zone-widget-ads-placement  \">\\n\\t<div class=\"PlacementWrapper\" data-ad-placement-id=\"post-body-1\">\\n\\t\\t\\t\\t\\t<div class=\"Placement-placeholder is-visible\">\\n\\t\\t\\t\\t<div class=\"Placement-loader\"></div>\\n\\t\\t\\t</div>\\n\\t\\t\\t<script type=\"text/javascript\">\\n\\t\\t\\t\\tsmg.ads.load( \\'post-body-1\\' );\\n\\t\\t\\t</script>\\n\\t\\t\\t</div>\\n\\n</div></div></div>\\n<p>Although many of these conspiracy theories seem far-fetched, the belief that evil powers are pursuing a secret plan is widespread in every society. Often these relate to health. A large <a href=\"https://d25d2506sfb94s.cloudfront.net/cumulus_uploads/document/2c6lta5kbu/YouGov%20Cambridge%20Globalism%20Project%20-%20Conspiracy%20Theories.pdf\">2019 YouGov poll</a> found 16% of respondents in Spain believe that HIV was created and spread around the world on purpose by a secret group or organisation. And 27% of French and 12% of British <a href=\"https://d25d2506sfb94s.cloudfront.net/cumulus_uploads/document/2c6lta5kbu/YouGov%20Cambridge%20Globalism%20Project%20-%20Conspiracy%20Theories.pdf\">respondents</a> were convinced that “the truth about the harmful effects of vaccines is being deliberately hidden from the public”.</p>\\n<p>The spread of fake news and conspiracy theories around the coronavirus is such a significant problem that the World Health Organisation (WHO) has created a <a href=\"https://www.who.int/emergencies/diseases/novel-coronavirus-2019/advice-for-public/myth-busters\">“myth busters” webpage</a> to try and tackle them.</p>\\n<h2>Spread of conspiracy theories</h2>\\n<p>Research shows that conspiracy theories have a tendency to arise in relation to <a href=\"https://journals.sagepub.com/doi/10.1177/1750698017701615\">moments of crisis in society</a> – like terrorist attacks, rapid political changes or economic crisis. Conspiracy theories bloom in periods of <a href=\"https://onlinelibrary.wiley.com/doi/abs/10.1002/ejsp.1922\">uncertainty and threat</a>, where we seek to make sense of a <a href=\"https://journals.sagepub.com/doi/full/10.1177/0963721417718261\">chaotic world</a>. These are the same conditions produced by virus outbreaks, which explains the spread of conspiracy theories in relation to coronavirus. </p>\\n<p>Similar conditions occurred with the 2015-16 outbreak of Zika virus. <a href=\"https://www.nature.com/articles/s41599-019-0243-8\">Zika conspiracy theories</a> proposed that the virus was a biological weapon rather than a natural occurrence. <a href=\"https://asu.pure.elsevier.com/en/publications/conspiracy-talk-on-social-media-collective-sensemaking-during-a-p\">Research examining</a> comments on Reddit during the Zika virus outbreak found conspiracy talk emerged as a way for people to cope with the extreme uncertainty they felt over Zika. </p>\\n<p class=\"el-img Media-wrapper Media-paragraph\"><img src=\"https://www.snopes.com/content/themes/snopes/dist/images/lazyload-placeholder.png\" alt class=\"aligncenter size-full wp-image-238363 Media--image\" data-lazy-src=\"https://www.snopes.com/tachyon/2020/02/conv_epa.jpg\" data-lazy-srcset=\"https://www.snopes.com/tachyon/2020/02/conv_epa.jpg?w=1200 1200w, https://www.snopes.com/tachyon/2020/02/conv_epa.jpg?resize=768,568 768w\" data-lazy-sizes=\"(max-width: 1200px) 100vw, 1200px\" data-recalc-dims=\"1\"><noscript><img src=\"https://www.snopes.com/tachyon/2020/02/conv_epa.jpg\" alt=\"\" class=\"aligncenter size-full wp-image-238363\" srcset=\"https://www.snopes.com/tachyon/2020/02/conv_epa.jpg?w=1200 1200w, https://www.snopes.com/tachyon/2020/02/conv_epa.jpg?resize=768,568 768w\" sizes=\"(max-width: 1200px) 100vw, 1200px\" data-recalc-dims=\"1\"></noscript></p>\\n<p>Trust in the recommendations from health professionals and organisations is an important resource for dealing with a health crisis. But people who believe in conspiracy theories generally do not trust groups <a href=\"https://econtent.hogrefe.com/doi/10.1027/1864-9335/a000347\">they perceive as powerful</a>, including managers, politicians and drug companies. If people do not trust, they are less likely to follow medical advice.</p>\\n<p>Researchers have shown that medical conspiracy theories have the power to increase <a href=\"https://journals.plos.org/plosone/article?id=10.1371/journal.pone.0089177\">distrust in medical authorities</a>, which can impact people’s willingness to protect themselves. People who endorse <a href=\"https://onlinelibrary.wiley.com/doi/abs/10.1111/ajps.12084\">medical conspiracy theories</a> are less likely to get vaccinated or use antibiotics and are more likely to take herbal supplements or vitamins. Plus, they are more likely to say they would trust medical advice from nonprofessionals such as friends and family. </p><div id=\"smg-zone-smg-post-body-2\" class=\"smg-zone smg-zone-smg-post-body-2\"><div class=\"smg-zone-group smg-zone-group-monetized-post-body-2\"><div class=\"smg-zone-widget smg-zone-widget-ads-placement  \">\\n\\t<div class=\"PlacementWrapper\" data-ad-placement-id=\"post-body-2\">\\n\\t\\t\\t\\t\\t<div class=\"Placement-placeholder is-visible\">\\n\\t\\t\\t\\t<div class=\"Placement-loader\"></div>\\n\\t\\t\\t</div>\\n\\t\\t\\t<script type=\"text/javascript\">\\n\\t\\t\\t\\tsmg.ads.load( \\'post-body-2\\' );\\n\\t\\t\\t</script>\\n\\t\\t\\t</div>\\n\\n</div></div></div>\\n<h2>Severe consequences</h2>\\n<p>In light of these results, people who endorse conspiracy theories about the coronavirus may be less likely to follow <a href=\"https://www.nhs.uk/conditions/coronavirus-covid-19/\">health advice</a> like frequent hand-cleaning with alcohol-based hand rub or soap, or <a href=\"https://www.bbc.co.uk/news/uk-51506729\">self-isolating</a> after visiting at-risk areas.</p>\\n<p>Instead, these people may be more likely to have <a href=\"https://www.ncbi.nlm.nih.gov/pmc/articles/PMC2569474/\">negative attitudes</a> towards prevention behaviour or <a href=\"https://econtent.hogrefe.com/doi/10.1027/1864-9335/a000347\">use dangerous alternatives as treatments</a>. This would increase the likelihood of the virus spreading and put more people in danger.</p>\\n<p>Already, we can see “alternative healing approaches” to coronavirus cropping up – some of them very dangerous. Promoters of the popular <a href=\"https://www.nbcnews.com/tech/tech-news/what-qanon-guide-conspiracy-theory-taking-hold-among-trump-supporters-n897271\">QAnon conspiracy theory</a>, for example, have said the coronavirus was planned by the so-called “<a href=\"https://www.govexec.com/feature/gov-exec-deconstructing-deep-state/\">deep state</a>” and claimed the virus can be warded off by <a href=\"https://www.buzzfeednews.com/article/ryanhatesthis/trump-supporters-coronavirus-deep-state-qanon\">drinking bleach</a>. </p>\\n<p>The spread of medical conspiracy theories can also have severe consequences for other sections of society. For example, during the Black Death in Europe, <a href=\"https://www.nytimes.com/2009/09/01/health/01plague.html\">Jews were scapegoated</a> as responsible for the pandemic. These conspiracy theories led to violent attacks and massacres of Jewish communities all over Europe. The outbreak of the coronavirus has led to a worldwide increase in <a href=\"https://www.theguardian.com/world/2020/jan/31/spate-of-anti-chinese-incidents-in-italy-amid-coronavirus-panic\">racist attacks</a> targeted towards people perceived as East Asian. </p>\\n<p>It is possible to intervene and halt the spread of conspiracy theories, however. Research shows that campaigns promoting <a href=\"https://onlinelibrary.wiley.com/doi/abs/10.1111/jasp.12453\">counterarguments</a> to medical conspiracy theories are likely to have some success in rectifying conspiracy beliefs. Games such as <a href=\"https://www.getbadnews.com/#intro\">Bad News</a>, in which people can take the role of a fake news producer, have been shown to <a href=\"https://www.nature.com/articles/s41599-019-0279-9\">improve</a> people’s ability to spot and resist misinformation. </p>\\n<p class=\"el-img Media-wrapper Media-paragraph\">Conspiracy theories can be very harmful for society. Not only can they influence people’s health choices, they can interfere with how <a href=\"https://theconversation.com/conspiracy-theories-fuel-prejudice-towards-minority-groups-113508\">different groups relate to each other</a> and <a href=\"https://www.tandfonline.com/doi/abs/10.1080/00224545.2019.1586637?journalCode=vsoc20\">increase hostility</a> <a href=\"https://www.oxfordscholarship.com/view/10.1093/acprof:oso/9780199351800.001.0001/acprof-9780199351800\">and violence</a> towards those who are perceived to be “conspiring”. So as well as acting to combat the spread of the coronavirus, governments should also act to stop misinformation and conspiracy theories relating to the virus from getting out of hand.<br>\\n<!-- Below is The Conversation\\'s page counter tag. Please DO NOT REMOVE. --><img src=\"https://www.snopes.com/content/themes/snopes/dist/images/lazyload-placeholder.png\" alt=\"The Conversation\" width=\"1\" height=\"1\" style=\"border: none !important;margin: 0 !important;max-height: 1px !important;max-width: 1px !important;min-height: 1px !important;min-width: 1px !important;padding: 0 !important\" data-lazy-src=\"https://counter.theconversation.com/content/132489/count.gif?distributor=republish-lightbox-basic\" class=\"Media--image\"><noscript><img src=\"https://counter.theconversation.com/content/132489/count.gif?distributor=republish-lightbox-basic\" alt=\"The Conversation\" width=\"1\" height=\"1\" style=\"border: none !important;margin: 0 !important;max-height: 1px !important;max-width: 1px !important;min-height: 1px !important;min-width: 1px !important;padding: 0 !important\"></noscript><!-- End of code. If you don\\'t see any code above, please get new code from the Advanced tab after you click the republish button. The page counter does not collect any personal data. More info: http://theconversation.com/republishing-guidelines --></p>\\n<p></p><hr>\\n<p><span><a href=\"https://theconversation.com/profiles/daniel-jolley-275870\">Daniel Jolley</a>, Senior Lecturer in Psychology, <em><a href=\"https://theconversation.com/institutions/northumbria-university-newcastle-821\">Northumbria University, Newcastle</a></em> and <a href=\"https://theconversation.com/profiles/pia-lamberty-977464\">Pia Lamberty</a>, PhD Researcher in Social and Legal Psychology, <em><a href=\"https://theconversation.com/institutions/johannes-gutenberg-university-of-mainz-1076\">Johannes Gutenberg University of Mainz</a></em></span></p>\\n<p>This article is republished from <a href=\"http://theconversation.com\">The Conversation</a> under a Creative Commons license. Read the <a href=\"https://theconversation.com/coronavirus-is-a-breeding-ground-for-conspiracy-theories-heres-why-thats-a-serious-problem-132489\">original article</a>.</p>\\n\\n</body></html>\\n\\t\\t</div>\\n\\n\\t\\t\\n<div class=\"footer-wrapper\">\\n\\n\\t<footer>\\n\\n\\t\\t<ul>\\n\\n\\t\\t\\t\\n\\t\\t\\t\\n\\t\\t\\t\\n\\t\\t\\t\\n\\t\\t\\t\\t<li class=\"date date-published\">\\n\\t\\t\\t\\t\\t<span class=\"label\">Published</span> <span>28 February 2020</span>\\n\\t\\t\\t\\t</li>\\n\\n\\t\\t\\t\\n\\t\\t\\t<li class=\"authors-wrapper\">\\n\\t\\t\\t\\t<div class=\"label\"><span>By</span></div>\\n\\t\\t\\t\\t<ul class=\"authors\">\\n\\t\\t\\t\\t\\t\\t\\t\\t\\t\\t\\t<li class=\"author\">\\n\\t\\t\\t\\t\\t\\t\\t\\t\\t\\t\\t\\t\\t\\t\\t<span class=\"author\">The Conversation</span>\\n\\t\\t\\t\\t\\t\\t\\t\\t\\t\\t\\t\\t\\t</li>\\n\\t\\t\\t\\t\\t\\t\\t\\t\\t</ul>\\n\\t\\t\\t</li>\\n\\n\\t\\t\\t\\n\\t\\t\\t\\n\\t\\t</ul>\\n\\n\\t</footer>\\n</div>\\n\\n\\t</div>\\n\\n</article>\\n<div id=\"smg-zone-main-footer\" class=\"smg-zone smg-zone-main-footer\"><div class=\"smg-zone-group smg-zone-group-monetized-main-footer\"><div class=\"smg-zone-widget smg-zone-widget-ads-placement  \">\\n\\t<div class=\"PlacementWrapper\" data-ad-placement-id=\"post-footer-1\">\\n\\t\\t\\t\\t\\t<div class=\"Placement-placeholder is-visible\">\\n\\t\\t\\t\\t<div class=\"Placement-loader\"></div>\\n\\t\\t\\t</div>\\n\\t\\t\\t<script type=\"text/javascript\">\\n\\t\\t\\t\\tsmg.ads.load( \\'post-footer-1\\' );\\n\\t\\t\\t</script>\\n\\t\\t\\t</div>\\n\\n</div><div class=\"smg-zone-widget smg-zone-widget-cards-lists-editors-picks  \">\\n\\t<div class=\"card\">\\n\\t\\t<h3 class=\"card-header\">Editors\\' Picks</h3>\\n\\t\\t<div class=\"media-list\">\\n\\t\\t\\t\\n<article class=\"media-wrapper\" >\\n\\n\\t<a class=\"media post-263895 news type-news status-publish has-post-thumbnail hentry tag-editors-picks news_category-science\" href=\"https://www.snopes.com/news/2020/08/04/shellenberger-climate-change/\">\\n\\n\\t\\t<figure class=\"featured-media\">\\n\\n\\t\\t\\t\\n\\t\\t\\t\\t<img\\n\\t\\t\\t\\t\\tsrc=\"https://www.snopes.com/content/themes/snopes/dist/images/lazyload-placeholder.png\"\\n\\t\\t\\t\\t\\tdata-lazy-src=\"https://www.snopes.com/tachyon/2020/08/Screenshot_2020-08-04-Featured-Image-Templates.png?resize=865,452\"\\n\\t\\t\\t\\t\\tdata-lazy-srcset=\"https://www.snopes.com/tachyon/2020/08/Screenshot_2020-08-04-Featured-Image-Templates.png?resize=80,80&amp;quality=65 80w,https://www.snopes.com/tachyon/2020/08/Screenshot_2020-08-04-Featured-Image-Templates.png?resize=180,180&amp;quality=65 180w,https://www.snopes.com/tachyon/2020/08/Screenshot_2020-08-04-Featured-Image-Templates.png?resize=375,211&amp;quality=65 375w,https://www.snopes.com/tachyon/2020/08/Screenshot_2020-08-04-Featured-Image-Templates.png?resize=416,234&amp;quality=65 416w,https://www.snopes.com/tachyon/2020/08/Screenshot_2020-08-04-Featured-Image-Templates.png?resize=542,305&amp;quality=65 542w,https://www.snopes.com/tachyon/2020/08/Screenshot_2020-08-04-Featured-Image-Templates.png?resize=733,412&amp;quality=65 733w,https://www.snopes.com/tachyon/2020/08/Screenshot_2020-08-04-Featured-Image-Templates.png?resize=865,452&amp;quality=65 865w,https://www.snopes.com/tachyon/2020/08/Screenshot_2020-08-04-Featured-Image-Templates.png?resize=1200,630&amp;quality=65 1200w\"\\n\\t\\t\\t\\t\\tdata-lazy-sizes=\"(min-width: 768px) 160px, 100vw\"\\n\\t\\t\\t\\t\\talt=\"Shellenberger&#8217;s Optimistic, Viral Take on Climate Future Challenged by Scientists He Cites\"\\n\\t\\t\\t\\t>\\n\\n\\t\\t\\t\\n\\t\\t\\t\\n\\t\\t</figure>\\n\\n\\t\\t<div class=\"media-body-wrapper\">\\n\\n\\t\\t\\t<div class=\"media-body\">\\n\\n\\t\\t\\t\\t<h5 class=\"title\">Shellenberger&#8217;s Optimistic, Viral Take on Climate Future Challenged by Scientists He Cites</h5>\\n\\n\\t\\t\\t\\t<div class=\"meta-data\">\\n\\t\\t\\t\\t\\t<ul class=\"breadcrumb\">\\n\\t\\t\\t\\t\\t\\t<li class=\"date breadcrumb-item\">\\n\\t\\t\\t\\t\\t\\t\\t\\t\\t\\t\\t\\t\\t\\t\\t4 August 2020\\t\\t\\t\\t\\t\\t\\t\\t\\t\\t\\t\\t\\t</li>\\n\\t\\t\\t\\t\\t\\t<li class=\"post-type breadcrumb-item\">\\n\\t\\t\\t\\t\\t\\t\\tNews\\t\\t\\t\\t\\t\\t</li>\\n\\t\\t\\t\\t\\t</ul>\\n\\t\\t\\t\\t</div>\\n\\n\\t\\t\\t\\t\\t\\t\\t\\t\\t<p class=\"subtitle\">Activist Michael Shellenberger argues that fears of a future climate-driven apocalypse are unfounded. But several scientists he cites told Snopes he misunderstands — or mischaracterizes — their research.</p>\\n\\t\\t\\t\\t\\n\\t\\t\\t</div>\\n\\n\\t\\t</div>\\n\\n\\t</a>\\n\\n</article>\\n\\n\\n<article class=\"media-wrapper\" >\\n\\n\\t<a class=\"media post-264495 fact_check type-fact_check status-publish has-post-thumbnail hentry fact_check_category-business-politics fact_check_category-politics fact_check_rating-true\" href=\"https://www.snopes.com/fact-check/email-google-plus-settlement/\">\\n\\n\\t\\t<figure class=\"featured-media\">\\n\\n\\t\\t\\t\\n\\t\\t\\t\\t<img\\n\\t\\t\\t\\t\\tsrc=\"https://www.snopes.com/content/themes/snopes/dist/images/lazyload-placeholder.png\"\\n\\t\\t\\t\\t\\tdata-lazy-src=\"https://www.snopes.com/tachyon/2020/08/Featured-Image-Backgrounds-10.png?resize=865,452\"\\n\\t\\t\\t\\t\\tdata-lazy-srcset=\"https://www.snopes.com/tachyon/2020/08/Featured-Image-Backgrounds-10.png?resize=80,80&amp;quality=65 80w,https://www.snopes.com/tachyon/2020/08/Featured-Image-Backgrounds-10.png?resize=180,180&amp;quality=65 180w,https://www.snopes.com/tachyon/2020/08/Featured-Image-Backgrounds-10.png?resize=375,211&amp;quality=65 375w,https://www.snopes.com/tachyon/2020/08/Featured-Image-Backgrounds-10.png?resize=416,234&amp;quality=65 416w,https://www.snopes.com/tachyon/2020/08/Featured-Image-Backgrounds-10.png?resize=542,305&amp;quality=65 542w,https://www.snopes.com/tachyon/2020/08/Featured-Image-Backgrounds-10.png?resize=733,412&amp;quality=65 733w,https://www.snopes.com/tachyon/2020/08/Featured-Image-Backgrounds-10.png?resize=865,452&amp;quality=65 865w,https://www.snopes.com/tachyon/2020/08/Featured-Image-Backgrounds-10.png?resize=1200,630&amp;quality=65 1200w\"\\n\\t\\t\\t\\t\\tdata-lazy-sizes=\"(min-width: 768px) 160px, 100vw\"\\n\\t\\t\\t\\t\\talt=\"Is This Email About a Google Plus Settlement Real?\"\\n\\t\\t\\t\\t>\\n\\n\\t\\t\\t\\n\\t\\t\\t\\n\\t\\t</figure>\\n\\n\\t\\t<div class=\"media-body-wrapper\">\\n\\n\\t\\t\\t<div class=\"media-body\">\\n\\n\\t\\t\\t\\t<h5 class=\"title\">Is This Email About a Google Plus Settlement Real?</h5>\\n\\n\\t\\t\\t\\t<div class=\"meta-data\">\\n\\t\\t\\t\\t\\t<ul class=\"breadcrumb\">\\n\\t\\t\\t\\t\\t\\t<li class=\"date breadcrumb-item\">\\n\\t\\t\\t\\t\\t\\t\\t\\t\\t\\t\\t\\t\\t\\t\\t7 August 2020\\t\\t\\t\\t\\t\\t\\t\\t\\t\\t\\t\\t\\t</li>\\n\\t\\t\\t\\t\\t\\t<li class=\"post-type breadcrumb-item\">\\n\\t\\t\\t\\t\\t\\t\\tFact Check\\t\\t\\t\\t\\t\\t</li>\\n\\t\\t\\t\\t\\t</ul>\\n\\t\\t\\t\\t</div>\\n\\n\\t\\t\\t\\t\\t\\t\\t\\t\\t<p class=\"subtitle\">If you were a Google Plus user between 2015 and early 2019, you could receive compensation from this class action lawsuit.</p>\\n\\t\\t\\t\\t\\n\\t\\t\\t</div>\\n\\n\\t\\t</div>\\n\\n\\t</a>\\n\\n</article>\\n\\n\\n<article class=\"media-wrapper\" >\\n\\n\\t<a class=\"media post-264365 fact_check type-fact_check status-publish has-post-thumbnail hentry tag-covid-19 fact_check_category-medical fact_check_rating-false\" href=\"https://www.snopes.com/fact-check/face-masks-legionnaires-disease/\">\\n\\n\\t\\t<figure class=\"featured-media\">\\n\\n\\t\\t\\t\\n\\t\\t\\t\\t<img\\n\\t\\t\\t\\t\\tsrc=\"https://www.snopes.com/content/themes/snopes/dist/images/lazyload-placeholder.png\"\\n\\t\\t\\t\\t\\tdata-lazy-src=\"https://www.snopes.com/tachyon/2020/08/mask.jpg?resize=865,452\"\\n\\t\\t\\t\\t\\tdata-lazy-srcset=\"https://www.snopes.com/tachyon/2020/08/mask.jpg?resize=80,80&amp;quality=65 80w,https://www.snopes.com/tachyon/2020/08/mask.jpg?resize=180,180&amp;quality=65 180w,https://www.snopes.com/tachyon/2020/08/mask.jpg?resize=375,211&amp;quality=65 375w,https://www.snopes.com/tachyon/2020/08/mask.jpg?resize=416,234&amp;quality=65 416w,https://www.snopes.com/tachyon/2020/08/mask.jpg?resize=542,305&amp;quality=65 542w,https://www.snopes.com/tachyon/2020/08/mask.jpg?resize=733,412&amp;quality=65 733w,https://www.snopes.com/tachyon/2020/08/mask.jpg?resize=865,452&amp;quality=65 865w,https://www.snopes.com/tachyon/2020/08/mask.jpg?resize=1200,630&amp;quality=65 1200w\"\\n\\t\\t\\t\\t\\tdata-lazy-sizes=\"(min-width: 768px) 160px, 100vw\"\\n\\t\\t\\t\\t\\talt=\"Can You Get Legionnaires’ Disease from Face Masks?\"\\n\\t\\t\\t\\t>\\n\\n\\t\\t\\t\\n\\t\\t\\t\\n\\t\\t</figure>\\n\\n\\t\\t<div class=\"media-body-wrapper\">\\n\\n\\t\\t\\t<div class=\"media-body\">\\n\\n\\t\\t\\t\\t<h5 class=\"title\">Can You Get Legionnaires’ Disease from Face Masks?</h5>\\n\\n\\t\\t\\t\\t<div class=\"meta-data\">\\n\\t\\t\\t\\t\\t<ul class=\"breadcrumb\">\\n\\t\\t\\t\\t\\t\\t<li class=\"date breadcrumb-item\">\\n\\t\\t\\t\\t\\t\\t\\t\\t\\t\\t\\t\\t\\t\\t\\t6 August 2020\\t\\t\\t\\t\\t\\t\\t\\t\\t\\t\\t\\t\\t</li>\\n\\t\\t\\t\\t\\t\\t<li class=\"post-type breadcrumb-item\">\\n\\t\\t\\t\\t\\t\\t\\tFact Check\\t\\t\\t\\t\\t\\t</li>\\n\\t\\t\\t\\t\\t</ul>\\n\\t\\t\\t\\t</div>\\n\\n\\t\\t\\t\\t\\t\\t\\t\\t\\t<p class=\"subtitle\">Rumors about masks are getting more creative, but health experts still recommend wearing cloth face coverings to help slow the spread of COVID-19.</p>\\n\\t\\t\\t\\t\\n\\t\\t\\t</div>\\n\\n\\t\\t</div>\\n\\n\\t</a>\\n\\n</article>\\n\\n\\n<article class=\"media-wrapper\" >\\n\\n\\t<a class=\"media post-254668 news type-news status-publish has-post-thumbnail hentry tag-editors-picks tag-george-floyd news_category-crime\" href=\"https://www.snopes.com/news/2020/06/12/george-floyd-criminal-record/\">\\n\\n\\t\\t<figure class=\"featured-media\">\\n\\n\\t\\t\\t\\n\\t\\t\\t\\t<img\\n\\t\\t\\t\\t\\tsrc=\"https://www.snopes.com/content/themes/snopes/dist/images/lazyload-placeholder.png\"\\n\\t\\t\\t\\t\\tdata-lazy-src=\"https://www.snopes.com/tachyon/2020/06/GettyImages-1219415592.jpg?resize=865,452\"\\n\\t\\t\\t\\t\\tdata-lazy-srcset=\"https://www.snopes.com/tachyon/2020/06/GettyImages-1219415592.jpg?resize=80,80&amp;quality=65 80w,https://www.snopes.com/tachyon/2020/06/GettyImages-1219415592.jpg?resize=180,180&amp;quality=65 180w,https://www.snopes.com/tachyon/2020/06/GettyImages-1219415592.jpg?resize=375,211&amp;quality=65 375w,https://www.snopes.com/tachyon/2020/06/GettyImages-1219415592.jpg?resize=416,234&amp;quality=65 416w,https://www.snopes.com/tachyon/2020/06/GettyImages-1219415592.jpg?resize=542,305&amp;quality=65 542w,https://www.snopes.com/tachyon/2020/06/GettyImages-1219415592.jpg?resize=733,412&amp;quality=65 733w,https://www.snopes.com/tachyon/2020/06/GettyImages-1219415592.jpg?resize=865,452&amp;quality=65 865w,https://www.snopes.com/tachyon/2020/06/GettyImages-1219415592.jpg?resize=1200,630&amp;quality=65 1200w\"\\n\\t\\t\\t\\t\\tdata-lazy-sizes=\"(min-width: 768px) 160px, 100vw\"\\n\\t\\t\\t\\t\\talt=\"Background Check: Investigating George Floyd’s Criminal Record\"\\n\\t\\t\\t\\t>\\n\\n\\t\\t\\t\\n\\t\\t\\t\\n\\t\\t</figure>\\n\\n\\t\\t<div class=\"media-body-wrapper\">\\n\\n\\t\\t\\t<div class=\"media-body\">\\n\\n\\t\\t\\t\\t<h5 class=\"title\">Background Check: Investigating George Floyd’s Criminal Record</h5>\\n\\n\\t\\t\\t\\t<div class=\"meta-data\">\\n\\t\\t\\t\\t\\t<ul class=\"breadcrumb\">\\n\\t\\t\\t\\t\\t\\t<li class=\"date breadcrumb-item\">\\n\\t\\t\\t\\t\\t\\t\\t\\t\\t\\t\\t\\t\\t\\t\\t12 June 2020\\t\\t\\t\\t\\t\\t\\t\\t\\t\\t\\t\\t\\t</li>\\n\\t\\t\\t\\t\\t\\t<li class=\"post-type breadcrumb-item\">\\n\\t\\t\\t\\t\\t\\t\\tNews\\t\\t\\t\\t\\t\\t</li>\\n\\t\\t\\t\\t\\t</ul>\\n\\t\\t\\t\\t</div>\\n\\n\\t\\t\\t\\t\\t\\t\\t\\t\\t<p class=\"subtitle\">The question of past arrests often surfaces among people who want to rationalize police officers\\' actions when Black men are killed in custody.</p>\\n\\t\\t\\t\\t\\n\\t\\t\\t</div>\\n\\n\\t\\t</div>\\n\\n\\t</a>\\n\\n</article>\\n\\n\\n<article class=\"media-wrapper\" >\\n\\n\\t<a class=\"media post-263478 fact_check type-fact_check status-publish has-post-thumbnail hentry tag-2020-election tag-editors-picks fact_check_category-ballot-box fact_check_category-politics fact_check_rating-unproven\" href=\"https://www.snopes.com/fact-check/usps-slowing-mail-trump/\">\\n\\n\\t\\t<figure class=\"featured-media\">\\n\\n\\t\\t\\t\\n\\t\\t\\t\\t<img\\n\\t\\t\\t\\t\\tsrc=\"https://www.snopes.com/content/themes/snopes/dist/images/lazyload-placeholder.png\"\\n\\t\\t\\t\\t\\tdata-lazy-src=\"https://www.snopes.com/tachyon/2020/07/United_States_Postal_Service_HQ_-_LEnfant_Plaza_West_Bldg_-_Washington_DC_-_signage.jpeg?resize=865,452\"\\n\\t\\t\\t\\t\\tdata-lazy-srcset=\"https://www.snopes.com/tachyon/2020/07/United_States_Postal_Service_HQ_-_LEnfant_Plaza_West_Bldg_-_Washington_DC_-_signage.jpeg?resize=80,80&amp;quality=65 80w,https://www.snopes.com/tachyon/2020/07/United_States_Postal_Service_HQ_-_LEnfant_Plaza_West_Bldg_-_Washington_DC_-_signage.jpeg?resize=180,180&amp;quality=65 180w,https://www.snopes.com/tachyon/2020/07/United_States_Postal_Service_HQ_-_LEnfant_Plaza_West_Bldg_-_Washington_DC_-_signage.jpeg?resize=375,211&amp;quality=65 375w,https://www.snopes.com/tachyon/2020/07/United_States_Postal_Service_HQ_-_LEnfant_Plaza_West_Bldg_-_Washington_DC_-_signage.jpeg?resize=416,234&amp;quality=65 416w,https://www.snopes.com/tachyon/2020/07/United_States_Postal_Service_HQ_-_LEnfant_Plaza_West_Bldg_-_Washington_DC_-_signage.jpeg?resize=542,305&amp;quality=65 542w,https://www.snopes.com/tachyon/2020/07/United_States_Postal_Service_HQ_-_LEnfant_Plaza_West_Bldg_-_Washington_DC_-_signage.jpeg?resize=733,412&amp;quality=65 733w,https://www.snopes.com/tachyon/2020/07/United_States_Postal_Service_HQ_-_LEnfant_Plaza_West_Bldg_-_Washington_DC_-_signage.jpeg?resize=865,452&amp;quality=65 865w,https://www.snopes.com/tachyon/2020/07/United_States_Postal_Service_HQ_-_LEnfant_Plaza_West_Bldg_-_Washington_DC_-_signage.jpeg?resize=1200,630&amp;quality=65 1200w\"\\n\\t\\t\\t\\t\\tdata-lazy-sizes=\"(min-width: 768px) 160px, 100vw\"\\n\\t\\t\\t\\t\\talt=\"Is USPS Purposefully Slowing Mail To Help Reelect Trump?\"\\n\\t\\t\\t\\t>\\n\\n\\t\\t\\t\\n\\t\\t\\t\\n\\t\\t</figure>\\n\\n\\t\\t<div class=\"media-body-wrapper\">\\n\\n\\t\\t\\t<div class=\"media-body\">\\n\\n\\t\\t\\t\\t<h5 class=\"title\">Is USPS Purposefully Slowing Mail To Help Reelect Trump?</h5>\\n\\n\\t\\t\\t\\t<div class=\"meta-data\">\\n\\t\\t\\t\\t\\t<ul class=\"breadcrumb\">\\n\\t\\t\\t\\t\\t\\t<li class=\"date breadcrumb-item\">\\n\\t\\t\\t\\t\\t\\t\\t\\t\\t\\t\\t\\t\\t\\t\\t6 August 2020\\t\\t\\t\\t\\t\\t\\t\\t\\t\\t\\t\\t\\t</li>\\n\\t\\t\\t\\t\\t\\t<li class=\"post-type breadcrumb-item\">\\n\\t\\t\\t\\t\\t\\t\\tFact Check\\t\\t\\t\\t\\t\\t</li>\\n\\t\\t\\t\\t\\t</ul>\\n\\t\\t\\t\\t</div>\\n\\n\\t\\t\\t\\t\\t\\t\\t\\t\\t<p class=\"subtitle\">U.S. Postal Service workers nationwide reported backlogs of letters and packages in summer 2020. But was the issue political?</p>\\n\\t\\t\\t\\t\\n\\t\\t\\t</div>\\n\\n\\t\\t</div>\\n\\n\\t</a>\\n\\n</article>\\n\\n\\t\\t</div>\\n\\n\\t</div>\\n\\n\\n</div></div></div>\\n\\t\\t\\t\\t\\t</main>\\n\\n\\t\\t\\t\\t\\t<div id=\"smg-zone-base-aside\" class=\"smg-zone smg-zone-base-aside\"><div class=\"smg-zone-group smg-zone-group-monetized-aside-3x\"><div class=\"smg-zone-widget smg-zone-widget-cards-videos-featured  \">\\n</div><div class=\"smg-zone-widget smg-zone-widget-ads-placement  \">\\n\\t<div class=\"PlacementWrapper\" data-ad-placement-id=\"side-1\">\\n\\t\\t\\t\\t\\t<div class=\"Placement-placeholder is-visible\">\\n\\t\\t\\t\\t<div class=\"Placement-loader\"></div>\\n\\t\\t\\t</div>\\n\\t\\t\\t<script type=\"text/javascript\">\\n\\t\\t\\t\\tsmg.ads.load( \\'side-1\\' );\\n\\t\\t\\t</script>\\n\\t\\t\\t</div>\\n\\n</div><div class=\"smg-zone-widget smg-zone-widget-cards-lists-custom-popular  \">\\n\\n\\t<div class=\"card\">\\n\\t\\t<h3 class=\"card-header\">Most Popular\\n\\t\\t\\t<a class=\"menu\" href=\"https://www.snopes.com/50-hottest-urban-legends/\">View all</a>\\n\\t\\t</h3>\\n\\t\\t<div class=\"media-list\">\\n\\t\\t\\t\\n<article class=\"media-wrapper\" >\\n\\n\\t<a class=\"media post-264968 fact_check type-fact_check status-publish has-post-thumbnail hentry fact_check_category-photos fact_check_rating-false\" href=\"https://www.snopes.com/fact-check/sleeping-lady-mountain/\">\\n\\n\\t\\t<figure class=\"featured-media\">\\n\\n\\t\\t\\t\\n\\t\\t\\t\\t<img\\n\\t\\t\\t\\t\\tsrc=\"https://www.snopes.com/content/themes/snopes/dist/images/lazyload-placeholder.png\"\\n\\t\\t\\t\\t\\tdata-lazy-src=\"https://www.snopes.com/tachyon/2020/08/getty_susitna-scaled.jpg?resize=865,452\"\\n\\t\\t\\t\\t\\tdata-lazy-srcset=\"https://www.snopes.com/tachyon/2020/08/getty_susitna-scaled.jpg?resize=80,80&amp;quality=65 80w,https://www.snopes.com/tachyon/2020/08/getty_susitna-scaled.jpg?resize=180,180&amp;quality=65 180w,https://www.snopes.com/tachyon/2020/08/getty_susitna-scaled.jpg?resize=375,211&amp;quality=65 375w,https://www.snopes.com/tachyon/2020/08/getty_susitna-scaled.jpg?resize=416,234&amp;quality=65 416w,https://www.snopes.com/tachyon/2020/08/getty_susitna-scaled.jpg?resize=542,305&amp;quality=65 542w,https://www.snopes.com/tachyon/2020/08/getty_susitna-scaled.jpg?resize=733,412&amp;quality=65 733w,https://www.snopes.com/tachyon/2020/08/getty_susitna-scaled.jpg?resize=865,452&amp;quality=65 865w,https://www.snopes.com/tachyon/2020/08/getty_susitna-scaled.jpg?resize=1200,630&amp;quality=65 1200w\"\\n\\t\\t\\t\\t\\tdata-lazy-sizes=\"(min-width: 768px) 160px, 100vw\"\\n\\t\\t\\t\\t\\talt=\"Is This a Photo of Alaska&#8217;s &#8216;Sleeping Lady&#8217; Mountain?\"\\n\\t\\t\\t\\t>\\n\\n\\t\\t\\t\\n\\t\\t\\t\\n\\t\\t</figure>\\n\\n\\t\\t<div class=\"media-body-wrapper\">\\n\\n\\t\\t\\t<div class=\"media-body\">\\n\\n\\t\\t\\t\\t<h5 class=\"title\">Is This a Photo of Alaska&#8217;s &#8216;Sleeping Lady&#8217; Mountain?</h5>\\n\\n\\t\\t\\t\\t<div class=\"meta-data\">\\n\\t\\t\\t\\t\\t<ul class=\"breadcrumb\">\\n\\t\\t\\t\\t\\t\\t<li class=\"date breadcrumb-item\">\\n\\t\\t\\t\\t\\t\\t\\t\\t\\t\\t\\t\\t\\t\\t\\t9 August 2020\\t\\t\\t\\t\\t\\t\\t\\t\\t\\t\\t\\t\\t</li>\\n\\t\\t\\t\\t\\t\\t<li class=\"post-type breadcrumb-item\">\\n\\t\\t\\t\\t\\t\\t\\tFact Check\\t\\t\\t\\t\\t\\t</li>\\n\\t\\t\\t\\t\\t</ul>\\n\\t\\t\\t\\t</div>\\n\\n\\t\\t\\t\\t\\t\\t\\t\\t\\t<p class=\"subtitle\">\"The giant woman fell asleep waiting for her beloved to return from battle, unaware that he had been killed.\"</p>\\n\\t\\t\\t\\t\\n\\t\\t\\t</div>\\n\\n\\t\\t</div>\\n\\n\\t</a>\\n\\n</article>\\n\\n\\n<article class=\"media-wrapper\" >\\n\\n\\t<a class=\"media post-264827 fact_check type-fact_check status-publish has-post-thumbnail hentry fact_check_category-controversy fact_check_category-politics fact_check_rating-true\" href=\"https://www.snopes.com/fact-check/jerry-falwell-unzipped/\">\\n\\n\\t\\t<figure class=\"featured-media\">\\n\\n\\t\\t\\t\\n\\t\\t\\t\\t<img\\n\\t\\t\\t\\t\\tsrc=\"https://www.snopes.com/content/themes/snopes/dist/images/lazyload-placeholder.png\"\\n\\t\\t\\t\\t\\tdata-lazy-src=\"https://www.snopes.com/tachyon/2020/08/falwell.jpg?resize=865,452\"\\n\\t\\t\\t\\t\\tdata-lazy-srcset=\"https://www.snopes.com/tachyon/2020/08/falwell.jpg?resize=80,80&amp;quality=65 80w,https://www.snopes.com/tachyon/2020/08/falwell.jpg?resize=180,180&amp;quality=65 180w,https://www.snopes.com/tachyon/2020/08/falwell.jpg?resize=375,211&amp;quality=65 375w,https://www.snopes.com/tachyon/2020/08/falwell.jpg?resize=416,234&amp;quality=65 416w,https://www.snopes.com/tachyon/2020/08/falwell.jpg?resize=542,305&amp;quality=65 542w,https://www.snopes.com/tachyon/2020/08/falwell.jpg?resize=733,412&amp;quality=65 733w,https://www.snopes.com/tachyon/2020/08/falwell.jpg?resize=865,452&amp;quality=65 865w,https://www.snopes.com/tachyon/2020/08/falwell.jpg?resize=1200,630&amp;quality=65 1200w\"\\n\\t\\t\\t\\t\\tdata-lazy-sizes=\"(min-width: 768px) 160px, 100vw\"\\n\\t\\t\\t\\t\\talt=\"Does a Photograph Show Jerry Falwell, Jr. with His Pants Unzipped?\"\\n\\t\\t\\t\\t>\\n\\n\\t\\t\\t\\n\\t\\t\\t\\n\\t\\t</figure>\\n\\n\\t\\t<div class=\"media-body-wrapper\">\\n\\n\\t\\t\\t<div class=\"media-body\">\\n\\n\\t\\t\\t\\t<h5 class=\"title\">Does a Photograph Show Jerry Falwell, Jr. with His Pants Unzipped?</h5>\\n\\n\\t\\t\\t\\t<div class=\"meta-data\">\\n\\t\\t\\t\\t\\t<ul class=\"breadcrumb\">\\n\\t\\t\\t\\t\\t\\t<li class=\"date breadcrumb-item\">\\n\\t\\t\\t\\t\\t\\t\\t\\t\\t\\t\\t\\t\\t\\t\\t7 August 2020\\t\\t\\t\\t\\t\\t\\t\\t\\t\\t\\t\\t\\t</li>\\n\\t\\t\\t\\t\\t\\t<li class=\"post-type breadcrumb-item\">\\n\\t\\t\\t\\t\\t\\t\\tFact Check\\t\\t\\t\\t\\t\\t</li>\\n\\t\\t\\t\\t\\t</ul>\\n\\t\\t\\t\\t</div>\\n\\n\\t\\t\\t\\t\\t\\t\\t\\t\\t<p class=\"subtitle\">Falwell said the picture was intended to be a joke.</p>\\n\\t\\t\\t\\t\\n\\t\\t\\t</div>\\n\\n\\t\\t</div>\\n\\n\\t</a>\\n\\n</article>\\n\\n\\n<article class=\"media-wrapper\" >\\n\\n\\t<a class=\"media post-127560 fact_check type-fact_check status-publish has-post-thumbnail hentry tag-algorithms tag-facebook tag-facebook-algorithms tag-social-media fact_check_category-viral-phenomena fact_check_rating-false\" href=\"https://www.snopes.com/fact-check/new-facebook-algorithm-26-friends/\">\\n\\n\\t\\t<figure class=\"featured-media\">\\n\\n\\t\\t\\t\\n\\t\\t\\t\\t<img\\n\\t\\t\\t\\t\\tsrc=\"https://www.snopes.com/content/themes/snopes/dist/images/lazyload-placeholder.png\"\\n\\t\\t\\t\\t\\tdata-lazy-src=\"https://www.snopes.com/tachyon/2017/08/facebook_logo_tw.jpg?resize=865,452\"\\n\\t\\t\\t\\t\\tdata-lazy-srcset=\"https://www.snopes.com/tachyon/2017/08/facebook_logo_tw.jpg?resize=80,80&amp;quality=65 80w,https://www.snopes.com/tachyon/2017/08/facebook_logo_tw.jpg?resize=180,180&amp;quality=65 180w,https://www.snopes.com/tachyon/2017/08/facebook_logo_tw.jpg?resize=375,211&amp;quality=65 375w,https://www.snopes.com/tachyon/2017/08/facebook_logo_tw.jpg?resize=416,234&amp;quality=65 416w,https://www.snopes.com/tachyon/2017/08/facebook_logo_tw.jpg?resize=542,305&amp;quality=65 542w,https://www.snopes.com/tachyon/2017/08/facebook_logo_tw.jpg?resize=733,412&amp;quality=65 733w,https://www.snopes.com/tachyon/2017/08/facebook_logo_tw.jpg?resize=865,452&amp;quality=65 865w,https://www.snopes.com/tachyon/2017/08/facebook_logo_tw.jpg?resize=1200,630&amp;quality=65 1200w\"\\n\\t\\t\\t\\t\\tdata-lazy-sizes=\"(min-width: 768px) 160px, 100vw\"\\n\\t\\t\\t\\t\\talt=\"Does a New Facebook Algorithm Only Show You 26 Friends?\"\\n\\t\\t\\t\\t>\\n\\n\\t\\t\\t\\n\\t\\t\\t\\n\\t\\t</figure>\\n\\n\\t\\t<div class=\"media-body-wrapper\">\\n\\n\\t\\t\\t<div class=\"media-body\">\\n\\n\\t\\t\\t\\t<h5 class=\"title\">Does a New Facebook Algorithm Only Show You 26 Friends?</h5>\\n\\n\\t\\t\\t\\t<div class=\"meta-data\">\\n\\t\\t\\t\\t\\t<ul class=\"breadcrumb\">\\n\\t\\t\\t\\t\\t\\t<li class=\"date breadcrumb-item\">\\n\\t\\t\\t\\t\\t\\t\\t\\t\\t\\t\\t\\t\\t\\t\\t6 February 2018\\t\\t\\t\\t\\t\\t\\t\\t\\t\\t\\t\\t\\t</li>\\n\\t\\t\\t\\t\\t\\t<li class=\"post-type breadcrumb-item\">\\n\\t\\t\\t\\t\\t\\t\\tFact Check\\t\\t\\t\\t\\t\\t</li>\\n\\t\\t\\t\\t\\t</ul>\\n\\t\\t\\t\\t</div>\\n\\n\\t\\t\\t\\t\\t\\t\\t\\t\\t<p class=\"subtitle\">Facebook hasn\\'t limited your feed to only a certain number of people, and sharing a post saying otherwise won\\'t make any difference.</p>\\n\\t\\t\\t\\t\\n\\t\\t\\t</div>\\n\\n\\t\\t</div>\\n\\n\\t</a>\\n\\n</article>\\n\\n\\n<article class=\"media-wrapper\" >\\n\\n\\t<a class=\"media post-264670 fact_check type-fact_check status-publish has-post-thumbnail hentry fact_check_category-crime-politics fact_check_category-politics fact_check_rating-false\" href=\"https://www.snopes.com/fact-check/ghislaine-maxwell-list/\">\\n\\n\\t\\t<figure class=\"featured-media\">\\n\\n\\t\\t\\t\\n\\t\\t\\t\\t<img\\n\\t\\t\\t\\t\\tsrc=\"https://www.snopes.com/content/themes/snopes/dist/images/lazyload-placeholder.png\"\\n\\t\\t\\t\\t\\tdata-lazy-src=\"https://www.snopes.com/tachyon/2020/08/GettyImages-590696434-scaled-e1596826774213.jpg?resize=865,452\"\\n\\t\\t\\t\\t\\tdata-lazy-srcset=\"https://www.snopes.com/tachyon/2020/08/GettyImages-590696434-scaled-e1596826774213.jpg?resize=80,80&amp;quality=65 80w,https://www.snopes.com/tachyon/2020/08/GettyImages-590696434-scaled-e1596826774213.jpg?resize=180,180&amp;quality=65 180w,https://www.snopes.com/tachyon/2020/08/GettyImages-590696434-scaled-e1596826774213.jpg?resize=375,211&amp;quality=65 375w,https://www.snopes.com/tachyon/2020/08/GettyImages-590696434-scaled-e1596826774213.jpg?resize=416,234&amp;quality=65 416w,https://www.snopes.com/tachyon/2020/08/GettyImages-590696434-scaled-e1596826774213.jpg?resize=542,305&amp;quality=65 542w,https://www.snopes.com/tachyon/2020/08/GettyImages-590696434-scaled-e1596826774213.jpg?resize=733,412&amp;quality=65 733w,https://www.snopes.com/tachyon/2020/08/GettyImages-590696434-scaled-e1596826774213.jpg?resize=865,452&amp;quality=65 865w,https://www.snopes.com/tachyon/2020/08/GettyImages-590696434-scaled-e1596826774213.jpg?resize=1200,630&amp;quality=65 1200w\"\\n\\t\\t\\t\\t\\tdata-lazy-sizes=\"(min-width: 768px) 160px, 100vw\"\\n\\t\\t\\t\\t\\talt=\"Is This Ghislaine Maxwell&#8217;s Unsealed &#8216;List of Names&#8217;?\"\\n\\t\\t\\t\\t>\\n\\n\\t\\t\\t\\n\\t\\t\\t\\n\\t\\t</figure>\\n\\n\\t\\t<div class=\"media-body-wrapper\">\\n\\n\\t\\t\\t<div class=\"media-body\">\\n\\n\\t\\t\\t\\t<h5 class=\"title\">Is This Ghislaine Maxwell&#8217;s Unsealed &#8216;List of Names&#8217;?</h5>\\n\\n\\t\\t\\t\\t<div class=\"meta-data\">\\n\\t\\t\\t\\t\\t<ul class=\"breadcrumb\">\\n\\t\\t\\t\\t\\t\\t<li class=\"date breadcrumb-item\">\\n\\t\\t\\t\\t\\t\\t\\t\\t\\t\\t\\t\\t\\t\\t\\t7 August 2020\\t\\t\\t\\t\\t\\t\\t\\t\\t\\t\\t\\t\\t</li>\\n\\t\\t\\t\\t\\t\\t<li class=\"post-type breadcrumb-item\">\\n\\t\\t\\t\\t\\t\\t\\tFact Check\\t\\t\\t\\t\\t\\t</li>\\n\\t\\t\\t\\t\\t</ul>\\n\\t\\t\\t\\t</div>\\n\\n\\t\\t\\t\\t\\t\\t\\t\\t\\t<p class=\"subtitle\">The list of dozens of names posted to Facebook was offered up in connection with the Jeffrey Epstein sex-trafficking case.</p>\\n\\t\\t\\t\\t\\n\\t\\t\\t</div>\\n\\n\\t\\t</div>\\n\\n\\t</a>\\n\\n</article>\\n\\n\\n<article class=\"media-wrapper\" >\\n\\n\\t<a class=\"media post-264365 fact_check type-fact_check status-publish has-post-thumbnail hentry tag-covid-19 fact_check_category-medical fact_check_rating-false\" href=\"https://www.snopes.com/fact-check/face-masks-legionnaires-disease/\">\\n\\n\\t\\t<figure class=\"featured-media\">\\n\\n\\t\\t\\t\\n\\t\\t\\t\\t<img\\n\\t\\t\\t\\t\\tsrc=\"https://www.snopes.com/content/themes/snopes/dist/images/lazyload-placeholder.png\"\\n\\t\\t\\t\\t\\tdata-lazy-src=\"https://www.snopes.com/tachyon/2020/08/mask.jpg?resize=865,452\"\\n\\t\\t\\t\\t\\tdata-lazy-srcset=\"https://www.snopes.com/tachyon/2020/08/mask.jpg?resize=80,80&amp;quality=65 80w,https://www.snopes.com/tachyon/2020/08/mask.jpg?resize=180,180&amp;quality=65 180w,https://www.snopes.com/tachyon/2020/08/mask.jpg?resize=375,211&amp;quality=65 375w,https://www.snopes.com/tachyon/2020/08/mask.jpg?resize=416,234&amp;quality=65 416w,https://www.snopes.com/tachyon/2020/08/mask.jpg?resize=542,305&amp;quality=65 542w,https://www.snopes.com/tachyon/2020/08/mask.jpg?resize=733,412&amp;quality=65 733w,https://www.snopes.com/tachyon/2020/08/mask.jpg?resize=865,452&amp;quality=65 865w,https://www.snopes.com/tachyon/2020/08/mask.jpg?resize=1200,630&amp;quality=65 1200w\"\\n\\t\\t\\t\\t\\tdata-lazy-sizes=\"(min-width: 768px) 160px, 100vw\"\\n\\t\\t\\t\\t\\talt=\"Can You Get Legionnaires’ Disease from Face Masks?\"\\n\\t\\t\\t\\t>\\n\\n\\t\\t\\t\\n\\t\\t\\t\\n\\t\\t</figure>\\n\\n\\t\\t<div class=\"media-body-wrapper\">\\n\\n\\t\\t\\t<div class=\"media-body\">\\n\\n\\t\\t\\t\\t<h5 class=\"title\">Can You Get Legionnaires’ Disease from Face Masks?</h5>\\n\\n\\t\\t\\t\\t<div class=\"meta-data\">\\n\\t\\t\\t\\t\\t<ul class=\"breadcrumb\">\\n\\t\\t\\t\\t\\t\\t<li class=\"date breadcrumb-item\">\\n\\t\\t\\t\\t\\t\\t\\t\\t\\t\\t\\t\\t\\t\\t\\t6 August 2020\\t\\t\\t\\t\\t\\t\\t\\t\\t\\t\\t\\t\\t</li>\\n\\t\\t\\t\\t\\t\\t<li class=\"post-type breadcrumb-item\">\\n\\t\\t\\t\\t\\t\\t\\tFact Check\\t\\t\\t\\t\\t\\t</li>\\n\\t\\t\\t\\t\\t</ul>\\n\\t\\t\\t\\t</div>\\n\\n\\t\\t\\t\\t\\t\\t\\t\\t\\t<p class=\"subtitle\">Rumors about masks are getting more creative, but health experts still recommend wearing cloth face coverings to help slow the spread of COVID-19.</p>\\n\\t\\t\\t\\t\\n\\t\\t\\t</div>\\n\\n\\t\\t</div>\\n\\n\\t</a>\\n\\n</article>\\n\\n\\t\\t</div>\\n\\t\\t<a class=\"card-footer card-link\" href=\"https://www.snopes.com/50-hottest-urban-legends/\">View all</a>\\n\\t</div>\\n\\n\\n</div><div class=\"smg-zone-widget smg-zone-widget-ads-placement  \">\\n\\t<div class=\"PlacementWrapper\" data-ad-placement-id=\"side-2\">\\n\\t\\t\\t\\t\\t<div class=\"Placement-placeholder is-visible\">\\n\\t\\t\\t\\t<div class=\"Placement-loader\"></div>\\n\\t\\t\\t</div>\\n\\t\\t\\t<script type=\"text/javascript\">\\n\\t\\t\\t\\tsmg.ads.load( \\'side-2\\' );\\n\\t\\t\\t</script>\\n\\t\\t\\t</div>\\n\\n</div><div class=\"smg-zone-widget smg-zone-widget-ads-house-how-to-support  card-simple-black\"><a href=\"https://www.snopes.com/projects/founding-members/?utm_source=snopes-promo-widget&#038;utm_medium=native&#038;utm_campaign=fm2020&#038;utm_content=learn-how\">\\n\\t<div class=\"card\">\\n\\t\\t<div class=\"card-body\">\\n\\t\\t\\t<h5 class=\"card-title\">Snopes.com needs your help.<mark>Become a member today.</mark></h5>\\n\\t\\t\\t<button class=\"card-btn btn\">Learn How</button>\\n\\t\\t</div>\\n\\t</div>\\n</a>\\n</div><div class=\"smg-zone-widget smg-zone-widget-ads-placement  \">\\n\\t<div class=\"PlacementWrapper\" data-ad-placement-id=\"side-3\">\\n\\t\\t\\t\\t\\t<div class=\"Placement-placeholder is-visible\">\\n\\t\\t\\t\\t<div class=\"Placement-loader\"></div>\\n\\t\\t\\t</div>\\n\\t\\t\\t<script type=\"text/javascript\">\\n\\t\\t\\t\\tsmg.ads.load( \\'side-3\\' );\\n\\t\\t\\t</script>\\n\\t\\t\\t</div>\\n\\n</div></div></div>\\n\\t\\t\\t\\t</div>\\n\\n\\t\\t\\t</div>\\n\\n\\t\\t\\t\\n\\t\\t</div>\\n\\n\\t\\t<div id=\"smg-zone-theme-footer\" class=\"smg-zone smg-zone-theme-footer\"><div class=\"smg-zone-group smg-zone-group-monetized-theme-footer\"><div class=\"smg-zone-widget smg-zone-widget-ads-placement  \">\\n\\t<div class=\"PlacementWrapper\" data-ad-placement-id=\"footer-1\">\\n\\t\\t\\t\\t\\t<div class=\"Placement-placeholder is-visible\">\\n\\t\\t\\t\\t<div class=\"Placement-loader\"></div>\\n\\t\\t\\t</div>\\n\\t\\t\\t<script type=\"text/javascript\">\\n\\t\\t\\t\\tsmg.ads.load( \\'footer-1\\' );\\n\\t\\t\\t</script>\\n\\t\\t\\t</div>\\n\\n</div></div></div><div class=\"theme-footer-wrapper\">\\n\\n\\t<footer class=\"theme-footer\">\\n\\n\\t\\t<div class=\"container\">\\n\\n\\t\\t\\t<div class=\"row\">\\n\\n\\t\\t\\t\\t<div class=\"theme-brand\">\\n\\t\\t\\t\\t\\t<img width=\"90px\" src=\"https://www.snopes.com/content/themes/snopes/dist/images/logo-main-header.png\" alt=\"Snopes Logo\" title=\"Snopes.com\">\\n\\t\\t\\t\\t</div>\\n\\n\\t\\t\\t\\t<div class=\"content-wrapper\">\\n\\n\\t\\t\\t\\t\\t<div class=\"content\">\\n\\n\\t\\t\\t\\t\\t\\t<div class=\"footer-item-navigate\">\\n\\t\\t\\t\\t\\t\\t\\t<h6>Navigate</h6>\\n\\t\\t\\t\\t\\t\\t\\t<ul class=\"list-unstyled\">\\n\\t\\t\\t\\t\\t\\t\\t\\t<li>\\n\\t\\t\\t\\t\\t\\t\\t\\t\\t<a href=\"https://www.snopes.com\">Home</a>\\n\\t\\t\\t\\t\\t\\t\\t\\t</li>\\n\\t\\t\\t\\t\\t\\t\\t\\t<li>\\n\\t\\t\\t\\t\\t\\t\\t\\t\\t<a href=\"https://www.snopes.com/search/\">Search</a>\\n\\t\\t\\t\\t\\t\\t\\t\\t</li>\\n\\t\\t\\t\\t\\t\\t\\t\\t<li>\\n\\t\\t\\t\\t\\t\\t\\t\\t\\t<a href=\"https://www.snopes.com/archive/\">Archive</a>\\n\\t\\t\\t\\t\\t\\t\\t\\t</li>\\n\\t\\t\\t\\t\\t\\t\\t\\t<li>\\n\\t\\t\\t\\t\\t\\t\\t\\t\\t<a href=\"https://shop.snopes.com/\">Store</a>\\n\\t\\t\\t\\t\\t\\t\\t\\t</li>\\n\\t\\t\\t\\t\\t\\t\\t\\t<li>\\n\\t\\t\\t\\t\\t\\t\\t\\t\\t<a href=\"https://www.snopes.com/frequently-asked-questions/\">FAQ</a>\\n\\t\\t\\t\\t\\t\\t\\t\\t</li>\\n\\t\\t\\t\\t\\t\\t\\t\\t<li>\\n\\t\\t\\t\\t\\t\\t\\t\\t\\t<a href=\"https://www.snopes.com/contact/\">Submit a Topic</a>\\n\\t\\t\\t\\t\\t\\t\\t\\t</li>\\n\\t\\t\\t\\t\\t\\t\\t</ul>\\n\\t\\t\\t\\t\\t\\t</div>\\n\\n\\t\\t\\t\\t\\t\\t<div class=\"footer-item-sections\">\\n\\t\\t\\t\\t\\t\\t\\t<h6>Sections</h6>\\n\\t\\t\\t\\t\\t\\t\\t<ul class=\"list-unstyled\">\\n\\t\\t\\t\\t\\t\\t\\t\\t<li>\\n\\t\\t\\t\\t\\t\\t\\t\\t\\t<a href=\"https://www.snopes.com/whats-new/\">What\\'s New</a>\\n\\t\\t\\t\\t\\t\\t\\t\\t</li>\\n\\t\\t\\t\\t\\t\\t\\t\\t<li>\\n\\t\\t\\t\\t\\t\\t\\t\\t\\t<a href=\"https://www.snopes.com/50-hottest-urban-legends/\">Hot 50</a>\\n\\t\\t\\t\\t\\t\\t\\t\\t</li>\\n\\t\\t\\t\\t\\t\\t\\t\\t<li>\\n\\t\\t\\t\\t\\t\\t\\t\\t\\t<a href=\"https://www.snopes.com/fact-check/\">Fact Checks</a>\\n\\t\\t\\t\\t\\t\\t\\t\\t</li>\\n\\t\\t\\t\\t\\t\\t\\t\\t<li>\\n\\t\\t\\t\\t\\t\\t\\t\\t\\t<a href=\"https://www.snopes.com/news/\">News</a>\\n\\t\\t\\t\\t\\t\\t\\t\\t</li>\\n\\t\\t\\t\\t\\t\\t\\t\\t<li>\\n\\t\\t\\t\\t\\t\\t\\t\\t\\t<a href=\"https://www.snopes.com/random/\">Randomizer</a>\\n\\t\\t\\t\\t\\t\\t\\t\\t</li>\\n\\t\\t\\t\\t\\t\\t\\t</ul>\\n\\t\\t\\t\\t\\t\\t</div>\\n\\n\\t\\t\\t\\t\\t\\t<div class=\"footer-item-company\">\\n\\t\\t\\t\\t\\t\\t\\t<h6>Company</h6>\\n\\t\\t\\t\\t\\t\\t\\t<ul class=\"list-unstyled\">\\n\\t\\t\\t\\t\\t\\t\\t\\t<li>\\n\\t\\t\\t\\t\\t\\t\\t\\t\\t<a href=\"https://www.snopes.com/about-snopes/\">About Us</a>\\n\\t\\t\\t\\t\\t\\t\\t\\t</li>\\n\\t\\t\\t\\t\\t\\t\\t\\t<li>\\n\\t\\t\\t\\t\\t\\t\\t\\t\\t<a href=\"https://www.snopes.com/projects/founding-members/?utm_source=snopes-theme-footer-support-link&#038;utm_medium=native&#038;utm_campaign=fm2020&#038;utm_content=support-snopes\" id=\"link-footer-support\">Support Us</a>\\n\\t\\t\\t\\t\\t\\t\\t\\t</li>\\n\\t\\t\\t\\t\\t\\t\\t\\t<li>\\n\\t\\t\\t\\t\\t\\t\\t\\t\\t<a href=\"https://www.snopes.com/careers/\">Careers</a>\\n\\t\\t\\t\\t\\t\\t\\t\\t</li>\\n\\t\\t\\t\\t\\t\\t\\t\\t<li>\\n\\t\\t\\t\\t\\t\\t\\t\\t\\t<a href=\"https://www.snopes.com/terms-and-conditions/\">Terms of Use</a>\\n\\t\\t\\t\\t\\t\\t\\t\\t</li>\\n\\t\\t\\t\\t\\t\\t\\t\\t<li>\\n\\t\\t\\t\\t\\t\\t\\t\\t\\t<a href=\"https://www.snopes.com/privacy-policy/\">Privacy Policy</a>\\n\\t\\t\\t\\t\\t\\t\\t\\t</li>\\n\\t\\t\\t\\t\\t\\t\\t\\t<li>\\n\\t\\t\\t\\t\\t\\t\\t\\t\\t<a href=\"https://www.snopes.com/cookie-policy/\">Cookie Policy</a>\\n\\t\\t\\t\\t\\t\\t\\t\\t</li>\\n\\t\\t\\t\\t\\t\\t\\t\\t<li>\\n\\t\\t\\t\\t\\t\\t\\t\\t\\t<a href=\"https://www.snopes.com/do-not-sell-my-info/\">Don\\'t Sell My Info</a>\\n\\t\\t\\t\\t\\t\\t\\t\\t</li>\\n\\t\\t\\t\\t\\t\\t\\t</ul>\\n\\n\\t\\t\\t\\t\\t\\t</div>\\n\\n\\t\\t\\t\\t\\t\\t<hr>\\n\\t\\t\\t\\t\\t\\t<div class=\"disclaimer\">\\n\\t<p>© 1995 - 2020 by Snopes Media Group Inc.</p>\\n\\t<p>This material may not be reproduced without permission.</p>\\n\\t<p>Snopes and the Snopes.com logo are registered service marks of Snopes.com</p>\\n</div>\\n<nav class=\"social-buttons nav\">\\n\\t<a class=\"nav-item btn-round\" href=\"https://www.facebook.com/snopes\" target=\"_blank\"><i class=\"fab fa-facebook-f\"></i></a>\\n\\t<a class=\"nav-item btn-round\" href=\"https://www.twitter.com/snopes\" target=\"_blank\"><i class=\"fab fa-twitter\"></i></a>\\n\\t<a class=\"nav-item btn-round\" href=\"https://www.snopes.com/contact/\" target=\"_blank\"><i class=\"fas fa-envelope\"></i></a>\\n\\t<a class=\"nav-item btn-round\" href=\"https://www.snopes.com/feed/\" target=\"_blank\"><i class=\"fas fa-rss\"></i></a>\\n</nav>\\n\\n\\t\\t\\t\\t\\t</div>\\n\\n\\t\\t\\t\\t</div>\\n\\n\\t\\t\\t</div>\\n\\n\\t\\t</div>\\n\\n\\t\\t<script type=\"text/html\" id=\"tmpl-search-no-results\">\\n\\n\\t<h1 class=\"heading\">No results for:</h1>\\n\\t<input type=\"text\" disabled class=\"search-term form-control\" id=\"inputAddress\" placeholder=\"{{{data.queryTerm}}}\">\\n\\n\\t<div class=\"card\">\\n\\n\\t\\t<p>Your search did not yield any results. Your search terms may need to be revised, or we have not written an article on that topic.</p>\\n\\t\\t<p>One of the best tips for locating articles on our site is to avoid the use of searches that are too lengthy or specific. Therefore, the optimal search strategy is to avoid pasting specific phrases from items (such as subject lines and opening sentences) into our search engine and instead focus on selecting a few distinctive words or names to use as search terms.</p>\\n\\t\\t<p>If you still don\\'t find the item you\\'re looking for, please use our <a class=\"font-weight-bold\" href=\"http://www.snopes.com/contact/?formType=rumor\">Submission Form</a> to send it to us. We can\\'t write about it if we don\\'t know about it!</p>\\n\\n\\t</div>\\n\\n\\n</script>\\n<script type=\"text/html\" id=\"tmpl-search-error\">\\n\\n\\t<div class=\"search-error\">\\n\\t\\t<# if ( data.type === \\'max-length\\' ) { #>\\n\\t\\t\\t<span>The maximum query length is 500 characters.</span>\\n\\t\\t<# } #>\\n\\t</div>\\n\\n</script>\\n<script type=\\'text/javascript\\' src=\\'https://www.snopes.com/wp-includes/js/dist/vendor/lodash.min.js?ver=4.17.15\\'></script>\\n<script type=\\'text/javascript\\'>\\nwindow.lodash = _.noConflict();\\n</script>\\n<script type=\\'text/javascript\\' src=\\'https://www.snopes.com/wp-includes/js/dist/vendor/wp-polyfill.min.js?ver=7.4.4\\'></script>\\n<script type=\\'text/javascript\\'>\\n( \\'fetch\\' in window ) || document.write( \\'<script src=\"https://www.snopes.com/wp-includes/js/dist/vendor/wp-polyfill-fetch.min.js?ver=3.0.0\"></scr\\' + \\'ipt>\\' );( document.contains ) || document.write( \\'<script src=\"https://www.snopes.com/wp-includes/js/dist/vendor/wp-polyfill-node-contains.min.js?ver=3.26.0-0\"></scr\\' + \\'ipt>\\' );( window.FormData && window.FormData.prototype.keys ) || document.write( \\'<script src=\"https://www.snopes.com/wp-includes/js/dist/vendor/wp-polyfill-formdata.min.js?ver=3.0.12\"></scr\\' + \\'ipt>\\' );( Element.prototype.matches && Element.prototype.closest ) || document.write( \\'<script src=\"https://www.snopes.com/wp-includes/js/dist/vendor/wp-polyfill-element-closest.min.js?ver=2.0.2\"></scr\\' + \\'ipt>\\' );\\n</script>\\n<script type=\\'text/javascript\\' src=\\'https://www.snopes.com/wp-includes/js/dist/vendor/react.min.js?ver=16.9.0\\'></script>\\n<script type=\\'text/javascript\\' src=\\'https://www.snopes.com/wp-includes/js/dist/vendor/react-dom.min.js?ver=16.9.0\\'></script>\\n<script type=\\'text/javascript\\' src=\\'https://www.snopes.com/wp-includes/js/dist/escape-html.min.js?ver=1.5.1\\'></script>\\n<script type=\\'text/javascript\\' src=\\'https://www.snopes.com/wp-includes/js/dist/element.min.js?ver=2.8.2\\'></script>\\n<script type=\\'text/javascript\\' integrity=\\'sha384-0/7p6CEJNPzJAIGxft11W372JdCOAqCzD9TSQISdlmhH/uqUFuXBAnxN3KTMxVzs\\' src=\\'https://www.snopes.com/content/mu-plugins/smg/dist/7d485ea20e71ab5f1e3b-frontend.js?ver=77c63fb18a632e63bed72e0bf18ce80b\\'></script>\\n<script type=\\'text/javascript\\' async src=\\'https://iframe.ly/embed-dialog-init.js?ver=5.3.4\\'></script>\\n<script type=\\'text/javascript\\' integrity=\\'sha384-Lc0fQI0zqYksrgxMHiBw2hQo/QprzbPBLgKnlXLLhJQSTobmpHkyIGKNfweBeFGh\\' src=\\'https://www.snopes.com/content/themes/snopes/dist/scripts/b0767238db85bcf827d3-plugins.js?ver=5.3.4\\'></script>\\n<script type=\\'text/javascript\\'>\\n/* <![CDATA[ */\\nvar snopes_ajax = {\"url\":\"https:\\\\/\\\\/www.snopes.com\\\\/wp-admin\\\\/admin-ajax.php\",\"nonce\":\"4991a733d3\"};\\n/* ]]> */\\n</script>\\n<script type=\\'text/javascript\\' integrity=\\'sha384-KsHbzAIoRUg5QbFzM7tMhWc1kQwu0EkCvJKXtjk1+7LI/TyUibVm5Wdo/Ih4p4Kp\\' src=\\'https://www.snopes.com/content/themes/snopes/dist/scripts/1326aa1c6f298075a8c0-snopes-main.js?ver=5.3.4\\'></script>\\n<script type=\\'text/javascript\\' integrity=\\'sha384-W3notQdytH1KXVlJEthxCdMSxDmrKQkz+aaTET2x7t1e37H+kOn19T/m2Kg02hOC\\' src=\\'https://www.snopes.com/content/plugins/lazy-load/js/jquery.sonar.min.js?ver=0.7\\'></script>\\n<script type=\\'text/javascript\\' integrity=\\'sha384-7AbmKvYBtokTNFuKrFk6PhIzU91chtGMc9zzPZbT+7vjyKVDLixZVIgDZUf6GY20\\' src=\\'https://www.snopes.com/content/plugins/lazy-load/js/lazy-load.js?ver=0.7\\'></script>\\n<script type=\\'text/javascript\\' src=\\'https://www.snopes.com/wp-includes/js/wp-embed.min.js?ver=5.3.4\\'></script>\\n\\n\\t</footer>\\n\\n</div>\\n\\n\\n<!-- Modal -->\\n<div class=\"mobile-menu modal\" id=\"mobileMenu\" tabindex=\"-1\" role=\"dialog\" aria-labelledby=\"Mobile Menu\" aria-hidden=\"true\">\\n\\t<div class=\"modal-dialog modal-dialog-scrollable modal-dialog-centered\" role=\"document\">\\n\\t\\t<div class=\"modal-content\">\\n\\t\\t\\t<div class=\"modal-body\">\\n\\t\\t\\t\\t\\n<nav id=\"menu-primary-navigation\" class=\"nav\">\\n\\t\\n\\t\\t\\n\\t\\t<div class=\"menu-item nav-item support-us\">\\n\\n\\t\\t\\t\\n\\t\\t\\t\\n\\t\\t\\t\\t<a title=\"Become a Member\" href=\"https://www.snopes.com/projects/founding-members/?utm_source=snopes-mobile-menu-support-button&#038;utm_medium=native&#038;utm_campaign=fm2020&#038;utm_content=become-a-member-today\" class=\"nav-link\" itemprop=\"url\">Become a Member</a>\\n\\n\\t\\t\\t\\n\\t\\t</div>\\n\\n\\t\\n\\t\\t\\n\\t\\t<div class=\"menu-item nav-item submit-topic\">\\n\\n\\t\\t\\t\\n\\t\\t\\t\\n\\t\\t\\t\\t<a title=\"Submit a Topic\" href=\"https://www.snopes.com/contact/\" class=\"nav-link\" itemprop=\"url\">Submit a Topic</a>\\n\\n\\t\\t\\t\\n\\t\\t</div>\\n\\n\\t\\n\\t\\t\\n\\t\\t<div class=\"menu-item nav-item shop\">\\n\\n\\t\\t\\t\\n\\t\\t\\t\\n\\t\\t\\t\\t<a title=\"Shop Snopes\" href=\"https://www.snopes.com/shop/\" class=\"nav-link\" itemprop=\"url\">Shop Snopes</a>\\n\\n\\t\\t\\t\\n\\t\\t</div>\\n\\n\\t\\n\\t\\t\\n\\t\\t<div class=\"menu-item nav-item latest\">\\n\\n\\t\\t\\t\\n\\t\\t\\t\\n\\t\\t\\t\\t<a title=\"What&#039;s New\" href=\"https://www.snopes.com/whats-new/\" class=\"nav-link\" itemprop=\"url\">What&#039;s New</a>\\n\\n\\t\\t\\t\\n\\t\\t</div>\\n\\n\\t\\n\\t\\t\\n\\t\\t<div class=\"menu-item nav-item trending\">\\n\\n\\t\\t\\t\\n\\t\\t\\t\\n\\t\\t\\t\\t<a title=\"Hot 50\" href=\"https://www.snopes.com/50-hottest-urban-legends/\" class=\"nav-link\" itemprop=\"url\">Hot 50</a>\\n\\n\\t\\t\\t\\n\\t\\t</div>\\n\\n\\t\\n\\t\\t\\n\\t\\t<div class=\"menu-item nav-item fact-check\">\\n\\n\\t\\t\\t\\n\\t\\t\\t\\n\\t\\t\\t\\t<a title=\"Fact Checks\" href=\"https://www.snopes.com/fact-check/\" class=\"nav-link\" itemprop=\"url\">Fact Checks</a>\\n\\n\\t\\t\\t\\n\\t\\t</div>\\n\\n\\t\\n\\t\\t\\n\\t\\t<div class=\"menu-item nav-item news\">\\n\\n\\t\\t\\t\\n\\t\\t\\t\\n\\t\\t\\t\\t<a title=\"News\" href=\"https://www.snopes.com/news/\" class=\"nav-link\" itemprop=\"url\">News</a>\\n\\n\\t\\t\\t\\n\\t\\t</div>\\n\\n\\t\\n\\t\\t\\n\\t\\t<div class=\"menu-item nav-item video\">\\n\\n\\t\\t\\t\\n\\t\\t\\t\\n\\t\\t\\t\\t<a title=\"Videos\" href=\"https://www.snopes.com/video/\" class=\"nav-link\" itemprop=\"url\">Videos</a>\\n\\n\\t\\t\\t\\n\\t\\t</div>\\n\\n\\t\\n\\t\\t\\n\\t\\t<div class=\"menu-item nav-item index\">\\n\\n\\t\\t\\t\\n\\t\\t\\t\\n\\t\\t\\t\\t<a title=\"Archive\" href=\"https://www.snopes.com/archive/\" class=\"nav-link\" itemprop=\"url\">Archive</a>\\n\\n\\t\\t\\t\\n\\t\\t</div>\\n\\n\\t\\n\\t\\t\\n\\t\\t<div class=\"menu-item nav-item about-us\">\\n\\n\\t\\t\\t\\n\\t\\t\\t\\n\\t\\t\\t\\t<a title=\"About Us\" href=\"https://www.snopes.com/about-snopes/\" class=\"nav-link\" itemprop=\"url\">About Us</a>\\n\\n\\t\\t\\t\\n\\t\\t</div>\\n\\n\\t\\n\\t\\t\\n\\t\\t<div class=\"menu-item nav-item random\">\\n\\n\\t\\t\\t\\n\\t\\t\\t\\n\\t\\t\\t\\t<a title=\"Randomizer\" href=\"https://www.snopes.com/random\" class=\"nav-link\" itemprop=\"url\">Randomizer</a>\\n\\n\\t\\t\\t\\n\\t\\t</div>\\n\\n\\t</nav>\\n\\t\\t\\t\\t<div class=\"button-wrapper\">\\n\\t\\t\\t\\t\\t<button class=\"btn btn-block btn-primary\" data-dismiss=\"modal\">Close</button>\\n\\t\\t\\t\\t</div>\\n\\t\\t\\t</div>\\n\\t\\t</div>\\n\\t</div>\\n</div>\\n\\t<script id=\"smg-collections-nav\" type=\"text/x-handlebars-template\">\\n\\t\\t<div class=\"collection-nav\">\\n\\t\\t\\t<div class=\"container\">\\n\\t\\t\\t\\t<div class=\"row no-gutters\">\\n\\t\\t\\t\\t\\t<div class=\"col-12\">\\n\\t\\t\\t\\t\\t\\t<div class=\"meta\">\\n\\t\\t\\t\\t\\t\\t\\t<div class=\"count\">\\n\\t\\t\\t\\t\\t\\t\\t\\t<span class=\"icon\"><i class=\"fas fa-stream\"></i></span>\\n\\t\\t\\t\\t\\t\\t\\t\\t<span class=\"statement\">{{{collectionCurrentNum}}} OF {{{collectionTotal}}}</span>\\n\\t\\t\\t\\t\\t\\t\\t\\t<span class=\"label\">ARTICLES</span>\\n\\t\\t\\t\\t\\t\\t\\t</div>\\n\\t\\t\\t\\t\\t\\t\\t<div>\\n\\t\\t\\t\\t\\t\\t\\t\\t<a data-toggle=\"collapse\" href=\"#collapsePostNav\" role=\"button\" aria-expanded=\"false\" aria-controls=\"collapsePostNav\">\\n\\t\\t\\t\\t\\t\\t\\t\\t\\t<i class=\"fas fa-angle-down\"></i>\\n\\t\\t\\t\\t\\t\\t\\t\\t</a>\\n\\t\\t\\t\\t\\t\\t\\t</div>\\n\\t\\t\\t\\t\\t\\t</div>\\n\\t\\t\\t\\t\\t\\t<div class=\"collapse show\" id=\"collapsePostNav\">\\n\\t\\t\\t\\t\\t\\t\\t<div class=\"content\">\\n\\t\\t\\t\\t\\t\\t\\t\\t<h5 class=\"title\">{{{collectionTitle}}}</h5>\\n\\t\\t\\t\\t\\t\\t\\t</div>\\n\\t\\t\\t\\t\\t\\t\\t<nav class=\"pagination\">\\n\\t\\t\\t\\t\\t\\t\\t\\t<a href=\"{{{before.postPermalink}}}\" class=\"nav-btn previous\">\\n\\t\\t\\t\\t\\t\\t\\t\\t\\t<i class=\"fas fa-angle-left\"></i>\\n\\t\\t\\t\\t\\t\\t\\t\\t</a>\\n\\t\\t\\t\\t\\t\\t\\t\\t<a href=\"{{{after.postPermalink}}}\" class=\"nav-btn next\">\\n\\t\\t\\t\\t\\t\\t\\t\\t\\t<i class=\"fas fa-angle-right\"></i>\\n\\t\\t\\t\\t\\t\\t\\t\\t</a>\\n\\t\\t\\t\\t\\t\\t\\t</nav>\\n\\t\\t\\t\\t\\t\\t\\t<div class=\"footer\">\\n\\t\\t\\t\\t\\t\\t\\t\\t<p>You are viewing an article from a collection. <a href=\"{{{collectionPermalink}}}\">See the whole collection.</a></p>\\n\\t\\t\\t\\t\\t\\t\\t</div>\\n\\t\\t\\t\\t\\t\\t</div>\\n\\t\\t\\t\\t\\t</div>\\n\\t\\t\\t\\t</div>\\n\\t\\t\\t</div>\\n\\t\\t</div>\\n\\t</script>\\n\\n<div class=\"modal\" id=\"modal-support-buttons\" tabindex=\"-1\" role=\"dialog\" aria-labelledby=\"modal-support-buttons\" aria-hidden=\"true\">\\n\\t<div class=\"modal-dialog modal-dialog-centered\" role=\"document\">\\n\\t\\t<div class=\"modal-content\">\\n\\t\\t\\t<div class=\"modal-header\">\\n\\t\\t\\t\\t<h5 class=\"modal-title\" id=\"modal-support-buttons-title\">Support Us</h5>\\n\\t\\t\\t\\t<button type=\"button\" class=\"close\" data-dismiss=\"modal\" aria-label=\"Close\">\\n\\t\\t\\t\\t\\t<i class=\"fas fa-times\"></i>\\n\\t\\t\\t\\t</button>\\n\\t\\t\\t</div>\\n\\t\\t\\t<div class=\"modal-body\">\\n\\t\\t\\t\\t<div class=\"modal-text\">\\n\\t\\t\\t\\t\\tYou rely on Snopes, and we rely on you. Help preserve this vital resource. \\n\\t\\t\\t\\t</div>\\n\\t\\t\\t\\t<a class=\"btn btn-paypal\" id=\"btn-support-paypal\" target=\"_blank\" href=\"https://www.paypal.com/cgi-bin/webscr?cmd=_s-xclick&hosted_button_id=BPS6PDAXAHRQJ\" role=\"button\">Give with PayPal</a>\\n<a class=\"btn btn-gofundme\" id=\"btn-support-gfm\" target=\"_blank\" href=\"https://www.gofundme.com/savesnopes\" role=\"button\">Give with GoFundMe</a>\\n\\t\\t\\t</div>\\n\\t\\t</div>\\n\\t</div>\\n</div>\\n<div id=\"smg-zone-off-canvas-footer\" class=\"smg-zone smg-zone-off-canvas-footer\"><div class=\"smg-zone-group smg-zone-group-monetized-off-canvas-footer\"><div class=\"smg-zone-widget smg-zone-widget-ads-placement  \">\\n\\t<div class=\"PlacementWrapper\" data-ad-placement-id=\"sticky-1\">\\n\\t\\t\\t\\t\\t<div class=\"Placement-placeholder is-visible\">\\n\\t\\t\\t\\t<div class=\"Placement-loader\"></div>\\n\\t\\t\\t</div>\\n\\t\\t\\t<script type=\"text/javascript\">\\n\\t\\t\\t\\tsmg.ads.load( \\'sticky-1\\' );\\n\\t\\t\\t</script>\\n\\t\\t\\t</div>\\n\\n</div></div></div>\\n\\t</body>\\n\\n</html>\\n<!--\\n\\tgenerated in 0.769 seconds\\n\\t85439 bytes batcached for 300 seconds\\n-->\\n',\n",
              "  'id': 'webMD-2102578004',\n",
              "  'images': ['https://counter.theconversation.com/content/132489/count.gif?distributor=republish-lightbox-basic',\n",
              "   'https://www.snopes.com/content/themes/snopes/dist/images/logo-main-header.png',\n",
              "   'https://www.snopes.com/tachyon/2020/02/conv_epa.jpg',\n",
              "   'https://www.snopes.com/tachyon/2020/02/ss_virus.jpg',\n",
              "   'https://www.snopes.com/content/themes/snopes/dist/images/lazyload-placeholder.png',\n",
              "   'https://www.snopes.com/content/themes/snopes/dist/images/logo-s-crop-on.svg'],\n",
              "  'keywords': [],\n",
              "  'lang': 'en',\n",
              "  'meta_data': {'article': {'publisher': 'https://www.facebook.com/snopes'},\n",
              "   'description': 'Conspiracy theories that claim powerful actors are plotting something sinister to do with the virus have the potential to be just as dangerous for societies as the outbreak itself.',\n",
              "   'fb': {'app_id': {'$numberLong': '1637816429839563'}},\n",
              "   'msapplication-TileImage': 'https://www.snopes.com/tachyon/2018/06/16-SNO-001_Twitter_Profile_400x400_C.jpg?fit=270,270',\n",
              "   'og': {'description': 'Conspiracy theories that claim powerful actors are plotting something sinister to do with the virus have the potential to be just as dangerous for societies as the outbreak itself.',\n",
              "    'image': {'height': {'$numberInt': '800'},\n",
              "     'identifier': 'https://www.snopes.com/tachyon/2020/02/ss_virus.jpg',\n",
              "     'secure_url': 'https://www.snopes.com/tachyon/2020/02/ss_virus.jpg',\n",
              "     'width': {'$numberInt': '1200'}},\n",
              "    'locale': 'en_US',\n",
              "    'site_name': 'Snopes.com',\n",
              "    'title': 'Coronavirus Is a Breeding Ground for Conspiracy Theories',\n",
              "    'type': 'article',\n",
              "    'url': 'https://www.snopes.com/news/2020/02/28/coronavirus-is-a-breeding-ground-for-conspiracy-theories/'},\n",
              "   'robots': 'max-snippet:-1, max-image-preview:large, max-video-preview:-1',\n",
              "   'twitter': {'card': 'summary_large_image',\n",
              "    'creator': '@snopes',\n",
              "    'description': 'Conspiracy theories that claim powerful actors are plotting something sinister to do with the virus have the potential to be just as dangerous for societies as the outbreak itself.',\n",
              "    'image': 'https://www.snopes.com/tachyon/2020/02/ss_virus.jpg',\n",
              "    'site': '@snopes',\n",
              "    'title': 'Coronavirus Is a Breeding Ground for Conspiracy Theories'},\n",
              "   'viewport': 'width=device-width, initial-scale=1, shrink-to-fit=no'},\n",
              "  'movies': [],\n",
              "  'news_source': 'webMD',\n",
              "  'publish_date': {'$date': {'$numberLong': '1582848000000'}},\n",
              "  'source': 'https://www.snopes.com',\n",
              "  'summary': '',\n",
              "  'text': 'This article by Daniel Jolley and Pia Lamberty is republished here with permission from The Conversation. This content is shared here because the topic may interest Snopes readers; it does not, however, represent the work of Snopes fact-checkers or editors.\\n\\nThe novel coronavirus continues to spread around the world, with new cases being reported all the time. Spreading just as fast, it seems, are conspiracy theories that claim powerful actors are plotting something sinister to do with the virus. Our research into medical conspiracy theories shows that this has the potential to be just as dangerous for societies as the outbreak itself.\\n\\nOne conspiracy theory proposes that the coronavirus is actually a bio-weapon engineered by the CIA as a way to wage war on China. Others are convinced that the UK and US governments introduced the coronavirus as a way to make money from a potential vaccine.\\n\\nAlthough many of these conspiracy theories seem far-fetched, the belief that evil powers are pursuing a secret plan is widespread in every society. Often these relate to health. A large 2019 YouGov poll found 16% of respondents in Spain believe that HIV was created and spread around the world on purpose by a secret group or organisation. And 27% of French and 12% of British respondents were convinced that “the truth about the harmful effects of vaccines is being deliberately hidden from the public”.\\n\\nThe spread of fake news and conspiracy theories around the coronavirus is such a significant problem that the World Health Organisation (WHO) has created a “myth busters” webpage to try and tackle them.\\n\\nSpread of conspiracy theories\\n\\nResearch shows that conspiracy theories have a tendency to arise in relation to moments of crisis in society – like terrorist attacks, rapid political changes or economic crisis. Conspiracy theories bloom in periods of uncertainty and threat, where we seek to make sense of a chaotic world. These are the same conditions produced by virus outbreaks, which explains the spread of conspiracy theories in relation to coronavirus.\\n\\nSimilar conditions occurred with the 2015-16 outbreak of Zika virus. Zika conspiracy theories proposed that the virus was a biological weapon rather than a natural occurrence. Research examining comments on Reddit during the Zika virus outbreak found conspiracy talk emerged as a way for people to cope with the extreme uncertainty they felt over Zika.\\n\\nTrust in the recommendations from health professionals and organisations is an important resource for dealing with a health crisis. But people who believe in conspiracy theories generally do not trust groups they perceive as powerful, including managers, politicians and drug companies. If people do not trust, they are less likely to follow medical advice.\\n\\nResearchers have shown that medical conspiracy theories have the power to increase distrust in medical authorities, which can impact people’s willingness to protect themselves. People who endorse medical conspiracy theories are less likely to get vaccinated or use antibiotics and are more likely to take herbal supplements or vitamins. Plus, they are more likely to say they would trust medical advice from nonprofessionals such as friends and family.\\n\\nSevere consequences\\n\\nIn light of these results, people who endorse conspiracy theories about the coronavirus may be less likely to follow health advice like frequent hand-cleaning with alcohol-based hand rub or soap, or self-isolating after visiting at-risk areas.\\n\\nInstead, these people may be more likely to have negative attitudes towards prevention behaviour or use dangerous alternatives as treatments. This would increase the likelihood of the virus spreading and put more people in danger.\\n\\nAlready, we can see “alternative healing approaches” to coronavirus cropping up – some of them very dangerous. Promoters of the popular QAnon conspiracy theory, for example, have said the coronavirus was planned by the so-called “deep state” and claimed the virus can be warded off by drinking bleach.\\n\\nThe spread of medical conspiracy theories can also have severe consequences for other sections of society. For example, during the Black Death in Europe, Jews were scapegoated as responsible for the pandemic. These conspiracy theories led to violent attacks and massacres of Jewish communities all over Europe. The outbreak of the coronavirus has led to a worldwide increase in racist attacks targeted towards people perceived as East Asian.\\n\\nIt is possible to intervene and halt the spread of conspiracy theories, however. Research shows that campaigns promoting counterarguments to medical conspiracy theories are likely to have some success in rectifying conspiracy beliefs. Games such as Bad News, in which people can take the role of a fake news producer, have been shown to improve people’s ability to spot and resist misinformation.\\n\\nConspiracy theories can be very harmful for society. Not only can they influence people’s health choices, they can interfere with how different groups relate to each other and increase hostility and violence towards those who are perceived to be “conspiring”. So as well as acting to combat the spread of the coronavirus, governments should also act to stop misinformation and conspiracy theories relating to the virus from getting out of hand.\\n\\n\\n\\nDaniel Jolley, Senior Lecturer in Psychology, Northumbria University, Newcastle and Pia Lamberty, PhD Researcher in Social and Legal Psychology, Johannes Gutenberg University of Mainz\\n\\nThis article is republished from The Conversation under a Creative Commons license. Read the original article.',\n",
              "  'title': 'Coronavirus Is a Breeding Ground for Conspiracy Theories',\n",
              "  'top_img': 'https://www.snopes.com/tachyon/2020/02/ss_virus.jpg',\n",
              "  'url': 'www.snopes.com/news/2020/02/28/coronavirus-is-a-breeding-ground-for-conspiracy-theories/'},\n",
              " 'ref_source_url': 'https://www.snopes.com/news/2020/02/28/coronavirus-is-a-breeding-ground-for-conspiracy-theories/',\n",
              " 'statement': 'Coronavirus Is a Breeding Ground for Conspiracy Theories',\n",
              " 'time': {'$numberDouble': 'NaN'}}"
            ]
          },
          "metadata": {},
          "execution_count": 24
        }
      ]
    },
    {
      "cell_type": "code",
      "metadata": {
        "id": "lK8OqM2XxaJc"
      },
      "source": [
        "def get_text(data):\n",
        "  table = []\n",
        "  for i in range(len(data)):\n",
        "    if 'lang' in data[i]:\n",
        "      if data[i]['lang'] == 'en':\n",
        "        if 'ref_source' in data[i]:\n",
        "          text = data[i]['ref_source']['text']\n",
        "          table.append(text)\n",
        "  return table\n",
        "def get_statement(data):\n",
        "  table = []\n",
        "  for i in range(len(data)):\n",
        "    if 'lang' in data[i]:\n",
        "      if data[i]['lang'] == 'en':\n",
        "        if 'statement' in data[i]:\n",
        "          statement = data[i]['statement']\n",
        "          table.append(statement)\n",
        "  return table\n",
        "def get_label(data):\n",
        "  table = []\n",
        "  for i in range(len(data)):\n",
        "    if 'lang' in data[i]:\n",
        "      if data[i]['lang'] == 'en':\n",
        "        if 'label' in data[i]:\n",
        "          label = data[i]['label']\n",
        "          table.append(label)\n",
        "  return table\n",
        "def get_lang(data):\n",
        "  table = []\n",
        "  for i in range(len(data)):\n",
        "    if 'lang' in data[i]:\n",
        "      if data[i]['lang'] == 'en':\n",
        "        lang = data[i]['lang']\n",
        "        table.append(lang)\n",
        "  return table"
      ],
      "execution_count": null,
      "outputs": []
    },
    {
      "cell_type": "code",
      "metadata": {
        "id": "EQoXdG8g-OTW"
      },
      "source": [
        "label = get_label(data)\n",
        "statement = get_statement(data)\n",
        "text = get_text(data)\n",
        "lang = get_lang(data)"
      ],
      "execution_count": null,
      "outputs": []
    },
    {
      "cell_type": "code",
      "metadata": {
        "id": "py4ddq7V-csj"
      },
      "source": [
        "table = zip(statement,text,label)\n",
        "table = list(table)\n",
        "df = pd.DataFrame(table, columns =['statement','text','label'])"
      ],
      "execution_count": null,
      "outputs": []
    },
    {
      "cell_type": "code",
      "metadata": {
        "id": "F8Uec-qtkD4V"
      },
      "source": [
        "def get_langs(data):                                    \n",
        "  try:                                                          \n",
        "    lang = detect (data)\n",
        "    return lang                                   \n",
        "  except:                                                       \n",
        "    lang='no'                                                       \n",
        "    return lang"
      ],
      "execution_count": null,
      "outputs": []
    },
    {
      "cell_type": "code",
      "metadata": {
        "id": "K_LNFMwupiTQ"
      },
      "source": [
        "df['languages'] = df['text'].apply(lambda x: get_langs(x))"
      ],
      "execution_count": null,
      "outputs": []
    },
    {
      "cell_type": "code",
      "metadata": {
        "id": "aUH96CbQxpMQ"
      },
      "source": [
        "df_en = df[df['languages'] == 'en']"
      ],
      "execution_count": null,
      "outputs": []
    },
    {
      "cell_type": "code",
      "metadata": {
        "colab": {
          "base_uri": "https://localhost:8080/"
        },
        "id": "Em7bKsJJx8u3",
        "outputId": "981381d0-8b10-4514-dd09-16b75b3f040e"
      },
      "source": [
        "df_en['label'].value_counts()"
      ],
      "execution_count": null,
      "outputs": [
        {
          "output_type": "execute_result",
          "data": {
            "text/plain": [
              "real    4408\n",
              "fake    1133\n",
              "Name: label, dtype: int64"
            ]
          },
          "metadata": {},
          "execution_count": 14
        }
      ]
    },
    {
      "cell_type": "code",
      "metadata": {
        "colab": {
          "base_uri": "https://localhost:8080/",
          "height": 419
        },
        "id": "IH0kMuct0Dhe",
        "outputId": "0b42e89b-cc89-4cd2-9b7f-259ea7387ebf"
      },
      "source": [
        "df_en"
      ],
      "execution_count": null,
      "outputs": [
        {
          "output_type": "execute_result",
          "data": {
            "text/html": [
              "<div>\n",
              "<style scoped>\n",
              "    .dataframe tbody tr th:only-of-type {\n",
              "        vertical-align: middle;\n",
              "    }\n",
              "\n",
              "    .dataframe tbody tr th {\n",
              "        vertical-align: top;\n",
              "    }\n",
              "\n",
              "    .dataframe thead th {\n",
              "        text-align: right;\n",
              "    }\n",
              "</style>\n",
              "<table border=\"1\" class=\"dataframe\">\n",
              "  <thead>\n",
              "    <tr style=\"text-align: right;\">\n",
              "      <th></th>\n",
              "      <th>statement</th>\n",
              "      <th>text</th>\n",
              "      <th>label</th>\n",
              "      <th>languages</th>\n",
              "    </tr>\n",
              "  </thead>\n",
              "  <tbody>\n",
              "    <tr>\n",
              "      <th>0</th>\n",
              "      <td>Coronavirus Is a Breeding Ground for Conspirac...</td>\n",
              "      <td>This article by Daniel Jolley and Pia Lamberty...</td>\n",
              "      <td>real</td>\n",
              "      <td>en</td>\n",
              "    </tr>\n",
              "    <tr>\n",
              "      <th>1</th>\n",
              "      <td>COVID19 and PPE Some of Us Will Die</td>\n",
              "      <td>What your doctor is reading on Medscape.com:\\n...</td>\n",
              "      <td>real</td>\n",
              "      <td>en</td>\n",
              "    </tr>\n",
              "    <tr>\n",
              "      <th>2</th>\n",
              "      <td>Worldwide Number of COVID19 Cases Over 1 Million</td>\n",
              "      <td>April 3, 2020 - The global number of coronavir...</td>\n",
              "      <td>real</td>\n",
              "      <td>en</td>\n",
              "    </tr>\n",
              "    <tr>\n",
              "      <th>3</th>\n",
              "      <td>COVID19 Likely Seasonal</td>\n",
              "      <td>March 27, 2020 - COVID-19 will likely become s...</td>\n",
              "      <td>real</td>\n",
              "      <td>en</td>\n",
              "    </tr>\n",
              "    <tr>\n",
              "      <th>4</th>\n",
              "      <td>Mobile Apps for Coronavirus COVID19</td>\n",
              "      <td>The programs help you find what you need to kn...</td>\n",
              "      <td>real</td>\n",
              "      <td>en</td>\n",
              "    </tr>\n",
              "    <tr>\n",
              "      <th>...</th>\n",
              "      <td>...</td>\n",
              "      <td>...</td>\n",
              "      <td>...</td>\n",
              "      <td>...</td>\n",
              "    </tr>\n",
              "    <tr>\n",
              "      <th>7405</th>\n",
              "      <td>This is part of our coordinated response to th...</td>\n",
              "      <td>Commissioner @SKyriakidesEU met the Italian Mi...</td>\n",
              "      <td>real</td>\n",
              "      <td>en</td>\n",
              "    </tr>\n",
              "    <tr>\n",
              "      <th>7406</th>\n",
              "      <td>We will provide up to €90 million in funding f...</td>\n",
              "      <td>We are working on all fronts to support effort...</td>\n",
              "      <td>real</td>\n",
              "      <td>en</td>\n",
              "    </tr>\n",
              "    <tr>\n",
              "      <th>7407</th>\n",
              "      <td>Today we are launching the Corona response tea...</td>\n",
              "      <td>We are working around the clock to support EU ...</td>\n",
              "      <td>real</td>\n",
              "      <td>en</td>\n",
              "    </tr>\n",
              "    <tr>\n",
              "      <th>7408</th>\n",
              "      <td>This is our new dedicated webpage on #COVID19 ...</td>\n",
              "      <td>Statement on the EU’s response, preparedness a...</td>\n",
              "      <td>real</td>\n",
              "      <td>en</td>\n",
              "    </tr>\n",
              "    <tr>\n",
              "      <th>7409</th>\n",
              "      <td>Watch the press conference live from the EU Em...</td>\n",
              "      <td>The outbreak of #COVID19 epidemic: \\nThe EU is...</td>\n",
              "      <td>real</td>\n",
              "      <td>en</td>\n",
              "    </tr>\n",
              "  </tbody>\n",
              "</table>\n",
              "<p>5537 rows × 4 columns</p>\n",
              "</div>"
            ],
            "text/plain": [
              "                                              statement  ... languages\n",
              "0     Coronavirus Is a Breeding Ground for Conspirac...  ...        en\n",
              "1                   COVID19 and PPE Some of Us Will Die  ...        en\n",
              "2      Worldwide Number of COVID19 Cases Over 1 Million  ...        en\n",
              "3                               COVID19 Likely Seasonal  ...        en\n",
              "4                   Mobile Apps for Coronavirus COVID19  ...        en\n",
              "...                                                 ...  ...       ...\n",
              "7405  This is part of our coordinated response to th...  ...        en\n",
              "7406  We will provide up to €90 million in funding f...  ...        en\n",
              "7407  Today we are launching the Corona response tea...  ...        en\n",
              "7408  This is our new dedicated webpage on #COVID19 ...  ...        en\n",
              "7409  Watch the press conference live from the EU Em...  ...        en\n",
              "\n",
              "[5537 rows x 4 columns]"
            ]
          },
          "metadata": {},
          "execution_count": 20
        }
      ]
    },
    {
      "cell_type": "markdown",
      "metadata": {
        "id": "IKOF7HBRsUhp"
      },
      "source": [
        "## EDA"
      ]
    },
    {
      "cell_type": "markdown",
      "metadata": {
        "id": "srAKyWD5zowr"
      },
      "source": [
        "### Calculator sample "
      ]
    },
    {
      "cell_type": "code",
      "metadata": {
        "id": "XbHcXY0toJu0"
      },
      "source": [
        "# Create new columns convert label to number 1: real, 0: fake\n",
        "def fake_real(x):\n",
        "  if x == 'fake':\n",
        "    return 0\n",
        "  elif x == 'real':\n",
        "    return 1"
      ],
      "execution_count": null,
      "outputs": []
    },
    {
      "cell_type": "code",
      "metadata": {
        "id": "N4MhX62tocJZ",
        "colab": {
          "base_uri": "https://localhost:8080/"
        },
        "outputId": "7a525d5a-1347-4eae-9644-62eb2c3d057d"
      },
      "source": [
        "# Apply function fake_real\n",
        "df_en['target'] = df_en['label'].apply(fake_real)"
      ],
      "execution_count": null,
      "outputs": [
        {
          "output_type": "stream",
          "name": "stderr",
          "text": [
            "/usr/local/lib/python3.7/dist-packages/ipykernel_launcher.py:2: SettingWithCopyWarning: \n",
            "A value is trying to be set on a copy of a slice from a DataFrame.\n",
            "Try using .loc[row_indexer,col_indexer] = value instead\n",
            "\n",
            "See the caveats in the documentation: https://pandas.pydata.org/pandas-docs/stable/user_guide/indexing.html#returning-a-view-versus-a-copy\n",
            "  \n"
          ]
        }
      ]
    },
    {
      "cell_type": "code",
      "metadata": {
        "colab": {
          "base_uri": "https://localhost:8080/"
        },
        "id": "SKywae3mnAmP",
        "outputId": "a368f9f2-0386-4707-8d34-c56e8e92842e"
      },
      "source": [
        "# Check len of Real and Fake\n",
        "Real_len = df_en[df_en['target'] == 1].shape[0]\n",
        "Not_len = df_en[df_en['target'] == 0].shape[0]\n",
        "print(Real_len)\n",
        "print(Not_len)"
      ],
      "execution_count": null,
      "outputs": [
        {
          "output_type": "stream",
          "name": "stdout",
          "text": [
            "4408\n",
            "1133\n"
          ]
        }
      ]
    },
    {
      "cell_type": "code",
      "metadata": {
        "colab": {
          "base_uri": "https://localhost:8080/",
          "height": 337
        },
        "id": "qbOUUbPcrAeL",
        "outputId": "4b784965-992a-4371-8379-792766cc9b6d"
      },
      "source": [
        "# Plot to Barchart number fake and real\n",
        "plt.rcParams['figure.figsize'] = (7, 5)\n",
        "plt.bar(10,Real_len,3, label=\"real\", color='blue')\n",
        "plt.bar(15,Not_len,3, label=\"fake\", color='red')\n",
        "plt.legend()\n",
        "plt.ylabel('Number of examples')\n",
        "plt.title('Propertion of examples')\n",
        "plt.show()"
      ],
      "execution_count": null,
      "outputs": [
        {
          "output_type": "display_data",
          "data": {
            "image/png": "[encoded data removed]",
            "text/plain": [
              "<Figure size 504x360 with 1 Axes>"
            ]
          },
          "metadata": {}
        }
      ]
    },
    {
      "cell_type": "markdown",
      "metadata": {
        "id": "P0qddExIzyw7"
      },
      "source": [
        "### Number word in text"
      ]
    },
    {
      "cell_type": "code",
      "metadata": {
        "id": "qCJ9LEcYrlAm"
      },
      "source": [
        "# Function calculator len of each row text\n",
        "def length(text):    \n",
        "    '''a function which returns the length of text'''\n",
        "    return len(text)"
      ],
      "execution_count": null,
      "outputs": []
    },
    {
      "cell_type": "code",
      "metadata": {
        "id": "oHlIJK5VrnLz",
        "colab": {
          "base_uri": "https://localhost:8080/"
        },
        "outputId": "dbfd6a0f-fbf2-4ccc-ba2a-7848e410bd70"
      },
      "source": [
        "# Apply create new columns\n",
        "df_en['length'] = df_en['text'].apply(length)"
      ],
      "execution_count": null,
      "outputs": [
        {
          "output_type": "stream",
          "name": "stderr",
          "text": [
            "/usr/local/lib/python3.7/dist-packages/ipykernel_launcher.py:2: SettingWithCopyWarning: \n",
            "A value is trying to be set on a copy of a slice from a DataFrame.\n",
            "Try using .loc[row_indexer,col_indexer] = value instead\n",
            "\n",
            "See the caveats in the documentation: https://pandas.pydata.org/pandas-docs/stable/user_guide/indexing.html#returning-a-view-versus-a-copy\n",
            "  \n"
          ]
        }
      ]
    },
    {
      "cell_type": "code",
      "metadata": {
        "colab": {
          "base_uri": "https://localhost:8080/"
        },
        "id": "se6iAvmQtEFv",
        "outputId": "8153e6a5-2539-448a-9e8b-9f2971cd05ef"
      },
      "source": [
        "plt.rcParams['figure.figsize'] = (18.0, 6.0)\n",
        "bins = 150\n",
        "plt.hist(df_en[df_en['target'] == 0]['length'], alpha = 0.6, bins=bins, label='Fake')\n",
        "plt.hist(df_en[df_en['target'] == 1]['length'], alpha = 0.8, bins=bins, label='Real')\n",
        "plt.xlabel('length')\n",
        "plt.ylabel('numbers')\n",
        "plt.legend(loc='upper right')\n",
        "# plt.xlim(0,4000)\n",
        "plt.grid()\n",
        "plt.show()"
      ],
      "execution_count": null,
      "outputs": [
        {
          "output_type": "display_data",
          "data": {
            "image/png": "[encoded data removed]",
            "text/plain": [
              "<Figure size 1296x432 with 1 Axes>"
            ]
          },
          "metadata": {}
        }
      ]
    },
    {
      "cell_type": "code",
      "metadata": {
        "colab": {
          "base_uri": "https://localhost:8080/"
        },
        "id": "1qFes2z-HAQO",
        "outputId": "718e6491-ec78-49d5-c955-f1bf56180bee"
      },
      "source": [
        "df_en['length'].sort_values(ascending=False)"
      ],
      "execution_count": null,
      "outputs": [
        {
          "output_type": "execute_result",
          "data": {
            "text/plain": [
              "1466    100000\n",
              "1326    100000\n",
              "1488    100000\n",
              "1521     93024\n",
              "1337     92568\n",
              "         ...  \n",
              "1739        11\n",
              "6431        10\n",
              "5711        10\n",
              "6135         8\n",
              "6419         8\n",
              "Name: length, Length: 5541, dtype: int64"
            ]
          },
          "metadata": {},
          "execution_count": 22
        }
      ]
    },
    {
      "cell_type": "code",
      "metadata": {
        "id": "eid9IwMoQNUq"
      },
      "source": [
        "df_en = df_en[df_en.length != 0]"
      ],
      "execution_count": null,
      "outputs": []
    },
    {
      "cell_type": "code",
      "metadata": {
        "colab": {
          "base_uri": "https://localhost:8080/"
        },
        "id": "Xzpkmf1ZQtVM",
        "outputId": "768063e1-2a71-427f-b680-2ccfd47f328e"
      },
      "source": [
        "df_en"
      ],
      "execution_count": null,
      "outputs": [
        {
          "output_type": "execute_result",
          "data": {
            "text/html": [
              "<div>\n",
              "<style scoped>\n",
              "    .dataframe tbody tr th:only-of-type {\n",
              "        vertical-align: middle;\n",
              "    }\n",
              "\n",
              "    .dataframe tbody tr th {\n",
              "        vertical-align: top;\n",
              "    }\n",
              "\n",
              "    .dataframe thead th {\n",
              "        text-align: right;\n",
              "    }\n",
              "</style>\n",
              "<table border=\"1\" class=\"dataframe\">\n",
              "  <thead>\n",
              "    <tr style=\"text-align: right;\">\n",
              "      <th></th>\n",
              "      <th>statement</th>\n",
              "      <th>text</th>\n",
              "      <th>label</th>\n",
              "      <th>languages</th>\n",
              "      <th>target</th>\n",
              "      <th>length</th>\n",
              "    </tr>\n",
              "  </thead>\n",
              "  <tbody>\n",
              "    <tr>\n",
              "      <th>0</th>\n",
              "      <td>Coronavirus Is a Breeding Ground for Conspirac...</td>\n",
              "      <td>This article by Daniel Jolley and Pia Lamberty...</td>\n",
              "      <td>real</td>\n",
              "      <td>en</td>\n",
              "      <td>1</td>\n",
              "      <td>5625</td>\n",
              "    </tr>\n",
              "    <tr>\n",
              "      <th>1</th>\n",
              "      <td>COVID19 and PPE Some of Us Will Die</td>\n",
              "      <td>What your doctor is reading on Medscape.com:\\n...</td>\n",
              "      <td>real</td>\n",
              "      <td>en</td>\n",
              "      <td>1</td>\n",
              "      <td>2205</td>\n",
              "    </tr>\n",
              "    <tr>\n",
              "      <th>2</th>\n",
              "      <td>Worldwide Number of COVID19 Cases Over 1 Million</td>\n",
              "      <td>April 3, 2020 - The global number of coronavir...</td>\n",
              "      <td>real</td>\n",
              "      <td>en</td>\n",
              "      <td>1</td>\n",
              "      <td>565</td>\n",
              "    </tr>\n",
              "    <tr>\n",
              "      <th>3</th>\n",
              "      <td>COVID19 Likely Seasonal</td>\n",
              "      <td>March 27, 2020 - COVID-19 will likely become s...</td>\n",
              "      <td>real</td>\n",
              "      <td>en</td>\n",
              "      <td>1</td>\n",
              "      <td>887</td>\n",
              "    </tr>\n",
              "    <tr>\n",
              "      <th>4</th>\n",
              "      <td>Mobile Apps for Coronavirus COVID19</td>\n",
              "      <td>The programs help you find what you need to kn...</td>\n",
              "      <td>real</td>\n",
              "      <td>en</td>\n",
              "      <td>1</td>\n",
              "      <td>1853</td>\n",
              "    </tr>\n",
              "    <tr>\n",
              "      <th>...</th>\n",
              "      <td>...</td>\n",
              "      <td>...</td>\n",
              "      <td>...</td>\n",
              "      <td>...</td>\n",
              "      <td>...</td>\n",
              "      <td>...</td>\n",
              "    </tr>\n",
              "    <tr>\n",
              "      <th>7405</th>\n",
              "      <td>This is part of our coordinated response to th...</td>\n",
              "      <td>Commissioner @SKyriakidesEU met the Italian Mi...</td>\n",
              "      <td>real</td>\n",
              "      <td>en</td>\n",
              "      <td>1</td>\n",
              "      <td>287</td>\n",
              "    </tr>\n",
              "    <tr>\n",
              "      <th>7406</th>\n",
              "      <td>We will provide up to €90 million in funding f...</td>\n",
              "      <td>We are working on all fronts to support effort...</td>\n",
              "      <td>real</td>\n",
              "      <td>en</td>\n",
              "      <td>1</td>\n",
              "      <td>257</td>\n",
              "    </tr>\n",
              "    <tr>\n",
              "      <th>7407</th>\n",
              "      <td>Today we are launching the Corona response tea...</td>\n",
              "      <td>We are working around the clock to support EU ...</td>\n",
              "      <td>real</td>\n",
              "      <td>en</td>\n",
              "      <td>1</td>\n",
              "      <td>283</td>\n",
              "    </tr>\n",
              "    <tr>\n",
              "      <th>7408</th>\n",
              "      <td>This is our new dedicated webpage on #COVID19 ...</td>\n",
              "      <td>Statement on the EU’s response, preparedness a...</td>\n",
              "      <td>real</td>\n",
              "      <td>en</td>\n",
              "      <td>1</td>\n",
              "      <td>200</td>\n",
              "    </tr>\n",
              "    <tr>\n",
              "      <th>7409</th>\n",
              "      <td>Watch the press conference live from the EU Em...</td>\n",
              "      <td>The outbreak of #COVID19 epidemic: \\nThe EU is...</td>\n",
              "      <td>real</td>\n",
              "      <td>en</td>\n",
              "      <td>1</td>\n",
              "      <td>283</td>\n",
              "    </tr>\n",
              "  </tbody>\n",
              "</table>\n",
              "<p>5541 rows × 6 columns</p>\n",
              "</div>"
            ],
            "text/plain": [
              "                                              statement  ... length\n",
              "0     Coronavirus Is a Breeding Ground for Conspirac...  ...   5625\n",
              "1                   COVID19 and PPE Some of Us Will Die  ...   2205\n",
              "2      Worldwide Number of COVID19 Cases Over 1 Million  ...    565\n",
              "3                               COVID19 Likely Seasonal  ...    887\n",
              "4                   Mobile Apps for Coronavirus COVID19  ...   1853\n",
              "...                                                 ...  ...    ...\n",
              "7405  This is part of our coordinated response to th...  ...    287\n",
              "7406  We will provide up to €90 million in funding f...  ...    257\n",
              "7407  Today we are launching the Corona response tea...  ...    283\n",
              "7408  This is our new dedicated webpage on #COVID19 ...  ...    200\n",
              "7409  Watch the press conference live from the EU Em...  ...    283\n",
              "\n",
              "[5541 rows x 6 columns]"
            ]
          },
          "metadata": {},
          "execution_count": 24
        }
      ]
    },
    {
      "cell_type": "markdown",
      "metadata": {
        "id": "f-ofCNAqz83W"
      },
      "source": [
        "### Common stop word in text"
      ]
    },
    {
      "cell_type": "code",
      "metadata": {
        "id": "3YWbppfczQla"
      },
      "source": [
        "def create_corpus(target):\n",
        "    corpus=[]\n",
        "    \n",
        "    for x in df_en[df_en['target']==target]['text'].str.split():\n",
        "        for i in x:\n",
        "            corpus.append(i)\n",
        "    return corpus"
      ],
      "execution_count": null,
      "outputs": []
    },
    {
      "cell_type": "markdown",
      "metadata": {
        "id": "tjX8BWcV0_i7"
      },
      "source": [
        "* First we will analyze tweets with class 0."
      ]
    },
    {
      "cell_type": "code",
      "metadata": {
        "id": "cVlpUoavzS9b",
        "colab": {
          "base_uri": "https://localhost:8080/"
        },
        "outputId": "c46a5467-69c1-41c6-af4e-730164a6b6f7"
      },
      "source": [
        "corpus=create_corpus(0)\n",
        "\n",
        "dic=defaultdict(int)\n",
        "for word in corpus:\n",
        "    if word in stop:\n",
        "        dic[word]+=1\n",
        "        \n",
        "top_fake = sorted(dic.items(), key=lambda x:x[1],reverse=True)[:10]\n",
        "\n",
        "# Visulize stopword\n",
        "plt.rcParams['figure.figsize'] = (18.0, 6.0)\n",
        "x,y=zip(*top_fake)\n",
        "plt.bar(x,y)"
      ],
      "execution_count": null,
      "outputs": [
        {
          "output_type": "execute_result",
          "data": {
            "text/plain": [
              "<BarContainer object of 10 artists>"
            ]
          },
          "metadata": {},
          "execution_count": 26
        },
        {
          "output_type": "display_data",
          "data": {
            "image/png": "[encoded data removed]",
            "text/plain": [
              "<Figure size 1296x432 with 1 Axes>"
            ]
          },
          "metadata": {}
        }
      ]
    },
    {
      "cell_type": "code",
      "metadata": {
        "id": "VHIfaET-zdS5",
        "colab": {
          "base_uri": "https://localhost:8080/"
        },
        "outputId": "15ae54e8-cfdf-486d-d18f-47e80b95c0c1"
      },
      "source": [
        "# displaying the stopwords\n",
        "np.array(stop)"
      ],
      "execution_count": null,
      "outputs": [
        {
          "output_type": "execute_result",
          "data": {
            "text/plain": [
              "array({\"she's\", \"you'd\", 'once', 'nor', 'theirs', 'being', 'doing', 'why', 'as', 'because', 'above', 'if', 'don', 'down', 'can', 'their', 'mightn', 'off', 'while', 'some', 'below', 'have', 'weren', \"you've\", 'under', 'its', 'than', 'his', 'couldn', 'themselves', 'which', 'she', 'the', \"you'll\", 'they', 'herself', 'into', 'or', 'having', \"needn't\", 'each', 'when', 'ain', 'who', \"doesn't\", \"should've\", \"aren't\", 'hasn', \"wasn't\", 'an', 'out', 'and', 'then', 'has', 'll', 'now', 'all', 'through', \"mightn't\", 'is', 'where', 't', 'so', 'against', 'mustn', 'before', 'haven', 'any', 'hers', 'ourselves', 'these', 'no', 'not', 'you', \"couldn't\", 'had', \"weren't\", \"you're\", 'didn', 'to', 'over', 'by', 'did', 'do', 're', \"hadn't\", 'but', 's', 'just', 'o', \"it's\", 'won', 'yourself', 'hadn', 'been', 'whom', 'from', 'her', \"shan't\", 'ours', \"mustn't\", 'me', \"haven't\", 'shan', 'only', 'about', 'too', 'was', 'how', 'be', 'very', 'm', 'itself', 'are', 'most', \"that'll\", 'at', 'more', 'our', 'will', 'here', 'he', 'him', 'were', 'on', 'doesn', \"don't\", 'it', 'isn', 'we', 'aren', 'ma', 'needn', 'them', 'few', 'in', 'd', 'am', 'further', 'wouldn', 'own', 'same', 'wasn', 've', 'what', 'until', 'i', \"won't\", 'again', 'those', \"shouldn't\", 'there', 'both', \"didn't\", \"wouldn't\", 'this', 'of', 'during', 'such', 'for', 'a', 'your', 'up', 'himself', 'shouldn', 'yourselves', 'that', 'after', 'y', 'my', 'myself', 'should', \"isn't\", \"hasn't\", 'does', 'yours', 'with', 'other', 'between'},\n",
              "      dtype=object)"
            ]
          },
          "metadata": {},
          "execution_count": 27
        }
      ]
    },
    {
      "cell_type": "markdown",
      "metadata": {
        "id": "4yRKOcO01BdU"
      },
      "source": [
        "* Now, we will analyze tweets with class 1."
      ]
    },
    {
      "cell_type": "code",
      "metadata": {
        "id": "mcDhRFxH1G3A",
        "colab": {
          "base_uri": "https://localhost:8080/"
        },
        "outputId": "bc6d40d4-a194-48d4-f13f-63b04b957aa5"
      },
      "source": [
        "corpus = create_corpus(1)\n",
        "\n",
        "dic = defaultdict(int)\n",
        "for word in corpus:\n",
        "    if word in stop:\n",
        "        dic[word]+=1\n",
        "\n",
        "top_real = sorted(dic.items(), key=lambda x:x[1],reverse=True)[:10] \n",
        "    \n",
        "\n",
        "plt.rcParams['figure.figsize'] = (18.0, 6.0)\n",
        "x,y=zip(*top_real)\n",
        "plt.bar(x,y)\n",
        "plt.show()"
      ],
      "execution_count": null,
      "outputs": [
        {
          "output_type": "display_data",
          "data": {
            "image/png": "[encoded data removed]",
            "text/plain": [
              "<Figure size 1296x432 with 1 Axes>"
            ]
          },
          "metadata": {}
        }
      ]
    },
    {
      "cell_type": "markdown",
      "metadata": {
        "id": "0TTwIos22PQY"
      },
      "source": [
        "* In both of them,\"the\" and \"to\" dominates which is followed by \"of\" in class 0 and \"and\" in class 1."
      ]
    },
    {
      "cell_type": "markdown",
      "metadata": {
        "id": "o-w7NYqm3faW"
      },
      "source": [
        "### Analyzing punctuations"
      ]
    },
    {
      "cell_type": "markdown",
      "metadata": {
        "id": "efh2L2SL3omf"
      },
      "source": [
        "* First let's check in class 1"
      ]
    },
    {
      "cell_type": "code",
      "metadata": {
        "id": "XoLvVfF82Lky",
        "colab": {
          "base_uri": "https://localhost:8080/"
        },
        "outputId": "6bc32045-7008-4693-ead2-0ddc2ae9d96a"
      },
      "source": [
        "plt.figure(figsize=(16,5))\n",
        "corpus=create_corpus(1)\n",
        "\n",
        "dic=defaultdict(int)\n",
        "special = string.punctuation\n",
        "for i in (corpus):\n",
        "    if i in special:\n",
        "        dic[i]+=1\n",
        "        \n",
        "x,y=zip(*dic.items())\n",
        "plt.bar(x,y)\n",
        "plt.grid()\n",
        "plt.show()"
      ],
      "execution_count": null,
      "outputs": [
        {
          "output_type": "display_data",
          "data": {
            "image/png": "[encoded data removed]",
            "text/plain": [
              "<Figure size 1152x360 with 1 Axes>"
            ]
          },
          "metadata": {}
        }
      ]
    },
    {
      "cell_type": "markdown",
      "metadata": {
        "id": "qZGMi0M_4YSL"
      },
      "source": [
        "* Now, we will move on to class 0"
      ]
    },
    {
      "cell_type": "code",
      "metadata": {
        "id": "LE6uzVjb3eo1",
        "colab": {
          "base_uri": "https://localhost:8080/"
        },
        "outputId": "257239ac-4d0c-41e9-e58e-76232cbf7904"
      },
      "source": [
        "plt.figure(figsize=(16,5))\n",
        "corpus=create_corpus(0)\n",
        "dic=defaultdict(int)\n",
        "special = string.punctuation\n",
        "for i in (corpus):\n",
        "    if i in special:\n",
        "        dic[i]+=1\n",
        "        \n",
        "x,y=zip(*dic.items())\n",
        "plt.bar(x,y,color='green')\n",
        "plt.grid()\n",
        "plt.show()"
      ],
      "execution_count": null,
      "outputs": [
        {
          "output_type": "display_data",
          "data": {
            "image/png": "[encoded data removed]",
            "text/plain": [
              "<Figure size 1152x360 with 1 Axes>"
            ]
          },
          "metadata": {}
        }
      ]
    },
    {
      "cell_type": "markdown",
      "metadata": {
        "id": "LJ46d0RP5Auq"
      },
      "source": [
        "* Common Word\n"
      ]
    },
    {
      "cell_type": "code",
      "metadata": {
        "id": "G_ikzcNQ5Gm2",
        "colab": {
          "base_uri": "https://localhost:8080/"
        },
        "outputId": "04e319ee-0dc6-4227-9a4d-a0e9c9c6aecb"
      },
      "source": [
        "plt.figure(figsize=(16,5))\n",
        "counter=Counter(corpus)\n",
        "most=counter.most_common()\n",
        "x=[]\n",
        "y=[]\n",
        "for word,count in most[:40]:\n",
        "    if (word not in stop) :\n",
        "        x.append(word)\n",
        "        y.append(count)\n",
        "\n",
        "sns.barplot(x=y,y=x)\n",
        "plt.show()"
      ],
      "execution_count": null,
      "outputs": [
        {
          "output_type": "display_data",
          "data": {
            "image/png": "[encoded data removed]",
            "text/plain": [
              "<Figure size 1152x360 with 1 Axes>"
            ]
          },
          "metadata": {}
        }
      ]
    },
    {
      "cell_type": "markdown",
      "metadata": {
        "id": "1uZABmuX6AVR"
      },
      "source": [
        "* we will do a bigram (n=2) analysis over the text. Let's check the most common bigrams in text."
      ]
    },
    {
      "cell_type": "code",
      "metadata": {
        "id": "VDGwUdjY5P5a"
      },
      "source": [
        "def get_top_word_bigrams(corpus, n=None):\n",
        "    vec = CountVectorizer(ngram_range=(2, 2)).fit(corpus)\n",
        "    bag_of_words = vec.transform(corpus)\n",
        "    sum_words = bag_of_words.sum(axis=0) \n",
        "    words_freq = [(word, sum_words[0, idx]) for word, idx in vec.vocabulary_.items()]\n",
        "    words_freq = sorted(words_freq, key = lambda x: x[1], reverse=True)\n",
        "    return words_freq[:n]"
      ],
      "execution_count": null,
      "outputs": []
    },
    {
      "cell_type": "code",
      "metadata": {
        "id": "WYxbaBPw5mLO",
        "colab": {
          "base_uri": "https://localhost:8080/"
        },
        "outputId": "40daf832-b9f6-4c58-c0de-73de26aa3e7a"
      },
      "source": [
        "plt.figure(figsize=(16,5))\n",
        "top_word_bigrams=get_top_word_bigrams(df_en['text'])[:10]\n",
        "x,y=map(list,zip(*top_word_bigrams))\n",
        "sns.barplot(x=y,y=x)"
      ],
      "execution_count": null,
      "outputs": [
        {
          "output_type": "execute_result",
          "data": {
            "text/plain": [
              "<matplotlib.axes._subplots.AxesSubplot at 0x7fd76fe3bd90>"
            ]
          },
          "metadata": {},
          "execution_count": 39
        },
        {
          "output_type": "display_data",
          "data": {
            "image/png": "[encoded data removed]",
            "text/plain": [
              "<Figure size 1152x360 with 1 Axes>"
            ]
          },
          "metadata": {}
        }
      ]
    },
    {
      "cell_type": "markdown",
      "metadata": {
        "id": "Yf4vPNHy7ug3"
      },
      "source": [
        "### Removing punctuations"
      ]
    },
    {
      "cell_type": "code",
      "metadata": {
        "id": "_UYblEC-7Cjd"
      },
      "source": [
        "def remove_punct(text):\n",
        "    table=str.maketrans('','',string.punctuation)\n",
        "    return text.translate(table)"
      ],
      "execution_count": null,
      "outputs": []
    },
    {
      "cell_type": "code",
      "metadata": {
        "id": "tN6ARfBC77Xb"
      },
      "source": [
        "df_en['text'] = df_en['text'].apply(lambda x : remove_punct(x))"
      ],
      "execution_count": null,
      "outputs": []
    },
    {
      "cell_type": "code",
      "metadata": {
        "id": "NnpGI0DkIMs0"
      },
      "source": [
        "df_en['text_without_stopwords'] = df_en['text'].apply(lambda x: ' '.join([word for word in x.split() if word not in (stop)]))"
      ],
      "execution_count": null,
      "outputs": []
    },
    {
      "cell_type": "code",
      "metadata": {
        "id": "7LHh5cad_L9K"
      },
      "source": [
        "def stopwords_lemma_stemming(data):\n",
        "  newscolumns = ' '.join([word for word in data.split() if word not in (stop)])\n",
        "  newscolumns = ' '.join([lemmatizer.lemmatize(w, get_wordnet_pos(w)) for w in nltk.word_tokenize(newscolumns)])\n",
        "  newscolumns = stemSentence(newscolumns)\n",
        "  return newscolumns"
      ],
      "execution_count": null,
      "outputs": []
    },
    {
      "cell_type": "code",
      "metadata": {
        "id": "69QbgKXtDoXj"
      },
      "source": [
        "df_en['text_EDA'] = df_en['text'].apply(lambda x: stopwords_lemma_stemming(x))"
      ],
      "execution_count": null,
      "outputs": []
    },
    {
      "cell_type": "markdown",
      "metadata": {
        "id": "rljwB62mVwni"
      },
      "source": [
        "* Lemma"
      ]
    },
    {
      "cell_type": "code",
      "metadata": {
        "id": "g6dHNLDUVzsa"
      },
      "source": [
        "lemmatizer = WordNetLemmatizer()\n",
        "porter = PorterStemmer()\n",
        "lancaster=LancasterStemmer()"
      ],
      "execution_count": null,
      "outputs": []
    },
    {
      "cell_type": "code",
      "metadata": {
        "id": "7803oAe7DB2b"
      },
      "source": [
        "# 1. Init Lemmatizer\n",
        "lemmatizer = WordNetLemmatizer()\n",
        "\n",
        "def get_wordnet_pos(word):\n",
        "    \"\"\"Map POS tag to first character lemmatize() accepts\"\"\"\n",
        "    tag = nltk.pos_tag([word])[0][1][0].upper()\n",
        "    tag_dict = {\"J\": wordnet.ADJ,\n",
        "                \"N\": wordnet.NOUN,\n",
        "                \"V\": wordnet.VERB,\n",
        "                \"R\": wordnet.ADV}\n",
        "    return tag_dict.get(tag, wordnet.NOUN)\n",
        "\n",
        "def lemma(x):\n",
        "  lemma = ' '.join([lemmatizer.lemmatize(w, get_wordnet_pos(w)) for w in nltk.word_tokenize(x)])\n",
        "  return lemma\n",
        "  \n",
        "def stemSentence(sentence):\n",
        "    token_words=word_tokenize(sentence)\n",
        "    stem_sentence=[]\n",
        "    for word in token_words:\n",
        "        stem_sentence.append(porter.stem(word))\n",
        "        stem_sentence.append(\" \")\n",
        "    return \"\".join(stem_sentence)\n",
        "    \n",
        "def stem(x):\n",
        "    y = stemSentence(x)\n",
        "    return y"
      ],
      "execution_count": null,
      "outputs": []
    },
    {
      "cell_type": "code",
      "metadata": {
        "id": "9lD6aXKcEuQt"
      },
      "source": [
        "df_en['lemma'] = df_en['text_without_stopwords'].apply(lambda x: lemma(x))"
      ],
      "execution_count": null,
      "outputs": []
    },
    {
      "cell_type": "code",
      "metadata": {
        "id": "BLXD-6jqlCI6"
      },
      "source": [
        "# df_en[df_en['lemma'].str.match('^http.*')== True]"
      ],
      "execution_count": null,
      "outputs": []
    },
    {
      "cell_type": "code",
      "metadata": {
        "id": "VitW4Wjgjf-H"
      },
      "source": [
        "# df_en[df_en['text'].str.match('^http.*')== True]"
      ],
      "execution_count": null,
      "outputs": []
    },
    {
      "cell_type": "code",
      "metadata": {
        "id": "q9AdrC3Nj6Gq"
      },
      "source": [
        "# df_en['text'] = df_en['text'].apply(lambda x: re.sub(r\"(^http.*)\", \"\", x))"
      ],
      "execution_count": null,
      "outputs": []
    },
    {
      "cell_type": "code",
      "metadata": {
        "colab": {
          "base_uri": "https://localhost:8080/",
          "height": 289
        },
        "id": "zQcgj8GnrYdd",
        "outputId": "75b6b546-789c-4fab-f596-bae840a7aa9d"
      },
      "source": [
        "df_en.head()"
      ],
      "execution_count": null,
      "outputs": [
        {
          "output_type": "execute_result",
          "data": {
            "text/html": [
              "<div>\n",
              "<style scoped>\n",
              "    .dataframe tbody tr th:only-of-type {\n",
              "        vertical-align: middle;\n",
              "    }\n",
              "\n",
              "    .dataframe tbody tr th {\n",
              "        vertical-align: top;\n",
              "    }\n",
              "\n",
              "    .dataframe thead th {\n",
              "        text-align: right;\n",
              "    }\n",
              "</style>\n",
              "<table border=\"1\" class=\"dataframe\">\n",
              "  <thead>\n",
              "    <tr style=\"text-align: right;\">\n",
              "      <th></th>\n",
              "      <th>statement</th>\n",
              "      <th>text</th>\n",
              "      <th>label</th>\n",
              "      <th>languages</th>\n",
              "      <th>target</th>\n",
              "      <th>length</th>\n",
              "      <th>text_without_stopwords</th>\n",
              "      <th>lemma</th>\n",
              "    </tr>\n",
              "  </thead>\n",
              "  <tbody>\n",
              "    <tr>\n",
              "      <th>0</th>\n",
              "      <td>Coronavirus Is a Breeding Ground for Conspirac...</td>\n",
              "      <td>This article by Daniel Jolley and Pia Lamberty...</td>\n",
              "      <td>real</td>\n",
              "      <td>en</td>\n",
              "      <td>1</td>\n",
              "      <td>5625</td>\n",
              "      <td>This article Daniel Jolley Pia Lamberty republ...</td>\n",
              "      <td>This article Daniel Jolley Pia Lamberty republ...</td>\n",
              "    </tr>\n",
              "    <tr>\n",
              "      <th>1</th>\n",
              "      <td>COVID19 and PPE Some of Us Will Die</td>\n",
              "      <td>What your doctor is reading on Medscapecom\\n\\n...</td>\n",
              "      <td>real</td>\n",
              "      <td>en</td>\n",
              "      <td>1</td>\n",
              "      <td>2205</td>\n",
              "      <td>What doctor reading Medscapecom MARCH 20 2020 ...</td>\n",
              "      <td>What doctor reading Medscapecom MARCH 20 2020 ...</td>\n",
              "    </tr>\n",
              "    <tr>\n",
              "      <th>2</th>\n",
              "      <td>Worldwide Number of COVID19 Cases Over 1 Million</td>\n",
              "      <td>April 3 2020  The global number of coronavirus...</td>\n",
              "      <td>real</td>\n",
              "      <td>en</td>\n",
              "      <td>1</td>\n",
              "      <td>565</td>\n",
              "      <td>April 3 2020 The global number coronavirus cas...</td>\n",
              "      <td>April 3 2020 The global number coronavirus cas...</td>\n",
              "    </tr>\n",
              "    <tr>\n",
              "      <th>3</th>\n",
              "      <td>COVID19 Likely Seasonal</td>\n",
              "      <td>March 27 2020  COVID19 will likely become seas...</td>\n",
              "      <td>real</td>\n",
              "      <td>en</td>\n",
              "      <td>1</td>\n",
              "      <td>887</td>\n",
              "      <td>March 27 2020 COVID19 likely become seasonal s...</td>\n",
              "      <td>March 27 2020 COVID19 likely become seasonal s...</td>\n",
              "    </tr>\n",
              "    <tr>\n",
              "      <th>4</th>\n",
              "      <td>Mobile Apps for Coronavirus COVID19</td>\n",
              "      <td>The programs help you find what you need to kn...</td>\n",
              "      <td>real</td>\n",
              "      <td>en</td>\n",
              "      <td>1</td>\n",
              "      <td>1853</td>\n",
              "      <td>The programs help find need know virus several...</td>\n",
              "      <td>The program help find need know virus several ...</td>\n",
              "    </tr>\n",
              "  </tbody>\n",
              "</table>\n",
              "</div>"
            ],
            "text/plain": [
              "                                           statement  ...                                              lemma\n",
              "0  Coronavirus Is a Breeding Ground for Conspirac...  ...  This article Daniel Jolley Pia Lamberty republ...\n",
              "1                COVID19 and PPE Some of Us Will Die  ...  What doctor reading Medscapecom MARCH 20 2020 ...\n",
              "2   Worldwide Number of COVID19 Cases Over 1 Million  ...  April 3 2020 The global number coronavirus cas...\n",
              "3                            COVID19 Likely Seasonal  ...  March 27 2020 COVID19 likely become seasonal s...\n",
              "4                Mobile Apps for Coronavirus COVID19  ...  The program help find need know virus several ...\n",
              "\n",
              "[5 rows x 8 columns]"
            ]
          },
          "metadata": {},
          "execution_count": 50
        }
      ]
    },
    {
      "cell_type": "code",
      "metadata": {
        "colab": {
          "base_uri": "https://localhost:8080/"
        },
        "id": "dqJDWNMEew1Q",
        "outputId": "8a9170da-ea11-4a56-e0e2-e2cfccb17465"
      },
      "source": [
        "df_en.isna().sum()"
      ],
      "execution_count": null,
      "outputs": [
        {
          "output_type": "execute_result",
          "data": {
            "text/plain": [
              "statement                 0\n",
              "text                      0\n",
              "label                     0\n",
              "languages                 0\n",
              "target                    0\n",
              "length                    0\n",
              "text_without_stopwords    0\n",
              "lemma                     0\n",
              "stemming                  0\n",
              "text_EDA                  0\n",
              "dtype: int64"
            ]
          },
          "metadata": {},
          "execution_count": 74
        }
      ]
    },
    {
      "cell_type": "markdown",
      "metadata": {
        "id": "3H-FXS-mzK0f"
      },
      "source": [
        "* Stemming\n"
      ]
    },
    {
      "cell_type": "code",
      "metadata": {
        "id": "Bi1X90Tr1iA-"
      },
      "source": [
        "from nltk.tokenize import sent_tokenize, word_tokenize\n",
        "def stemSentence(sentence):\n",
        "    token_words=word_tokenize(sentence)\n",
        "    stem_sentence=[]\n",
        "    for word in token_words:\n",
        "        stem_sentence.append(porter.stem(word))\n",
        "        stem_sentence.append(\" \")\n",
        "    return \"\".join(stem_sentence)\n",
        "    \n",
        "def stem(x):\n",
        "    y=stemSentence(x)\n",
        "    return y"
      ],
      "execution_count": null,
      "outputs": []
    },
    {
      "cell_type": "code",
      "metadata": {
        "id": "4fPi0vZV6nxm"
      },
      "source": [
        "df_en['stemming'] = df_en['text_without_stopwords'].apply(lambda x: stem(x))"
      ],
      "execution_count": null,
      "outputs": []
    },
    {
      "cell_type": "code",
      "metadata": {
        "colab": {
          "base_uri": "https://localhost:8080/",
          "height": 289
        },
        "id": "L0LUnB6168tf",
        "outputId": "750172ae-6815-4e8d-f1d9-2ac56c0dae97"
      },
      "source": [
        "df_en.head()"
      ],
      "execution_count": null,
      "outputs": [
        {
          "output_type": "execute_result",
          "data": {
            "text/html": [
              "<div>\n",
              "<style scoped>\n",
              "    .dataframe tbody tr th:only-of-type {\n",
              "        vertical-align: middle;\n",
              "    }\n",
              "\n",
              "    .dataframe tbody tr th {\n",
              "        vertical-align: top;\n",
              "    }\n",
              "\n",
              "    .dataframe thead th {\n",
              "        text-align: right;\n",
              "    }\n",
              "</style>\n",
              "<table border=\"1\" class=\"dataframe\">\n",
              "  <thead>\n",
              "    <tr style=\"text-align: right;\">\n",
              "      <th></th>\n",
              "      <th>statement</th>\n",
              "      <th>text</th>\n",
              "      <th>label</th>\n",
              "      <th>languages</th>\n",
              "      <th>target</th>\n",
              "      <th>length</th>\n",
              "      <th>text_without_stopwords</th>\n",
              "      <th>lemma</th>\n",
              "      <th>stemming</th>\n",
              "    </tr>\n",
              "  </thead>\n",
              "  <tbody>\n",
              "    <tr>\n",
              "      <th>0</th>\n",
              "      <td>Coronavirus Is a Breeding Ground for Conspirac...</td>\n",
              "      <td>This article by Daniel Jolley and Pia Lamberty...</td>\n",
              "      <td>real</td>\n",
              "      <td>en</td>\n",
              "      <td>1</td>\n",
              "      <td>5625</td>\n",
              "      <td>This article Daniel Jolley Pia Lamberty republ...</td>\n",
              "      <td>This article Daniel Jolley Pia Lamberty republ...</td>\n",
              "      <td>thi articl daniel jolley pia lamberti republis...</td>\n",
              "    </tr>\n",
              "    <tr>\n",
              "      <th>1</th>\n",
              "      <td>COVID19 and PPE Some of Us Will Die</td>\n",
              "      <td>What your doctor is reading on Medscapecom\\n\\n...</td>\n",
              "      <td>real</td>\n",
              "      <td>en</td>\n",
              "      <td>1</td>\n",
              "      <td>2205</td>\n",
              "      <td>What doctor reading Medscapecom MARCH 20 2020 ...</td>\n",
              "      <td>What doctor reading Medscapecom MARCH 20 2020 ...</td>\n",
              "      <td>what doctor read medscapecom march 20 2020 I r...</td>\n",
              "    </tr>\n",
              "    <tr>\n",
              "      <th>2</th>\n",
              "      <td>Worldwide Number of COVID19 Cases Over 1 Million</td>\n",
              "      <td>April 3 2020  The global number of coronavirus...</td>\n",
              "      <td>real</td>\n",
              "      <td>en</td>\n",
              "      <td>1</td>\n",
              "      <td>565</td>\n",
              "      <td>April 3 2020 The global number coronavirus cas...</td>\n",
              "      <td>April 3 2020 The global number coronavirus cas...</td>\n",
              "      <td>april 3 2020 the global number coronaviru case...</td>\n",
              "    </tr>\n",
              "    <tr>\n",
              "      <th>3</th>\n",
              "      <td>COVID19 Likely Seasonal</td>\n",
              "      <td>March 27 2020  COVID19 will likely become seas...</td>\n",
              "      <td>real</td>\n",
              "      <td>en</td>\n",
              "      <td>1</td>\n",
              "      <td>887</td>\n",
              "      <td>March 27 2020 COVID19 likely become seasonal s...</td>\n",
              "      <td>March 27 2020 COVID19 likely become seasonal s...</td>\n",
              "      <td>march 27 2020 covid19 like becom season said a...</td>\n",
              "    </tr>\n",
              "    <tr>\n",
              "      <th>4</th>\n",
              "      <td>Mobile Apps for Coronavirus COVID19</td>\n",
              "      <td>The programs help you find what you need to kn...</td>\n",
              "      <td>real</td>\n",
              "      <td>en</td>\n",
              "      <td>1</td>\n",
              "      <td>1853</td>\n",
              "      <td>The programs help find need know virus several...</td>\n",
              "      <td>The program help find need know virus several ...</td>\n",
              "      <td>the program help find need know viru sever way...</td>\n",
              "    </tr>\n",
              "  </tbody>\n",
              "</table>\n",
              "</div>"
            ],
            "text/plain": [
              "                                           statement  ...                                           stemming\n",
              "0  Coronavirus Is a Breeding Ground for Conspirac...  ...  thi articl daniel jolley pia lamberti republis...\n",
              "1                COVID19 and PPE Some of Us Will Die  ...  what doctor read medscapecom march 20 2020 I r...\n",
              "2   Worldwide Number of COVID19 Cases Over 1 Million  ...  april 3 2020 the global number coronaviru case...\n",
              "3                            COVID19 Likely Seasonal  ...  march 27 2020 covid19 like becom season said a...\n",
              "4                Mobile Apps for Coronavirus COVID19  ...  the program help find need know viru sever way...\n",
              "\n",
              "[5 rows x 9 columns]"
            ]
          },
          "metadata": {},
          "execution_count": 53
        }
      ]
    },
    {
      "cell_type": "code",
      "metadata": {
        "colab": {
          "base_uri": "https://localhost:8080/"
        },
        "id": "dBCz97iSRfRK",
        "outputId": "ecf36392-1351-45f4-8715-c4febec5cd8d"
      },
      "source": [
        "df_en.info()"
      ],
      "execution_count": null,
      "outputs": [
        {
          "output_type": "stream",
          "name": "stdout",
          "text": [
            "<class 'pandas.core.frame.DataFrame'>\n",
            "Int64Index: 5537 entries, 0 to 7409\n",
            "Data columns (total 9 columns):\n",
            " #   Column                  Non-Null Count  Dtype \n",
            "---  ------                  --------------  ----- \n",
            " 0   statement               5537 non-null   object\n",
            " 1   text                    5537 non-null   object\n",
            " 2   label                   5537 non-null   object\n",
            " 3   languages               5537 non-null   object\n",
            " 4   target                  5537 non-null   int64 \n",
            " 5   length                  5537 non-null   int64 \n",
            " 6   text_without_stopwords  5537 non-null   object\n",
            " 7   lemma                   5537 non-null   object\n",
            " 8   stemming                5537 non-null   object\n",
            "dtypes: int64(2), object(7)\n",
            "memory usage: 432.6+ KB\n"
          ]
        }
      ]
    },
    {
      "cell_type": "code",
      "metadata": {
        "id": "8VHSEJ4QEZdQ"
      },
      "source": [
        "df_en.to_csv(\"fake_real_COVID.csv\")"
      ],
      "execution_count": null,
      "outputs": []
    },
    {
      "cell_type": "markdown",
      "metadata": {
        "id": "Dlla4yRz8Lyc"
      },
      "source": [
        "## WordCloud"
      ]
    },
    {
      "cell_type": "markdown",
      "metadata": {
        "id": "8DQhOX4c8tX0"
      },
      "source": [
        "### Wordcloud in class 1"
      ]
    },
    {
      "cell_type": "code",
      "metadata": {
        "id": "gWm4y_8O8cPN"
      },
      "source": [
        "def create_corpus_df_en(df_en, target):\n",
        "    corpus=[]\n",
        "    \n",
        "    for x in df_en[df_en['target']==target]['text_without_stopwords'].str.split():\n",
        "        for i in x:\n",
        "            corpus.append(i)\n",
        "    return corpus"
      ],
      "execution_count": null,
      "outputs": []
    },
    {
      "cell_type": "code",
      "metadata": {
        "id": "eEnVqX7d8JGl"
      },
      "source": [
        "corpus_new1=create_corpus_df_en(df_en,1)\n",
        "len(corpus_new1)"
      ],
      "execution_count": null,
      "outputs": []
    },
    {
      "cell_type": "code",
      "metadata": {
        "id": "lda6OcjP8TDJ"
      },
      "source": [
        "corpus_new1[:10]"
      ],
      "execution_count": null,
      "outputs": []
    },
    {
      "cell_type": "code",
      "metadata": {
        "id": "F7lkZEon8iMD"
      },
      "source": [
        "# Generating the wordcloud with the values under the category dataframe\n",
        "plt.figure(figsize=(12,10))\n",
        "word_cloud = WordCloud(\n",
        "                          background_color='black',\n",
        "                          max_font_size = 80\n",
        "                         ).generate(\" \".join(corpus_new1[:50]))\n",
        "plt.imshow(word_cloud)\n",
        "plt.axis('off')\n",
        "plt.show()"
      ],
      "execution_count": null,
      "outputs": []
    },
    {
      "cell_type": "markdown",
      "metadata": {
        "id": "od5ugWAX8yl9"
      },
      "source": [
        "### Wordcloud in class 0"
      ]
    },
    {
      "cell_type": "code",
      "metadata": {
        "id": "9zCRX3bU84EO"
      },
      "source": [
        "corpus_new0=create_corpus_df_en(df_en,0)\n",
        "len(corpus_new0)"
      ],
      "execution_count": null,
      "outputs": []
    },
    {
      "cell_type": "code",
      "metadata": {
        "id": "fK9N2qu985Py"
      },
      "source": [
        "corpus_new0[:10]"
      ],
      "execution_count": null,
      "outputs": []
    },
    {
      "cell_type": "code",
      "metadata": {
        "id": "bt3CcgfU87AN"
      },
      "source": [
        "# Generating the wordcloud with the values under the category dataframe\n",
        "plt.figure(figsize=(12,10))\n",
        "word_cloud = WordCloud(\n",
        "                          background_color='black',\n",
        "                          max_font_size = 80\n",
        "                         ).generate(\" \".join(corpus_new0[:50]))\n",
        "plt.imshow(word_cloud)\n",
        "plt.axis('off')\n",
        "plt.show()"
      ],
      "execution_count": null,
      "outputs": []
    },
    {
      "cell_type": "code",
      "metadata": {
        "id": "MTCeUlzDq9cI"
      },
      "source": [
        "airline_totals_sorted.to_csv(\"airline_totals_sorted.csv\")"
      ],
      "execution_count": null,
      "outputs": []
    }
  ]
}